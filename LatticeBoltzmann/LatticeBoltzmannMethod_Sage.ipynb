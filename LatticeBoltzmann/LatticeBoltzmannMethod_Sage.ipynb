{
 "cells": [
  {
   "cell_type": "code",
   "execution_count": 323,
   "metadata": {
    "collapsed": true
   },
   "outputs": [],
   "source": [
    "from itertools import combinations, combinations_with_replacement"
   ]
  },
  {
   "cell_type": "code",
   "execution_count": 326,
   "metadata": {
    "collapsed": true
   },
   "outputs": [],
   "source": [
    "import numpy as np"
   ]
  },
  {
   "cell_type": "markdown",
   "metadata": {},
   "source": [
    "# Lattice Boltzmann Method\n",
    "## Using Sage Math"
   ]
  },
  {
   "cell_type": "code",
   "execution_count": 7,
   "metadata": {
    "collapsed": false
   },
   "outputs": [],
   "source": [
    "A_R__1 = AffineSpace(1,RR,names='t')"
   ]
  },
  {
   "cell_type": "code",
   "execution_count": 8,
   "metadata": {
    "collapsed": true
   },
   "outputs": [],
   "source": [
    "A_R__2.<x,y> = AffineSpace(2,RR)"
   ]
  },
  {
   "cell_type": "code",
   "execution_count": 9,
   "metadata": {
    "collapsed": true
   },
   "outputs": [],
   "source": [
    "A_R__3.<x,y,z> = AffineSpace(3,RR)"
   ]
  },
  {
   "cell_type": "code",
   "execution_count": 14,
   "metadata": {
    "collapsed": false
   },
   "outputs": [
    {
     "ename": "NotImplementedError",
     "evalue": "self must be affine space over a number field.",
     "output_type": "error",
     "traceback": [
      "\u001b[1;31m---------------------------------------------------------------------------\u001b[0m",
      "\u001b[1;31mNotImplementedError\u001b[0m                       Traceback (most recent call last)",
      "\u001b[1;32m<ipython-input-14-f92c0a8f1fc7>\u001b[0m in \u001b[0;36m<module>\u001b[1;34m()\u001b[0m\n\u001b[1;32m----> 1\u001b[1;33m \u001b[1;33m[\u001b[0m\u001b[0m_\u001b[0m \u001b[1;32mfor\u001b[0m \u001b[0m_\u001b[0m \u001b[1;32min\u001b[0m \u001b[0mA_R__3\u001b[0m\u001b[1;33m.\u001b[0m\u001b[0mpoints_of_bounded_height\u001b[0m\u001b[1;33m(\u001b[0m\u001b[0mRealNumber\u001b[0m\u001b[1;33m(\u001b[0m\u001b[1;34m'3.0'\u001b[0m\u001b[1;33m)\u001b[0m\u001b[1;33m)\u001b[0m\u001b[1;33m]\u001b[0m\u001b[1;33m\u001b[0m\u001b[0m\n\u001b[0m",
      "\u001b[1;32m/home/topolo/Public/sage/local/lib/python2.7/site-packages/sage/schemes/affine/affine_space.pyc\u001b[0m in \u001b[0;36mpoints_of_bounded_height\u001b[1;34m(self, bound)\u001b[0m\n\u001b[0;32m    788\u001b[0m             \u001b[0mftype\u001b[0m \u001b[1;33m=\u001b[0m \u001b[0mTrue\u001b[0m\u001b[1;33m\u001b[0m\u001b[0m\n\u001b[0;32m    789\u001b[0m         \u001b[1;32melse\u001b[0m\u001b[1;33m:\u001b[0m\u001b[1;33m\u001b[0m\u001b[0m\n\u001b[1;32m--> 790\u001b[1;33m             \u001b[1;32mraise\u001b[0m \u001b[0mNotImplementedError\u001b[0m\u001b[1;33m(\u001b[0m\u001b[1;34m\"self must be affine space over a number field.\"\u001b[0m\u001b[1;33m)\u001b[0m\u001b[1;33m\u001b[0m\u001b[0m\n\u001b[0m\u001b[0;32m    791\u001b[0m \u001b[1;33m\u001b[0m\u001b[0m\n\u001b[0;32m    792\u001b[0m         \u001b[0mbound\u001b[0m \u001b[1;33m=\u001b[0m \u001b[0mbound\u001b[0m\u001b[1;33m**\u001b[0m\u001b[1;33m(\u001b[0m\u001b[1;36m1\u001b[0m\u001b[1;33m/\u001b[0m\u001b[0mself\u001b[0m\u001b[1;33m.\u001b[0m\u001b[0mbase_ring\u001b[0m\u001b[1;33m(\u001b[0m\u001b[1;33m)\u001b[0m\u001b[1;33m.\u001b[0m\u001b[0mabsolute_degree\u001b[0m\u001b[1;33m(\u001b[0m\u001b[1;33m)\u001b[0m\u001b[1;33m)\u001b[0m \u001b[1;31m# convert to relative height\u001b[0m\u001b[1;33m\u001b[0m\u001b[0m\n",
      "\u001b[1;31mNotImplementedError\u001b[0m: self must be affine space over a number field."
     ]
    }
   ],
   "source": [
    "[_ for _ in A_R__3.points_of_bounded_height(3.0)]"
   ]
  },
  {
   "cell_type": "code",
   "execution_count": 16,
   "metadata": {
    "collapsed": false
   },
   "outputs": [],
   "source": [
    "A_R__1.<t> = AffineSpace(1,RealField())"
   ]
  },
  {
   "cell_type": "code",
   "execution_count": 17,
   "metadata": {
    "collapsed": true
   },
   "outputs": [],
   "source": [
    "A_R__2.<x,y> = AffineSpace(2,RealField())"
   ]
  },
  {
   "cell_type": "code",
   "execution_count": 18,
   "metadata": {
    "collapsed": true
   },
   "outputs": [],
   "source": [
    "A_R__3.<x,y,z> = AffineSpace(3,RealField())"
   ]
  },
  {
   "cell_type": "code",
   "execution_count": 21,
   "metadata": {
    "collapsed": false
   },
   "outputs": [
    {
     "data": {
      "text/plain": [
       "Multivariate Polynomial Ring in t over Real Field with 53 bits of precision"
      ]
     },
     "execution_count": 21,
     "metadata": {},
     "output_type": "execute_result"
    }
   ],
   "source": [
    "A_R__1.coordinate_ring()"
   ]
  },
  {
   "cell_type": "code",
   "execution_count": 22,
   "metadata": {
    "collapsed": false
   },
   "outputs": [
    {
     "data": {
      "text/plain": [
       "(t,)"
      ]
     },
     "execution_count": 22,
     "metadata": {},
     "output_type": "execute_result"
    }
   ],
   "source": [
    "A_R__1.coordinate_ring().gens()"
   ]
  },
  {
   "cell_type": "code",
   "execution_count": 23,
   "metadata": {
    "collapsed": false
   },
   "outputs": [
    {
     "data": {
      "text/plain": [
       "Multivariate Polynomial Ring in x, y over Real Field with 53 bits of precision"
      ]
     },
     "execution_count": 23,
     "metadata": {},
     "output_type": "execute_result"
    }
   ],
   "source": [
    "A_R__2.coordinate_ring()"
   ]
  },
  {
   "cell_type": "code",
   "execution_count": 24,
   "metadata": {
    "collapsed": false
   },
   "outputs": [
    {
     "data": {
      "text/plain": [
       "(x, y)"
      ]
     },
     "execution_count": 24,
     "metadata": {},
     "output_type": "execute_result"
    }
   ],
   "source": [
    "A_R__2.coordinate_ring().gens()"
   ]
  },
  {
   "cell_type": "code",
   "execution_count": 25,
   "metadata": {
    "collapsed": false
   },
   "outputs": [
    {
     "data": {
      "text/plain": [
       "Multivariate Polynomial Ring in x, y, z over Real Field with 53 bits of precision"
      ]
     },
     "execution_count": 25,
     "metadata": {},
     "output_type": "execute_result"
    }
   ],
   "source": [
    "A_R__3.coordinate_ring()"
   ]
  },
  {
   "cell_type": "code",
   "execution_count": 26,
   "metadata": {
    "collapsed": false
   },
   "outputs": [
    {
     "data": {
      "text/plain": [
       "(x, y, z)"
      ]
     },
     "execution_count": 26,
     "metadata": {},
     "output_type": "execute_result"
    }
   ],
   "source": [
    "A_R__3.coordinate_ring().gens()"
   ]
  },
  {
   "cell_type": "code",
   "execution_count": 29,
   "metadata": {
    "collapsed": false
   },
   "outputs": [
    {
     "data": {
      "text/plain": [
       "1.00000000000000"
      ]
     },
     "execution_count": 29,
     "metadata": {},
     "output_type": "execute_result"
    }
   ],
   "source": [
    "A_R__1.coordinate_ring().monomial()"
   ]
  },
  {
   "cell_type": "code",
   "execution_count": 30,
   "metadata": {
    "collapsed": false
   },
   "outputs": [
    {
     "data": {
      "text/plain": [
       "1.00000000000000"
      ]
     },
     "execution_count": 30,
     "metadata": {},
     "output_type": "execute_result"
    }
   ],
   "source": [
    "A_R__2.coordinate_ring().monomial()"
   ]
  },
  {
   "cell_type": "code",
   "execution_count": 31,
   "metadata": {
    "collapsed": false
   },
   "outputs": [
    {
     "data": {
      "text/plain": [
       "1.00000000000000"
      ]
     },
     "execution_count": 31,
     "metadata": {},
     "output_type": "execute_result"
    }
   ],
   "source": [
    "A_R__3.coordinate_ring().monomial()"
   ]
  },
  {
   "cell_type": "code",
   "execution_count": 35,
   "metadata": {
    "collapsed": false
   },
   "outputs": [
    {
     "ename": "ValueError",
     "evalue": "no natural map from the base ring (=Real Field with 53 bits of precision) to R (=Finite Field of size 5)!",
     "output_type": "error",
     "traceback": [
      "\u001b[1;31m---------------------------------------------------------------------------\u001b[0m",
      "\u001b[1;31mValueError\u001b[0m                                Traceback (most recent call last)",
      "\u001b[1;32m<ipython-input-35-907ec7d01389>\u001b[0m in \u001b[0;36m<module>\u001b[1;34m()\u001b[0m\n\u001b[1;32m----> 1\u001b[1;33m \u001b[0mA_R__1\u001b[0m\u001b[1;33m.\u001b[0m\u001b[0mrational_points\u001b[0m\u001b[1;33m(\u001b[0m\u001b[0mFiniteField\u001b[0m\u001b[1;33m(\u001b[0m\u001b[0mInteger\u001b[0m\u001b[1;33m(\u001b[0m\u001b[1;36m5\u001b[0m\u001b[1;33m)\u001b[0m\u001b[1;33m)\u001b[0m\u001b[1;33m)\u001b[0m\u001b[1;33m\u001b[0m\u001b[0m\n\u001b[0m",
      "\u001b[1;32m/home/topolo/Public/sage/local/lib/python2.7/site-packages/sage/schemes/affine/affine_space.pyc\u001b[0m in \u001b[0;36mrational_points\u001b[1;34m(self, F)\u001b[0m\n\u001b[0;32m    246\u001b[0m         \u001b[1;32melif\u001b[0m \u001b[1;32mnot\u001b[0m \u001b[0mis_FiniteField\u001b[0m\u001b[1;33m(\u001b[0m\u001b[0mF\u001b[0m\u001b[1;33m)\u001b[0m\u001b[1;33m:\u001b[0m\u001b[1;33m\u001b[0m\u001b[0m\n\u001b[0;32m    247\u001b[0m             \u001b[1;32mraise\u001b[0m \u001b[0mTypeError\u001b[0m\u001b[1;33m(\u001b[0m\u001b[1;34m\"second argument (= %s) must be a finite field\"\u001b[0m\u001b[1;33m%\u001b[0m\u001b[0mF\u001b[0m\u001b[1;33m)\u001b[0m\u001b[1;33m\u001b[0m\u001b[0m\n\u001b[1;32m--> 248\u001b[1;33m         \u001b[1;32mreturn\u001b[0m \u001b[1;33m[\u001b[0m \u001b[0mP\u001b[0m \u001b[1;32mfor\u001b[0m \u001b[0mP\u001b[0m \u001b[1;32min\u001b[0m \u001b[0mself\u001b[0m\u001b[1;33m.\u001b[0m\u001b[0mbase_extend\u001b[0m\u001b[1;33m(\u001b[0m\u001b[0mF\u001b[0m\u001b[1;33m)\u001b[0m \u001b[1;33m]\u001b[0m\u001b[1;33m\u001b[0m\u001b[0m\n\u001b[0m\u001b[0;32m    249\u001b[0m \u001b[1;33m\u001b[0m\u001b[0m\n\u001b[0;32m    250\u001b[0m     \u001b[1;32mdef\u001b[0m \u001b[0m__cmp__\u001b[0m\u001b[1;33m(\u001b[0m\u001b[0mself\u001b[0m\u001b[1;33m,\u001b[0m \u001b[0mright\u001b[0m\u001b[1;33m)\u001b[0m\u001b[1;33m:\u001b[0m\u001b[1;33m\u001b[0m\u001b[0m\n",
      "\u001b[1;32m/home/topolo/Public/sage/local/lib/python2.7/site-packages/sage/schemes/generic/ambient_space.pyc\u001b[0m in \u001b[0;36mbase_extend\u001b[1;34m(self, R)\u001b[0m\n\u001b[0;32m    260\u001b[0m                 raise ValueError(\n\u001b[0;32m    261\u001b[0m                     \u001b[1;34m\"no natural map from the base ring (=%s) to R (=%s)!\"\u001b[0m\u001b[1;33m\u001b[0m\u001b[0m\n\u001b[1;32m--> 262\u001b[1;33m                     % (self.base_ring(), R))\n\u001b[0m\u001b[0;32m    263\u001b[0m             \u001b[1;32mreturn\u001b[0m \u001b[0mself\u001b[0m\u001b[1;33m.\u001b[0m\u001b[0mchange_ring\u001b[0m\u001b[1;33m(\u001b[0m\u001b[0mR\u001b[0m\u001b[1;33m)\u001b[0m\u001b[1;33m\u001b[0m\u001b[0m\n\u001b[0;32m    264\u001b[0m         \u001b[1;32melse\u001b[0m\u001b[1;33m:\u001b[0m\u001b[1;33m\u001b[0m\u001b[0m\n",
      "\u001b[1;31mValueError\u001b[0m: no natural map from the base ring (=Real Field with 53 bits of precision) to R (=Finite Field of size 5)!"
     ]
    }
   ],
   "source": []
  },
  {
   "cell_type": "markdown",
   "metadata": {},
   "source": [
    "# Lattices, that are \"sufficiently\" Galilean invariant, through non-perturbative algebraic theory  \n",
    "cf. [http://staff.polito.it/pietro.asinari/publications/preprint_Asinari_PA_2010a.pdf](http://staff.polito.it/pietro.asinari/publications/preprint_Asinari_PA_2010a.pdf), I. Karlin and P. Asinari, *Factorization symmetry in the lattice Boltzmann method*.  **Physica A 389**, 1530 (2010).  The prepaper that this seemd to be based upon and had some more calculation details is [](https://arxiv.org/abs/0911.5529)"
   ]
  },
  {
   "cell_type": "markdown",
   "metadata": {},
   "source": [
    "## Maxwell Lattices in 1-dim.\n",
    "### Maxwell's (M) moment relations"
   ]
  },
  {
   "cell_type": "code",
   "execution_count": 47,
   "metadata": {
    "collapsed": false
   },
   "outputs": [],
   "source": [
    "u = var(\"u\",domain=\"real\")\n",
    "#T_0 = var(\"T_0\",domain=\"real\")\n",
    "T_0 =var(\"T_0\",domain=\"positive\")"
   ]
  },
  {
   "cell_type": "code",
   "execution_count": 268,
   "metadata": {
    "collapsed": true
   },
   "outputs": [],
   "source": [
    "v = var(\"v\",domain=\"real\")"
   ]
  },
  {
   "cell_type": "code",
   "execution_count": 40,
   "metadata": {
    "collapsed": true
   },
   "outputs": [],
   "source": [
    "phi_v = sqrt( pi/(2*T_0))*exp( - (v-u)**2/(2*T_0))"
   ]
  },
  {
   "cell_type": "code",
   "execution_count": 48,
   "metadata": {
    "collapsed": false
   },
   "outputs": [
    {
     "data": {
      "text/plain": [
       "-1/2*sqrt(2)*sqrt(1/2)*sqrt(pi)*sqrt(pi/T_0)*erf(-sqrt(1/2)*x/sqrt(T_0) + sqrt(1/2)*u/(T_0*1/sqrt(T_0)))/1/sqrt(T_0)"
      ]
     },
     "execution_count": 48,
     "metadata": {},
     "output_type": "execute_result"
    }
   ],
   "source": [
    "integrate( phi_v * 1, v)"
   ]
  },
  {
   "cell_type": "code",
   "execution_count": 54,
   "metadata": {
    "collapsed": false
   },
   "outputs": [
    {
     "data": {
      "text/plain": [
       "pi"
      ]
     },
     "execution_count": 54,
     "metadata": {},
     "output_type": "execute_result"
    }
   ],
   "source": [
    "integrate( phi_v * 1, (v,-oo,oo)).expand().simplify()"
   ]
  },
  {
   "cell_type": "code",
   "execution_count": 57,
   "metadata": {
    "collapsed": false
   },
   "outputs": [
    {
     "name": "stdout",
     "output_type": "stream",
     "text": [
      "pi*u\n",
      "pi*u^2 + pi*T_0\n",
      "pi*u^3 + 3*pi*T_0*u\n",
      "pi*u^4 + 6*pi*T_0*u^2 + 3*pi*T_0^2\n",
      "pi*u^5 + 10*pi*T_0*u^3 + 15*pi*T_0^2*u\n",
      "pi*u^6 + 15*pi*T_0*u^4 + 45*pi*T_0^2*u^2 + 15*pi*T_0^3\n"
     ]
    }
   ],
   "source": [
    "print( integrate( phi_v * v**1, (v,-oo,oo)).expand().simplify() )\n",
    "print( integrate( phi_v * v**2, (v,-oo,oo)).expand().simplify() )\n",
    "print( integrate( phi_v * v**3, (v,-oo,oo)).expand().simplify() )\n",
    "print( integrate( phi_v * v**4, (v,-oo,oo)).expand().simplify() )\n",
    "print( integrate( phi_v * v**5, (v,-oo,oo)).expand().simplify() )\n",
    "print( integrate( phi_v * v**6, (v,-oo,oo)).expand().simplify() )"
   ]
  },
  {
   "cell_type": "markdown",
   "metadata": {},
   "source": [
    "#### Appendix A: How to find Closure Relation and verify reference temperature for a given velocity set, cf. arxiv.org:0911.5529.pdf"
   ]
  },
  {
   "cell_type": "code",
   "execution_count": 71,
   "metadata": {
    "collapsed": true
   },
   "outputs": [],
   "source": [
    "Q=5\n",
    "q=Q//2"
   ]
  },
  {
   "cell_type": "code",
   "execution_count": 271,
   "metadata": {
    "collapsed": false
   },
   "outputs": [],
   "source": [
    "a_lst = var( \",\".join(map(str,[\"a\"+str(k+1) for k in range(q)])) )\n",
    "v_i   = var(\"v_i\",domain=\"integer\")\n",
    "#v_lst = var( \",\".join(map(str,[\"v\"+str(k+1) for k in range(q)])) )\n",
    "# variables named or labeled from 1,2,...q, Python counts from 0,1..q-1"
   ]
  },
  {
   "cell_type": "code",
   "execution_count": 76,
   "metadata": {
    "collapsed": false
   },
   "outputs": [
    {
     "ename": "ValueError",
     "evalue": "cannot convert k to int",
     "output_type": "error",
     "traceback": [
      "\u001b[1;31m---------------------------------------------------------------------------\u001b[0m",
      "\u001b[1;31mValueError\u001b[0m                                Traceback (most recent call last)",
      "\u001b[1;32m<ipython-input-76-8330476415c9>\u001b[0m in \u001b[0;36m<module>\u001b[1;34m()\u001b[0m\n\u001b[0;32m      1\u001b[0m \u001b[0mk\u001b[0m\u001b[1;33m=\u001b[0m\u001b[0mvar\u001b[0m\u001b[1;33m(\u001b[0m\u001b[1;34m'k'\u001b[0m\u001b[1;33m)\u001b[0m\u001b[1;33m\u001b[0m\u001b[0m\n\u001b[1;32m----> 2\u001b[1;33m \u001b[0msum\u001b[0m\u001b[1;33m(\u001b[0m \u001b[0ma_lst\u001b[0m\u001b[1;33m[\u001b[0m\u001b[0mint\u001b[0m\u001b[1;33m(\u001b[0m\u001b[0mk\u001b[0m\u001b[1;33m)\u001b[0m\u001b[1;33m]\u001b[0m\u001b[1;33m*\u001b[0m\u001b[0mv_lst\u001b[0m\u001b[1;33m[\u001b[0m\u001b[0mk\u001b[0m\u001b[1;33m]\u001b[0m\u001b[1;33m,\u001b[0m \u001b[0mk\u001b[0m\u001b[1;33m,\u001b[0m\u001b[0mInteger\u001b[0m\u001b[1;33m(\u001b[0m\u001b[1;36m0\u001b[0m\u001b[1;33m)\u001b[0m\u001b[1;33m,\u001b[0m\u001b[0mq\u001b[0m\u001b[1;33m-\u001b[0m\u001b[0mInteger\u001b[0m\u001b[1;33m(\u001b[0m\u001b[1;36m1\u001b[0m\u001b[1;33m)\u001b[0m\u001b[1;33m)\u001b[0m\u001b[1;33m\u001b[0m\u001b[0m\n\u001b[0m",
      "\u001b[1;32m/home/topolo/Public/sage/src/sage/symbolic/expression.pyx\u001b[0m in \u001b[0;36msage.symbolic.expression.Expression.__int__ (/home/topolo/Public/sage/src/build/cythonized/sage/symbolic/expression.cpp:8528)\u001b[1;34m()\u001b[0m\n\u001b[0;32m   1100\u001b[0m             \u001b[0mrif_self\u001b[0m \u001b[1;33m=\u001b[0m \u001b[0msage\u001b[0m\u001b[1;33m.\u001b[0m\u001b[0mrings\u001b[0m\u001b[1;33m.\u001b[0m\u001b[0mall\u001b[0m\u001b[1;33m.\u001b[0m\u001b[0mRIF\u001b[0m\u001b[1;33m(\u001b[0m\u001b[0mself\u001b[0m\u001b[1;33m)\u001b[0m\u001b[1;33m\u001b[0m\u001b[0m\n\u001b[0;32m   1101\u001b[0m         \u001b[1;32mexcept\u001b[0m \u001b[0mTypeError\u001b[0m\u001b[1;33m:\u001b[0m\u001b[1;33m\u001b[0m\u001b[0m\n\u001b[1;32m-> 1102\u001b[1;33m             \u001b[1;32mraise\u001b[0m \u001b[0mValueError\u001b[0m\u001b[1;33m(\u001b[0m\u001b[1;34m\"cannot convert %s to int\"\u001b[0m \u001b[1;33m%\u001b[0m \u001b[0mself\u001b[0m\u001b[1;33m)\u001b[0m\u001b[1;33m\u001b[0m\u001b[0m\n\u001b[0m\u001b[0;32m   1103\u001b[0m         \u001b[1;32mif\u001b[0m \u001b[0mrif_self\u001b[0m \u001b[1;33m>\u001b[0m \u001b[1;36m0\u001b[0m \u001b[1;32mor\u001b[0m \u001b[1;33m(\u001b[0m\u001b[0mrif_self\u001b[0m\u001b[1;33m.\u001b[0m\u001b[0mcontains_zero\u001b[0m\u001b[1;33m(\u001b[0m\u001b[1;33m)\u001b[0m \u001b[1;32mand\u001b[0m \u001b[0mself\u001b[0m \u001b[1;33m>\u001b[0m \u001b[1;36m0\u001b[0m\u001b[1;33m)\u001b[0m\u001b[1;33m:\u001b[0m\u001b[1;33m\u001b[0m\u001b[0m\n\u001b[0;32m   1104\u001b[0m             \u001b[0mresult\u001b[0m \u001b[1;33m=\u001b[0m \u001b[0mfloor\u001b[0m\u001b[1;33m(\u001b[0m\u001b[0mself\u001b[0m\u001b[1;33m)\u001b[0m\u001b[1;33m\u001b[0m\u001b[0m\n",
      "\u001b[1;31mValueError\u001b[0m: cannot convert k to int"
     ]
    }
   ],
   "source": [
    "k=var('k')\n",
    "sum( a_lst[int(k)]*v_lst[k], k,0,q-1)"
   ]
  },
  {
   "cell_type": "code",
   "execution_count": 95,
   "metadata": {
    "collapsed": false
   },
   "outputs": [],
   "source": [
    "closurerel = sum( [a_lst[k]*v_i**(2*k+1) for k in range(q)] ) == v_i**Q # closure relation RHS\n",
    "closurerelRHS = sum( [a_lst[k]*v_i**(2*k+1) for k in range(q)] ) # closure relation RHS\n"
   ]
  },
  {
   "cell_type": "code",
   "execution_count": 100,
   "metadata": {
    "collapsed": false
   },
   "outputs": [
    {
     "data": {
      "text/plain": [
       "[a1 + a2 == 1, 3*a1 + 27*a2 == 243]"
      ]
     },
     "execution_count": 100,
     "metadata": {},
     "output_type": "execute_result"
    }
   ],
   "source": [
    "v_ipos = [1,3]\n",
    "[closurerel.subs(v_i== v_ipos[k]) for k in range(len(v_ipos))]\n",
    "#[closurerelRHS.subs((v_i, v_ipos[k])) for k in range(len(v_ipos))]"
   ]
  },
  {
   "cell_type": "code",
   "execution_count": 101,
   "metadata": {
    "collapsed": false
   },
   "outputs": [
    {
     "data": {
      "text/plain": [
       "[[a1 == -9, a2 == 10]]"
      ]
     },
     "execution_count": 101,
     "metadata": {},
     "output_type": "execute_result"
    }
   ],
   "source": [
    "solve( [closurerel.subs(v_i== v_ipos[k]) for k in range(len(v_ipos))], a_lst )"
   ]
  },
  {
   "cell_type": "code",
   "execution_count": 105,
   "metadata": {
    "collapsed": false
   },
   "outputs": [
    {
     "data": {
      "text/plain": [
       "[a1 == -9, a2 == 10]"
      ]
     },
     "execution_count": 105,
     "metadata": {},
     "output_type": "execute_result"
    }
   ],
   "source": [
    "solve( [closurerel.subs(v_i== v_ipos[k]) for k in range(len(v_ipos))], a_lst )[0]"
   ]
  },
  {
   "cell_type": "code",
   "execution_count": 106,
   "metadata": {
    "collapsed": false
   },
   "outputs": [
    {
     "data": {
      "text/plain": [
       "10*v_i^3 - 9*v_i == v_i^5"
      ]
     },
     "execution_count": 106,
     "metadata": {},
     "output_type": "execute_result"
    }
   ],
   "source": [
    "closurerel.subs( solve( [closurerel.subs(v_i== v_ipos[k]) for k in range(len(v_ipos))], a_lst )[0] )"
   ]
  },
  {
   "cell_type": "code",
   "execution_count": 117,
   "metadata": {
    "collapsed": false
   },
   "outputs": [
    {
     "name": "stdout",
     "output_type": "stream",
     "text": [
      "[-4, 5]\n"
     ]
    }
   ],
   "source": [
    "asolved=[aeqn.rhs() for aeqn in solve( [closurerel.subs(v_i== v_ipos[k]) for k in range(len(v_ipos))], a_lst )[0]]\n",
    "print(asolved)"
   ]
  },
  {
   "cell_type": "markdown",
   "metadata": {},
   "source": [
    "Try `v_ipos=[1,2]`"
   ]
  },
  {
   "cell_type": "code",
   "execution_count": 107,
   "metadata": {
    "collapsed": false
   },
   "outputs": [
    {
     "data": {
      "text/plain": [
       "[[a1 == -4, a2 == 5]]"
      ]
     },
     "execution_count": 107,
     "metadata": {},
     "output_type": "execute_result"
    }
   ],
   "source": [
    "v_ipos = [1,2]\n",
    "solve( [closurerel.subs(v_i== v_ipos[k]) for k in range(len(v_ipos))], a_lst )"
   ]
  },
  {
   "cell_type": "code",
   "execution_count": 108,
   "metadata": {
    "collapsed": false
   },
   "outputs": [
    {
     "data": {
      "text/plain": [
       "1"
      ]
     },
     "execution_count": 108,
     "metadata": {},
     "output_type": "execute_result"
    }
   ],
   "source": [
    "1.multifactorial(2)"
   ]
  },
  {
   "cell_type": "code",
   "execution_count": 109,
   "metadata": {
    "collapsed": false
   },
   "outputs": [
    {
     "data": {
      "text/plain": [
       "3"
      ]
     },
     "execution_count": 109,
     "metadata": {},
     "output_type": "execute_result"
    }
   ],
   "source": [
    "3.multifactorial(2)"
   ]
  },
  {
   "cell_type": "code",
   "execution_count": 110,
   "metadata": {
    "collapsed": false
   },
   "outputs": [
    {
     "data": {
      "text/plain": [
       "15"
      ]
     },
     "execution_count": 110,
     "metadata": {},
     "output_type": "execute_result"
    }
   ],
   "source": [
    "5.multifactorial(2)"
   ]
  },
  {
   "cell_type": "code",
   "execution_count": 111,
   "metadata": {
    "collapsed": false
   },
   "outputs": [
    {
     "data": {
      "text/plain": [
       "105"
      ]
     },
     "execution_count": 111,
     "metadata": {},
     "output_type": "execute_result"
    }
   ],
   "source": [
    "7.multifactorial(2)"
   ]
  },
  {
   "cell_type": "code",
   "execution_count": 112,
   "metadata": {
    "collapsed": true
   },
   "outputs": [],
   "source": [
    "T_0=var('T_0',domain=\"positive\")"
   ]
  },
  {
   "cell_type": "code",
   "execution_count": 122,
   "metadata": {
    "collapsed": false
   },
   "outputs": [
    {
     "data": {
      "text/plain": [
       "15*T_0 - 4"
      ]
     },
     "execution_count": 122,
     "metadata": {},
     "output_type": "execute_result"
    }
   ],
   "source": [
    "sum( [asolved[k]*ZZ(2*k+1).multifactorial(2)*T_0**(k) for k in range(q)] )"
   ]
  },
  {
   "cell_type": "code",
   "execution_count": 123,
   "metadata": {
    "collapsed": false
   },
   "outputs": [
    {
     "data": {
      "text/plain": [
       "15*T_0^2 - 15*T_0 + 4"
      ]
     },
     "execution_count": 123,
     "metadata": {},
     "output_type": "execute_result"
    }
   ],
   "source": [
    "ZZ(Q).multifactorial(2)*T_0**((Q-1)/2)-sum( [asolved[k]*ZZ(2*k+1).multifactorial(2)*T_0**(k) for k in range(q)] ) "
   ]
  },
  {
   "cell_type": "code",
   "execution_count": 124,
   "metadata": {
    "collapsed": false
   },
   "outputs": [
    {
     "data": {
      "text/plain": [
       "[]"
      ]
     },
     "execution_count": 124,
     "metadata": {},
     "output_type": "execute_result"
    }
   ],
   "source": [
    "solve( ZZ(Q).multifactorial(2)*T_0**((Q-1)/2)-sum( [asolved[k]*ZZ(2*k+1).multifactorial(2)*T_0**(k) for k in range(q)] ) , T_0)"
   ]
  },
  {
   "cell_type": "code",
   "execution_count": 125,
   "metadata": {
    "collapsed": false
   },
   "outputs": [
    {
     "data": {
      "text/plain": [
       "[]"
      ]
     },
     "execution_count": 125,
     "metadata": {},
     "output_type": "execute_result"
    }
   ],
   "source": [
    "solve( ZZ(Q).multifactorial(2)*T_0**((Q-1)/2)-sum( [asolved[k]*ZZ(2*k+1).multifactorial(2)*T_0**(k) for k in range(q)] )==0 , T_0)"
   ]
  },
  {
   "cell_type": "markdown",
   "metadata": {},
   "source": [
    "For "
   ]
  },
  {
   "cell_type": "code",
   "execution_count": 126,
   "metadata": {
    "collapsed": true
   },
   "outputs": [],
   "source": [
    "v_ipos = [1,3]\n",
    "asolved=[aeqn.rhs() for aeqn in solve( [closurerel.subs(v_i== v_ipos[k]) for k in range(len(v_ipos))], a_lst )[0]]\n"
   ]
  },
  {
   "cell_type": "code",
   "execution_count": 127,
   "metadata": {
    "collapsed": false
   },
   "outputs": [
    {
     "data": {
      "text/plain": [
       "[T_0 == -1/5*sqrt(10) + 1, T_0 == 1/5*sqrt(10) + 1]"
      ]
     },
     "execution_count": 127,
     "metadata": {},
     "output_type": "execute_result"
    }
   ],
   "source": [
    "solve( ZZ(Q).multifactorial(2)*T_0**((Q-1)/2)-sum( [asolved[k]*ZZ(2*k+1).multifactorial(2)*T_0**(k) for k in range(q)] )==0 , T_0)"
   ]
  },
  {
   "cell_type": "code",
   "execution_count": 131,
   "metadata": {
    "collapsed": false
   },
   "outputs": [
    {
     "data": {
      "text/plain": [
       "True"
      ]
     },
     "execution_count": 131,
     "metadata": {},
     "output_type": "execute_result"
    }
   ],
   "source": [
    "solve( ZZ(Q).multifactorial(2)*T_0**((Q-1)/2)-sum( [asolved[k]*ZZ(2*k+1).multifactorial(2)*T_0**(k) for k in range(q)] )==0 , T_0)[0].rhs().N >0"
   ]
  },
  {
   "cell_type": "code",
   "execution_count": 132,
   "metadata": {
    "collapsed": false
   },
   "outputs": [
    {
     "data": {
      "text/plain": [
       "True"
      ]
     },
     "execution_count": 132,
     "metadata": {},
     "output_type": "execute_result"
    }
   ],
   "source": [
    "solve( ZZ(Q).multifactorial(2)*T_0**((Q-1)/2)-sum( [asolved[k]*ZZ(2*k+1).multifactorial(2)*T_0**(k) for k in range(q)] )==0 , T_0)[1].rhs().N >0"
   ]
  },
  {
   "cell_type": "code",
   "execution_count": 234,
   "metadata": {
    "collapsed": false
   },
   "outputs": [],
   "source": [
    "def make_closure_rel(Q, v_ipos=None,v_i=None):\n",
    "    \"\"\" make_closure_rel - make closure relation\n",
    "    returns, as Python tuple, the closure relation and reference temperature T_0, as (closure relation, T_0)\n",
    "\n",
    "    INPUT/ARGUMENT\n",
    "    ==============\n",
    "    @type Q : positive integer\n",
    "    @param Q : Q is the total number of discrete velocities\n",
    "    \"\"\"\n",
    "    q=Q//2\n",
    "    a_lst = var( \",\".join(map(str,[\"a\"+str(k+1) for k in range(q)])) )\n",
    "    if v_i is None:\n",
    "        v_i   = var(\"v_i\",domain=\"integer\")\n",
    "\n",
    "    if v_ipos is None:\n",
    "        v_ipos = range(1,q+1)\n",
    "\n",
    "    closurerel_gen = sum( [a_lst[k]*v_i**(2*k+1) for k in range(q)] ) == v_i**Q # closure relation, in general form     \n",
    "        \n",
    "    sysofpolys = [closurerel_gen.subs(v_i== v_ipos[k]) for k in range(len(v_ipos))] # q different nonzero values for velocities pluuged in\n",
    "    \n",
    "    solved_as = solve( sysofpolys, a_lst ) # solved for a_{Q-2k},k=1...q, for given different velocities v_i\n",
    "    \n",
    "    solved_as = solved_as[0]\n",
    "    \n",
    "    closurerel = closurerel_gen.subs(solved_as)\n",
    "    \n",
    "#    try:\n",
    "#        check_closurerel_unique = closurerel.rhs()-closurerel.lhs() # check the closure relation to see if it's nontrivial\n",
    "#        if check_closurerel_unique.N() == 0: \n",
    "#            print \"check_closurerel_unique failed, equals 0, i.e. no unique solution for v_i's; lattice invalid\"\n",
    "#            return closurerel\n",
    "#    except TypeError as err:\n",
    "#        print err\n",
    "#        print \"so far closure relation is unique, proceed\"\n",
    "        \n",
    "    solved_as = [aeqn.rhs() for aeqn in solved_as] # [a_1,a_2,...a_q] as Python list\n",
    "         \n",
    "    T_0=var('T_0',domain=\"positive\")\n",
    "    \n",
    "    matchingcond = -sum( [solved_as[k]*ZZ(2*k+1).multifactorial(2)*T_0**(k) for k in range(q)]) # \\sum_{j=1}^q a_{Q-2k} b_{Q-2k} T_0^{(Q-2k-1)/2}\n",
    "     \n",
    "    matchingcond += ZZ(Q).multifactorial(2)*T_0**((Q-1)/2)  # b_QT_0^{(Q-1)/2}\n",
    "    \n",
    "#    try:\n",
    "#        check_matchingcond = matchingcond.N()\n",
    "#        if check_matchingcond == 0:\n",
    "#            print \"check_matchingcond failed, i.e. algebraic eqn. for ref. T_0 is 0\"\n",
    "#            return closurerel\n",
    "#    except TypeError as err:\n",
    "#        print err\n",
    "#        print \"We're actually safe, so far lattice exists; proceed\"\n",
    "    \n",
    "    T_0roots = solve( matchingcond ==0, T_0) # solve for the roots of T_0\n",
    "\n",
    "    T_0roots_passed = [] # T_0 roots s.t. T_0 >= 0\n",
    "    for Tsoln in T_0roots:\n",
    "        if (Tsoln.rhs().N >= 0):\n",
    "            T_0roots_passed.append( Tsoln.rhs())\n",
    "        \n",
    "    return closurerel, T_0roots_passed"
   ]
  },
  {
   "cell_type": "code",
   "execution_count": 238,
   "metadata": {
    "collapsed": true
   },
   "outputs": [],
   "source": [
    "def make_closure_rel(Q, v_ipos=None,v_i=None):\n",
    "    \"\"\" make_closure_rel - make closure relation\n",
    "    returns, as Python tuple, the closure relation and reference temperature T_0, as (closure relation, T_0)\n",
    "\n",
    "    INPUT/ARGUMENT\n",
    "    ==============\n",
    "    @type Q : positive integer\n",
    "    @param Q : Q is the total number of discrete velocities\n",
    "    \"\"\"\n",
    "    q=Q//2\n",
    "    a_lst = var( \",\".join(map(str,[\"a\"+str(k+1) for k in range(q)])) )\n",
    "    if v_i is None:\n",
    "        v_i   = var(\"v_i\",domain=\"integer\")\n",
    "\n",
    "    if v_ipos is None:\n",
    "        v_ipos = range(1,q+1)\n",
    "\n",
    "    closurerel_gen = sum( [a_lst[k]*v_i**(2*k+1) for k in range(q)] ) == v_i**Q # closure relation, in general form     \n",
    "        \n",
    "    sysofpolys = [closurerel_gen.subs(v_i== v_ipos[k]) for k in range(len(v_ipos))] # q different nonzero values for velocities pluuged in\n",
    "    \n",
    "    solved_as = solve( sysofpolys, a_lst ) # solved for a_{Q-2k},k=1...q, for given different velocities v_i\n",
    "    \n",
    "    solved_as = solved_as[0]\n",
    "    \n",
    "    closurerel = closurerel_gen.subs(solved_as)\n",
    "    \n",
    "        \n",
    "    solved_as = [aeqn.rhs() for aeqn in solved_as] # [a_1,a_2,...a_q] as Python list\n",
    "         \n",
    "    T_0=var('T_0',domain=\"positive\")\n",
    "    \n",
    "    matchingcond = -sum( [solved_as[k]*ZZ(2*k+1).multifactorial(2)*T_0**(k) for k in range(q)]) # \\sum_{j=1}^q a_{Q-2k} b_{Q-2k} T_0^{(Q-2k-1)/2}\n",
    "     \n",
    "    matchingcond += ZZ(Q).multifactorial(2)*T_0**((Q-1)/2)  # b_QT_0^{(Q-1)/2}\n",
    "    \n",
    "    T_0roots = solve( matchingcond ==0, T_0) # solve for the roots of T_0\n",
    "\n",
    "    T_0roots_passed = [] # T_0 roots s.t. T_0 >= 0\n",
    "    for Tsoln in T_0roots:\n",
    "        if (Tsoln.rhs().N >= 0):\n",
    "            T_0roots_passed.append( Tsoln.rhs())\n",
    "        \n",
    "    return closurerel, T_0roots_passed"
   ]
  },
  {
   "cell_type": "markdown",
   "metadata": {},
   "source": [
    "#### Reproducing Table I, 1-dim. Maxwell lattices with odd number of inter-valued velocities $Q$, of arxiv.org 0911.5529.pdf, pp. 3"
   ]
  },
  {
   "cell_type": "code",
   "execution_count": 229,
   "metadata": {
    "collapsed": false
   },
   "outputs": [
    {
     "name": "stdout",
     "output_type": "stream",
     "text": [
      "cannot evaluate symbolic expression numerically\n",
      "so far closure relation is unique, proceed\n",
      "cannot evaluate symbolic expression numerically\n",
      "We're actually safe, so far lattice exists; proceed\n"
     ]
    },
    {
     "data": {
      "text/plain": [
       "(5*v_i^3 - 4*v_i == v_i^5, [])"
      ]
     },
     "execution_count": 229,
     "metadata": {},
     "output_type": "execute_result"
    }
   ],
   "source": [
    "make_closure_rel(5)"
   ]
  },
  {
   "cell_type": "code",
   "execution_count": 230,
   "metadata": {
    "collapsed": false
   },
   "outputs": [
    {
     "name": "stdout",
     "output_type": "stream",
     "text": [
      "cannot evaluate symbolic expression numerically\n",
      "so far closure relation is unique, proceed\n",
      "cannot evaluate symbolic expression numerically\n",
      "We're actually safe, so far lattice exists; proceed\n"
     ]
    },
    {
     "data": {
      "text/plain": [
       "(10*v_i^3 - 9*v_i == v_i^5, [-1/5*sqrt(10) + 1, 1/5*sqrt(10) + 1])"
      ]
     },
     "execution_count": 230,
     "metadata": {},
     "output_type": "execute_result"
    }
   ],
   "source": [
    "make_closure_rel(5,[1,3])"
   ]
  },
  {
   "cell_type": "code",
   "execution_count": 231,
   "metadata": {
    "collapsed": false
   },
   "outputs": [
    {
     "name": "stdout",
     "output_type": "stream",
     "text": [
      "cannot evaluate symbolic expression numerically\n",
      "so far closure relation is unique, proceed\n",
      "cannot evaluate symbolic expression numerically\n",
      "We're actually safe, so far lattice exists; proceed\n"
     ]
    },
    {
     "data": {
      "text/plain": [
       "(14*v_i^5 - 49*v_i^3 + 36*v_i == v_i^7,\n",
       " [(1/1575*sqrt(15)*sqrt(2) + 1/945)^(1/3) - 1/45/(1/1575*sqrt(15)*sqrt(2) + 1/945)^(1/3) + 2/3])"
      ]
     },
     "execution_count": 231,
     "metadata": {},
     "output_type": "execute_result"
    }
   ],
   "source": [
    "make_closure_rel(7)"
   ]
  },
  {
   "cell_type": "code",
   "execution_count": 214,
   "metadata": {
    "collapsed": false
   },
   "outputs": [
    {
     "data": {
      "text/plain": [
       "0"
      ]
     },
     "execution_count": 214,
     "metadata": {},
     "output_type": "execute_result"
    }
   ],
   "source": [
    "q=9//2\n",
    "a_lst = var( \",\".join(map(str,[\"a\"+str(k+1) for k in range(q)])) )\n",
    "v_i   = var(\"v_i\",domain=\"integer\")\n",
    "v_ipos = range(1,q+1)\n",
    "closurerel_gen = sum( [a_lst[k]*v_i**(2*k+1) for k in range(q)] ) == v_i**Q\n",
    "sysofpolys = [closurerel_gen.subs(v_i== v_ipos[k]) for k in range(len(v_ipos))]\n",
    "solved_as_init = solve( sysofpolys, a_lst ) \n",
    "solved_as = solved_as_init[0]\n",
    "closurerel = closurerel_gen.subs(solved_as)\n",
    "solved_as = [aeqn.rhs() for aeqn in solved_as]\n",
    "T_0=var('T_0',domain=\"positive\")\n",
    "matchingcond = -sum( [solved_as[k]*ZZ(2*k+1).multifactorial(2)*T_0**(k) for k in range(q)])\n",
    "matchingcond += ZZ(Q).multifactorial(2)*T_0**((Q-1)/2)\n",
    "matchingcond"
   ]
  },
  {
   "cell_type": "code",
   "execution_count": 212,
   "metadata": {
    "collapsed": false
   },
   "outputs": [
    {
     "data": {
      "text/plain": [
       "True"
      ]
     },
     "execution_count": 212,
     "metadata": {},
     "output_type": "execute_result"
    }
   ],
   "source": [
    "matchingcond.N() == 0"
   ]
  },
  {
   "cell_type": "code",
   "execution_count": 227,
   "metadata": {
    "collapsed": false
   },
   "outputs": [
    {
     "data": {
      "text/plain": [
       "True"
      ]
     },
     "execution_count": 227,
     "metadata": {},
     "output_type": "execute_result"
    }
   ],
   "source": [
    "( closurerel.lhs() - closurerel.rhs() ).N() == 0"
   ]
  },
  {
   "cell_type": "code",
   "execution_count": 232,
   "metadata": {
    "collapsed": false
   },
   "outputs": [
    {
     "name": "stdout",
     "output_type": "stream",
     "text": [
      "cannot evaluate symbolic expression numerically\n",
      "so far closure relation is unique, proceed\n",
      "cannot evaluate symbolic expression numerically\n",
      "We're actually safe, so far lattice exists; proceed\n"
     ]
    },
    {
     "ename": "KeyboardInterrupt",
     "evalue": "",
     "output_type": "error",
     "traceback": [
      "\u001b[1;31m---------------------------------------------------------------------------\u001b[0m",
      "\u001b[1;31mKeyboardInterrupt\u001b[0m                         Traceback (most recent call last)",
      "\u001b[1;32m<ipython-input-232-18b703e58983>\u001b[0m in \u001b[0;36m<module>\u001b[1;34m()\u001b[0m\n\u001b[1;32m----> 1\u001b[1;33m \u001b[0mmake_closure_rel\u001b[0m\u001b[1;33m(\u001b[0m\u001b[0mInteger\u001b[0m\u001b[1;33m(\u001b[0m\u001b[1;36m9\u001b[0m\u001b[1;33m)\u001b[0m\u001b[1;33m)\u001b[0m\u001b[1;33m\u001b[0m\u001b[0m\n\u001b[0m",
      "\u001b[1;32m<ipython-input-228-34b90b5653af>\u001b[0m in \u001b[0;36mmake_closure_rel\u001b[1;34m(Q, v_ipos, v_i)\u001b[0m\n\u001b[0;32m     52\u001b[0m         \u001b[1;32mprint\u001b[0m \u001b[1;34m\"We're actually safe, so far lattice exists; proceed\"\u001b[0m\u001b[1;33m\u001b[0m\u001b[0m\n\u001b[0;32m     53\u001b[0m \u001b[1;33m\u001b[0m\u001b[0m\n\u001b[1;32m---> 54\u001b[1;33m     \u001b[0mT_0roots\u001b[0m \u001b[1;33m=\u001b[0m \u001b[0msolve\u001b[0m\u001b[1;33m(\u001b[0m \u001b[0mmatchingcond\u001b[0m \u001b[1;33m==\u001b[0m\u001b[0mInteger\u001b[0m\u001b[1;33m(\u001b[0m\u001b[1;36m0\u001b[0m\u001b[1;33m)\u001b[0m\u001b[1;33m,\u001b[0m \u001b[0mT_0\u001b[0m\u001b[1;33m)\u001b[0m \u001b[1;31m# solve for the roots of T_0\u001b[0m\u001b[1;33m\u001b[0m\u001b[0m\n\u001b[0m\u001b[0;32m     55\u001b[0m \u001b[1;33m\u001b[0m\u001b[0m\n\u001b[0;32m     56\u001b[0m     \u001b[0mT_0roots_passed\u001b[0m \u001b[1;33m=\u001b[0m \u001b[1;33m[\u001b[0m\u001b[1;33m]\u001b[0m \u001b[1;31m# T_0 roots s.t. T_0 >= 0\u001b[0m\u001b[1;33m\u001b[0m\u001b[0m\n",
      "\u001b[1;32m/home/topolo/Public/sage/local/lib/python2.7/site-packages/sage/symbolic/relation.pyc\u001b[0m in \u001b[0;36msolve\u001b[1;34m(f, *args, **kwds)\u001b[0m\n\u001b[0;32m    798\u001b[0m     \u001b[1;32mfrom\u001b[0m \u001b[0msage\u001b[0m\u001b[1;33m.\u001b[0m\u001b[0msymbolic\u001b[0m\u001b[1;33m.\u001b[0m\u001b[0mexpression\u001b[0m \u001b[1;32mimport\u001b[0m \u001b[0mis_Expression\u001b[0m\u001b[1;33m\u001b[0m\u001b[0m\n\u001b[0;32m    799\u001b[0m     \u001b[1;32mif\u001b[0m \u001b[0mis_Expression\u001b[0m\u001b[1;33m(\u001b[0m\u001b[0mf\u001b[0m\u001b[1;33m)\u001b[0m\u001b[1;33m:\u001b[0m \u001b[1;31m# f is a single expression\u001b[0m\u001b[1;33m\u001b[0m\u001b[0m\n\u001b[1;32m--> 800\u001b[1;33m         \u001b[0mans\u001b[0m \u001b[1;33m=\u001b[0m \u001b[0mf\u001b[0m\u001b[1;33m.\u001b[0m\u001b[0msolve\u001b[0m\u001b[1;33m(\u001b[0m\u001b[1;33m*\u001b[0m\u001b[0margs\u001b[0m\u001b[1;33m,\u001b[0m\u001b[1;33m**\u001b[0m\u001b[0mkwds\u001b[0m\u001b[1;33m)\u001b[0m\u001b[1;33m\u001b[0m\u001b[0m\n\u001b[0m\u001b[0;32m    801\u001b[0m         \u001b[1;32mreturn\u001b[0m \u001b[0mans\u001b[0m\u001b[1;33m\u001b[0m\u001b[0m\n\u001b[0;32m    802\u001b[0m \u001b[1;33m\u001b[0m\u001b[0m\n",
      "\u001b[1;32m/home/topolo/Public/sage/src/sage/symbolic/expression.pyx\u001b[0m in \u001b[0;36msage.symbolic.expression.Expression.solve (/home/topolo/Public/sage/src/build/cythonized/sage/symbolic/expression.cpp:55109)\u001b[1;34m()\u001b[0m\n\u001b[0;32m  10662\u001b[0m             \u001b[1;32mfor\u001b[0m \u001b[0mix\u001b[0m\u001b[1;33m,\u001b[0m \u001b[0msoln\u001b[0m \u001b[1;32min\u001b[0m \u001b[0mreversed\u001b[0m\u001b[1;33m(\u001b[0m\u001b[0mlist\u001b[0m\u001b[1;33m(\u001b[0m\u001b[0menumerate\u001b[0m\u001b[1;33m(\u001b[0m\u001b[0mX\u001b[0m\u001b[1;33m)\u001b[0m\u001b[1;33m)\u001b[0m\u001b[1;33m)\u001b[0m\u001b[1;33m:\u001b[0m\u001b[1;33m\u001b[0m\u001b[0m\n\u001b[0;32m  10663\u001b[0m                 \u001b[1;32mif\u001b[0m \u001b[0msoln\u001b[0m\u001b[1;33m.\u001b[0m\u001b[0mlhs\u001b[0m\u001b[1;33m(\u001b[0m\u001b[1;33m)\u001b[0m\u001b[1;33m.\u001b[0m\u001b[0mis_symbol\u001b[0m\u001b[1;33m(\u001b[0m\u001b[1;33m)\u001b[0m\u001b[1;33m:\u001b[0m\u001b[1;33m\u001b[0m\u001b[0m\n\u001b[1;32m> 10664\u001b[1;33m                     \u001b[1;32mif\u001b[0m \u001b[0many\u001b[0m\u001b[1;33m(\u001b[0m\u001b[1;33m[\u001b[0m\u001b[0ma\u001b[0m\u001b[1;33m.\u001b[0m\u001b[0mcontradicts\u001b[0m\u001b[1;33m(\u001b[0m\u001b[0msoln\u001b[0m\u001b[1;33m)\u001b[0m \u001b[1;32mfor\u001b[0m \u001b[0ma\u001b[0m \u001b[1;32min\u001b[0m \u001b[0mto_check\u001b[0m\u001b[1;33m]\u001b[0m\u001b[1;33m)\u001b[0m\u001b[1;33m:\u001b[0m\u001b[1;33m\u001b[0m\u001b[0m\n\u001b[0m\u001b[0;32m  10665\u001b[0m                         \u001b[1;32mdel\u001b[0m \u001b[0mX\u001b[0m\u001b[1;33m[\u001b[0m\u001b[0mix\u001b[0m\u001b[1;33m]\u001b[0m\u001b[1;33m\u001b[0m\u001b[0m\n\u001b[0;32m  10666\u001b[0m                         \u001b[1;32mif\u001b[0m \u001b[0mmultiplicities\u001b[0m\u001b[1;33m:\u001b[0m\u001b[1;33m\u001b[0m\u001b[0m\n",
      "\u001b[1;32m/home/topolo/Public/sage/src/sage/symbolic/expression.pyx\u001b[0m in \u001b[0;36msage.symbolic.expression.Expression.contradicts (/home/topolo/Public/sage/src/build/cythonized/sage/symbolic/expression.cpp:19942)\u001b[1;34m()\u001b[0m\n\u001b[0;32m   2793\u001b[0m             \u001b[0mTrue\u001b[0m\u001b[1;33m\u001b[0m\u001b[0m\n\u001b[0;32m   2794\u001b[0m         \"\"\"\n\u001b[1;32m-> 2795\u001b[1;33m         \u001b[1;32mreturn\u001b[0m \u001b[0mbool\u001b[0m\u001b[1;33m(\u001b[0m\u001b[0mself\u001b[0m\u001b[1;33m.\u001b[0m\u001b[0mnegation\u001b[0m\u001b[1;33m(\u001b[0m\u001b[1;33m)\u001b[0m\u001b[1;33m.\u001b[0m\u001b[0msubs\u001b[0m\u001b[1;33m(\u001b[0m\u001b[0msoln\u001b[0m\u001b[1;33m)\u001b[0m\u001b[1;33m)\u001b[0m\u001b[1;33m\u001b[0m\u001b[0m\n\u001b[0m\u001b[0;32m   2796\u001b[0m \u001b[1;33m\u001b[0m\u001b[0m\n\u001b[0;32m   2797\u001b[0m     \u001b[1;32mdef\u001b[0m \u001b[0mis_unit\u001b[0m\u001b[1;33m(\u001b[0m\u001b[0mself\u001b[0m\u001b[1;33m)\u001b[0m\u001b[1;33m:\u001b[0m\u001b[1;33m\u001b[0m\u001b[0m\n",
      "\u001b[1;32m/home/topolo/Public/sage/src/sage/symbolic/expression.pyx\u001b[0m in \u001b[0;36msage.symbolic.expression.Expression.__nonzero__ (/home/topolo/Public/sage/src/build/cythonized/sage/symbolic/expression.cpp:16820)\u001b[1;34m()\u001b[0m\n\u001b[0;32m   2552\u001b[0m                 \u001b[1;32mif\u001b[0m \u001b[0mpynac_result\u001b[0m \u001b[1;33m==\u001b[0m \u001b[0mrelational_notimplemented\u001b[0m \u001b[1;32mand\u001b[0m \u001b[0mself\u001b[0m\u001b[1;33m.\u001b[0m\u001b[0moperator\u001b[0m\u001b[1;33m(\u001b[0m\u001b[1;33m)\u001b[0m\u001b[1;33m==\u001b[0m\u001b[0moperator\u001b[0m\u001b[1;33m.\u001b[0m\u001b[0mne\u001b[0m\u001b[1;33m:\u001b[0m\u001b[1;33m\u001b[0m\u001b[0m\n\u001b[0;32m   2553\u001b[0m                     \u001b[1;32mreturn\u001b[0m \u001b[1;32mnot\u001b[0m \u001b[1;33m(\u001b[0m\u001b[0mself\u001b[0m\u001b[1;33m.\u001b[0m\u001b[0mlhs\u001b[0m\u001b[1;33m(\u001b[0m\u001b[1;33m)\u001b[0m\u001b[1;33m-\u001b[0m\u001b[0mself\u001b[0m\u001b[1;33m.\u001b[0m\u001b[0mrhs\u001b[0m\u001b[1;33m(\u001b[0m\u001b[1;33m)\u001b[0m\u001b[1;33m)\u001b[0m\u001b[1;33m.\u001b[0m\u001b[0mis_trivial_zero\u001b[0m\u001b[1;33m(\u001b[0m\u001b[1;33m)\u001b[0m\u001b[1;33m\u001b[0m\u001b[0m\n\u001b[1;32m-> 2554\u001b[1;33m                 \u001b[0mres\u001b[0m \u001b[1;33m=\u001b[0m \u001b[0mself\u001b[0m\u001b[1;33m.\u001b[0m\u001b[0mtest_relation\u001b[0m\u001b[1;33m(\u001b[0m\u001b[1;33m)\u001b[0m\u001b[1;33m\u001b[0m\u001b[0m\n\u001b[0m\u001b[0;32m   2555\u001b[0m                 \u001b[1;32mif\u001b[0m \u001b[0mres\u001b[0m \u001b[1;32mis\u001b[0m \u001b[0mTrue\u001b[0m\u001b[1;33m:\u001b[0m\u001b[1;33m\u001b[0m\u001b[0m\n\u001b[0;32m   2556\u001b[0m                     \u001b[1;32mreturn\u001b[0m \u001b[0mTrue\u001b[0m\u001b[1;33m\u001b[0m\u001b[0m\n",
      "\u001b[1;32m/home/topolo/Public/sage/src/sage/symbolic/expression.pyx\u001b[0m in \u001b[0;36msage.symbolic.expression.Expression.test_relation (/home/topolo/Public/sage/src/build/cythonized/sage/symbolic/expression.cpp:17446)\u001b[1;34m()\u001b[0m\n\u001b[0;32m   2661\u001b[0m         \u001b[1;32mif\u001b[0m \u001b[0mdomain\u001b[0m \u001b[1;32mis\u001b[0m \u001b[0mNone\u001b[0m\u001b[1;33m:\u001b[0m\u001b[1;33m\u001b[0m\u001b[0m\n\u001b[0;32m   2662\u001b[0m             \u001b[0mis_interval\u001b[0m \u001b[1;33m=\u001b[0m \u001b[0mTrue\u001b[0m\u001b[1;33m\u001b[0m\u001b[0m\n\u001b[1;32m-> 2663\u001b[1;33m             \u001b[1;32mif\u001b[0m \u001b[0mself\u001b[0m\u001b[1;33m.\u001b[0m\u001b[0mlhs\u001b[0m\u001b[1;33m(\u001b[0m\u001b[1;33m)\u001b[0m\u001b[1;33m.\u001b[0m\u001b[0mis_algebraic\u001b[0m\u001b[1;33m(\u001b[0m\u001b[1;33m)\u001b[0m \u001b[1;32mand\u001b[0m \u001b[0mself\u001b[0m\u001b[1;33m.\u001b[0m\u001b[0mrhs\u001b[0m\u001b[1;33m(\u001b[0m\u001b[1;33m)\u001b[0m\u001b[1;33m.\u001b[0m\u001b[0mis_algebraic\u001b[0m\u001b[1;33m(\u001b[0m\u001b[1;33m)\u001b[0m\u001b[1;33m:\u001b[0m\u001b[1;33m\u001b[0m\u001b[0m\n\u001b[0m\u001b[0;32m   2664\u001b[0m                 \u001b[1;32mif\u001b[0m \u001b[0mop\u001b[0m \u001b[1;33m==\u001b[0m \u001b[0mequal\u001b[0m \u001b[1;32mor\u001b[0m \u001b[0mop\u001b[0m \u001b[1;33m==\u001b[0m \u001b[0mnot_equal\u001b[0m\u001b[1;33m:\u001b[0m\u001b[1;33m\u001b[0m\u001b[0m\n\u001b[0;32m   2665\u001b[0m                     \u001b[0mdomain\u001b[0m \u001b[1;33m=\u001b[0m \u001b[0mQQbar\u001b[0m\u001b[1;33m\u001b[0m\u001b[0m\n",
      "\u001b[1;32m/home/topolo/Public/sage/src/sage/symbolic/expression.pyx\u001b[0m in \u001b[0;36msage.symbolic.expression.Expression.is_algebraic (/home/topolo/Public/sage/src/build/cythonized/sage/symbolic/expression.cpp:13856)\u001b[1;34m()\u001b[0m\n\u001b[0;32m   1899\u001b[0m         \"\"\"\n\u001b[0;32m   1900\u001b[0m         \u001b[1;32mtry\u001b[0m\u001b[1;33m:\u001b[0m\u001b[1;33m\u001b[0m\u001b[0m\n\u001b[1;32m-> 1901\u001b[1;33m             \u001b[0mex\u001b[0m \u001b[1;33m=\u001b[0m \u001b[0msage\u001b[0m\u001b[1;33m.\u001b[0m\u001b[0mrings\u001b[0m\u001b[1;33m.\u001b[0m\u001b[0mall\u001b[0m\u001b[1;33m.\u001b[0m\u001b[0mQQbar\u001b[0m\u001b[1;33m(\u001b[0m\u001b[0mself\u001b[0m\u001b[1;33m)\u001b[0m\u001b[1;33m\u001b[0m\u001b[0m\n\u001b[0m\u001b[0;32m   1902\u001b[0m         \u001b[1;32mexcept\u001b[0m \u001b[1;33m(\u001b[0m\u001b[0mTypeError\u001b[0m\u001b[1;33m,\u001b[0m \u001b[0mValueError\u001b[0m\u001b[1;33m,\u001b[0m \u001b[0mNotImplementedError\u001b[0m\u001b[1;33m)\u001b[0m\u001b[1;33m:\u001b[0m\u001b[1;33m\u001b[0m\u001b[0m\n\u001b[0;32m   1903\u001b[0m             \u001b[1;32mreturn\u001b[0m \u001b[0mFalse\u001b[0m\u001b[1;33m\u001b[0m\u001b[0m\n",
      "\u001b[1;32m/home/topolo/Public/sage/src/sage/structure/parent.pyx\u001b[0m in \u001b[0;36msage.structure.parent.Parent.__call__ (/home/topolo/Public/sage/src/build/cythonized/sage/structure/parent.c:9869)\u001b[1;34m()\u001b[0m\n\u001b[0;32m   1107\u001b[0m         \u001b[1;32mif\u001b[0m \u001b[0mmor\u001b[0m \u001b[1;32mis\u001b[0m \u001b[1;32mnot\u001b[0m \u001b[0mNone\u001b[0m\u001b[1;33m:\u001b[0m\u001b[1;33m\u001b[0m\u001b[0m\n\u001b[0;32m   1108\u001b[0m             \u001b[1;32mif\u001b[0m \u001b[0mno_extra_args\u001b[0m\u001b[1;33m:\u001b[0m\u001b[1;33m\u001b[0m\u001b[0m\n\u001b[1;32m-> 1109\u001b[1;33m                 \u001b[1;32mreturn\u001b[0m \u001b[0mmor\u001b[0m\u001b[1;33m.\u001b[0m\u001b[0m_call_\u001b[0m\u001b[1;33m(\u001b[0m\u001b[0mx\u001b[0m\u001b[1;33m)\u001b[0m\u001b[1;33m\u001b[0m\u001b[0m\n\u001b[0m\u001b[0;32m   1110\u001b[0m             \u001b[1;32melse\u001b[0m\u001b[1;33m:\u001b[0m\u001b[1;33m\u001b[0m\u001b[0m\n\u001b[0;32m   1111\u001b[0m                 \u001b[1;32mreturn\u001b[0m \u001b[0mmor\u001b[0m\u001b[1;33m.\u001b[0m\u001b[0m_call_with_args\u001b[0m\u001b[1;33m(\u001b[0m\u001b[0mx\u001b[0m\u001b[1;33m,\u001b[0m \u001b[0margs\u001b[0m\u001b[1;33m,\u001b[0m \u001b[0mkwds\u001b[0m\u001b[1;33m)\u001b[0m\u001b[1;33m\u001b[0m\u001b[0m\n",
      "\u001b[1;32m/home/topolo/Public/sage/src/sage/structure/coerce_maps.pyx\u001b[0m in \u001b[0;36msage.structure.coerce_maps.DefaultConvertMap_unique._call_ (/home/topolo/Public/sage/src/build/cythonized/sage/structure/coerce_maps.c:4525)\u001b[1;34m()\u001b[0m\n\u001b[0;32m    102\u001b[0m         \u001b[0mcdef\u001b[0m \u001b[0mParent\u001b[0m \u001b[0mC\u001b[0m \u001b[1;33m=\u001b[0m \u001b[0mself\u001b[0m\u001b[1;33m.\u001b[0m\u001b[0m_codomain\u001b[0m\u001b[1;33m\u001b[0m\u001b[0m\n\u001b[0;32m    103\u001b[0m         \u001b[1;32mtry\u001b[0m\u001b[1;33m:\u001b[0m\u001b[1;33m\u001b[0m\u001b[0m\n\u001b[1;32m--> 104\u001b[1;33m             \u001b[1;32mreturn\u001b[0m \u001b[0mC\u001b[0m\u001b[1;33m.\u001b[0m\u001b[0m_element_constructor\u001b[0m\u001b[1;33m(\u001b[0m\u001b[0mx\u001b[0m\u001b[1;33m)\u001b[0m\u001b[1;33m\u001b[0m\u001b[0m\n\u001b[0m\u001b[0;32m    105\u001b[0m         \u001b[1;32mexcept\u001b[0m \u001b[0mException\u001b[0m\u001b[1;33m:\u001b[0m\u001b[1;33m\u001b[0m\u001b[0m\n\u001b[0;32m    106\u001b[0m             \u001b[1;32mif\u001b[0m \u001b[0mprint_warnings\u001b[0m\u001b[1;33m:\u001b[0m\u001b[1;33m\u001b[0m\u001b[0m\n",
      "\u001b[1;32m/home/topolo/Public/sage/local/lib/python2.7/site-packages/sage/rings/qqbar.pyc\u001b[0m in \u001b[0;36m_element_constructor_\u001b[1;34m(self, x)\u001b[0m\n\u001b[0;32m   1121\u001b[0m             \u001b[1;32mreturn\u001b[0m \u001b[0mAlgebraicNumber\u001b[0m\u001b[1;33m(\u001b[0m\u001b[0mx\u001b[0m\u001b[1;33m.\u001b[0m\u001b[0m_descr\u001b[0m\u001b[1;33m)\u001b[0m\u001b[1;33m\u001b[0m\u001b[0m\n\u001b[0;32m   1122\u001b[0m         \u001b[1;32melif\u001b[0m \u001b[0mhasattr\u001b[0m\u001b[1;33m(\u001b[0m\u001b[0mx\u001b[0m\u001b[1;33m,\u001b[0m \u001b[1;34m'_algebraic_'\u001b[0m\u001b[1;33m)\u001b[0m\u001b[1;33m:\u001b[0m\u001b[1;33m\u001b[0m\u001b[0m\n\u001b[1;32m-> 1123\u001b[1;33m             \u001b[1;32mreturn\u001b[0m \u001b[0mx\u001b[0m\u001b[1;33m.\u001b[0m\u001b[0m_algebraic_\u001b[0m\u001b[1;33m(\u001b[0m\u001b[0mQQbar\u001b[0m\u001b[1;33m)\u001b[0m\u001b[1;33m\u001b[0m\u001b[0m\n\u001b[0m\u001b[0;32m   1124\u001b[0m         \u001b[1;32mreturn\u001b[0m \u001b[0mAlgebraicNumber\u001b[0m\u001b[1;33m(\u001b[0m\u001b[0mx\u001b[0m\u001b[1;33m)\u001b[0m\u001b[1;33m\u001b[0m\u001b[0m\n\u001b[0;32m   1125\u001b[0m \u001b[1;33m\u001b[0m\u001b[0m\n",
      "\u001b[1;32m/home/topolo/Public/sage/src/sage/symbolic/expression.pyx\u001b[0m in \u001b[0;36msage.symbolic.expression.Expression._algebraic_ (/home/topolo/Public/sage/src/build/cythonized/sage/symbolic/expression.cpp:10805)\u001b[1;34m()\u001b[0m\n\u001b[0;32m   1447\u001b[0m         \"\"\"\n\u001b[0;32m   1448\u001b[0m         \u001b[1;32mfrom\u001b[0m \u001b[0msage\u001b[0m\u001b[1;33m.\u001b[0m\u001b[0msymbolic\u001b[0m\u001b[1;33m.\u001b[0m\u001b[0mexpression_conversions\u001b[0m \u001b[1;32mimport\u001b[0m \u001b[0malgebraic\u001b[0m\u001b[1;33m\u001b[0m\u001b[0m\n\u001b[1;32m-> 1449\u001b[1;33m         \u001b[1;32mreturn\u001b[0m \u001b[0malgebraic\u001b[0m\u001b[1;33m(\u001b[0m\u001b[0mself\u001b[0m\u001b[1;33m,\u001b[0m \u001b[0mfield\u001b[0m\u001b[1;33m)\u001b[0m\u001b[1;33m\u001b[0m\u001b[0m\n\u001b[0m\u001b[0;32m   1450\u001b[0m \u001b[1;33m\u001b[0m\u001b[0m\n\u001b[0;32m   1451\u001b[0m     \u001b[1;32mdef\u001b[0m \u001b[0m__hash__\u001b[0m\u001b[1;33m(\u001b[0m\u001b[0mself\u001b[0m\u001b[1;33m)\u001b[0m\u001b[1;33m:\u001b[0m\u001b[1;33m\u001b[0m\u001b[0m\n",
      "\u001b[1;32m/home/topolo/Public/sage/local/lib/python2.7/site-packages/sage/symbolic/expression_conversions.pyc\u001b[0m in \u001b[0;36malgebraic\u001b[1;34m(ex, field)\u001b[0m\n\u001b[0;32m    950\u001b[0m         \u001b[1;36m0\u001b[0m\u001b[1;33m\u001b[0m\u001b[0m\n\u001b[0;32m    951\u001b[0m     \"\"\"\n\u001b[1;32m--> 952\u001b[1;33m     \u001b[1;32mreturn\u001b[0m \u001b[0mAlgebraicConverter\u001b[0m\u001b[1;33m(\u001b[0m\u001b[0mfield\u001b[0m\u001b[1;33m)\u001b[0m\u001b[1;33m(\u001b[0m\u001b[0mex\u001b[0m\u001b[1;33m)\u001b[0m\u001b[1;33m\u001b[0m\u001b[0m\n\u001b[0m\u001b[0;32m    953\u001b[0m \u001b[1;33m\u001b[0m\u001b[0m\n\u001b[0;32m    954\u001b[0m \u001b[1;31m##############\u001b[0m\u001b[1;33m\u001b[0m\u001b[1;33m\u001b[0m\u001b[0m\n",
      "\u001b[1;32m/home/topolo/Public/sage/local/lib/python2.7/site-packages/sage/symbolic/expression_conversions.pyc\u001b[0m in \u001b[0;36m__call__\u001b[1;34m(self, ex)\u001b[0m\n\u001b[0;32m    217\u001b[0m                 \u001b[0mdiv\u001b[0m \u001b[1;33m=\u001b[0m \u001b[0mself\u001b[0m\u001b[1;33m.\u001b[0m\u001b[0mget_fake_div\u001b[0m\u001b[1;33m(\u001b[0m\u001b[0mex\u001b[0m\u001b[1;33m)\u001b[0m\u001b[1;33m\u001b[0m\u001b[0m\n\u001b[0;32m    218\u001b[0m                 \u001b[1;32mreturn\u001b[0m \u001b[0mself\u001b[0m\u001b[1;33m.\u001b[0m\u001b[0marithmetic\u001b[0m\u001b[1;33m(\u001b[0m\u001b[0mdiv\u001b[0m\u001b[1;33m,\u001b[0m \u001b[0mdiv\u001b[0m\u001b[1;33m.\u001b[0m\u001b[0moperator\u001b[0m\u001b[1;33m(\u001b[0m\u001b[1;33m)\u001b[0m\u001b[1;33m)\u001b[0m\u001b[1;33m\u001b[0m\u001b[0m\n\u001b[1;32m--> 219\u001b[1;33m             \u001b[1;32mreturn\u001b[0m \u001b[0mself\u001b[0m\u001b[1;33m.\u001b[0m\u001b[0marithmetic\u001b[0m\u001b[1;33m(\u001b[0m\u001b[0mex\u001b[0m\u001b[1;33m,\u001b[0m \u001b[0moperator\u001b[0m\u001b[1;33m)\u001b[0m\u001b[1;33m\u001b[0m\u001b[0m\n\u001b[0m\u001b[0;32m    220\u001b[0m         \u001b[1;32melif\u001b[0m \u001b[0moperator\u001b[0m \u001b[1;32min\u001b[0m \u001b[0mrelation_operators\u001b[0m\u001b[1;33m:\u001b[0m\u001b[1;33m\u001b[0m\u001b[0m\n\u001b[0;32m    221\u001b[0m             \u001b[1;32mreturn\u001b[0m \u001b[0mself\u001b[0m\u001b[1;33m.\u001b[0m\u001b[0mrelation\u001b[0m\u001b[1;33m(\u001b[0m\u001b[0mex\u001b[0m\u001b[1;33m,\u001b[0m \u001b[0moperator\u001b[0m\u001b[1;33m)\u001b[0m\u001b[1;33m\u001b[0m\u001b[0m\n",
      "\u001b[1;32m/home/topolo/Public/sage/local/lib/python2.7/site-packages/sage/symbolic/expression_conversions.pyc\u001b[0m in \u001b[0;36marithmetic\u001b[1;34m(self, ex, operator)\u001b[0m\n\u001b[0;32m    833\u001b[0m                 \u001b[1;32melif\u001b[0m \u001b[0moperator\u001b[0m \u001b[1;32mis\u001b[0m \u001b[0mmul_vararg\u001b[0m\u001b[1;33m:\u001b[0m\u001b[1;33m\u001b[0m\u001b[0m\n\u001b[0;32m    834\u001b[0m                     \u001b[0moperator\u001b[0m \u001b[1;33m=\u001b[0m \u001b[0m_operator\u001b[0m\u001b[1;33m.\u001b[0m\u001b[0mmul\u001b[0m\u001b[1;33m\u001b[0m\u001b[0m\n\u001b[1;32m--> 835\u001b[1;33m                 \u001b[1;32mreturn\u001b[0m \u001b[0mreduce\u001b[0m\u001b[1;33m(\u001b[0m\u001b[0moperator\u001b[0m\u001b[1;33m,\u001b[0m \u001b[0mmap\u001b[0m\u001b[1;33m(\u001b[0m\u001b[0mself\u001b[0m\u001b[1;33m,\u001b[0m \u001b[0mex\u001b[0m\u001b[1;33m.\u001b[0m\u001b[0moperands\u001b[0m\u001b[1;33m(\u001b[0m\u001b[1;33m)\u001b[0m\u001b[1;33m)\u001b[0m\u001b[1;33m)\u001b[0m\u001b[1;33m\u001b[0m\u001b[0m\n\u001b[0m\u001b[0;32m    836\u001b[0m         \u001b[1;32mexcept\u001b[0m \u001b[0mTypeError\u001b[0m\u001b[1;33m:\u001b[0m\u001b[1;33m\u001b[0m\u001b[0m\n\u001b[0;32m    837\u001b[0m             \u001b[1;32mpass\u001b[0m\u001b[1;33m\u001b[0m\u001b[0m\n",
      "\u001b[1;32m/home/topolo/Public/sage/local/lib/python2.7/site-packages/sage/symbolic/expression_conversions.pyc\u001b[0m in \u001b[0;36m__call__\u001b[1;34m(self, ex)\u001b[0m\n\u001b[0;32m    217\u001b[0m                 \u001b[0mdiv\u001b[0m \u001b[1;33m=\u001b[0m \u001b[0mself\u001b[0m\u001b[1;33m.\u001b[0m\u001b[0mget_fake_div\u001b[0m\u001b[1;33m(\u001b[0m\u001b[0mex\u001b[0m\u001b[1;33m)\u001b[0m\u001b[1;33m\u001b[0m\u001b[0m\n\u001b[0;32m    218\u001b[0m                 \u001b[1;32mreturn\u001b[0m \u001b[0mself\u001b[0m\u001b[1;33m.\u001b[0m\u001b[0marithmetic\u001b[0m\u001b[1;33m(\u001b[0m\u001b[0mdiv\u001b[0m\u001b[1;33m,\u001b[0m \u001b[0mdiv\u001b[0m\u001b[1;33m.\u001b[0m\u001b[0moperator\u001b[0m\u001b[1;33m(\u001b[0m\u001b[1;33m)\u001b[0m\u001b[1;33m)\u001b[0m\u001b[1;33m\u001b[0m\u001b[0m\n\u001b[1;32m--> 219\u001b[1;33m             \u001b[1;32mreturn\u001b[0m \u001b[0mself\u001b[0m\u001b[1;33m.\u001b[0m\u001b[0marithmetic\u001b[0m\u001b[1;33m(\u001b[0m\u001b[0mex\u001b[0m\u001b[1;33m,\u001b[0m \u001b[0moperator\u001b[0m\u001b[1;33m)\u001b[0m\u001b[1;33m\u001b[0m\u001b[0m\n\u001b[0m\u001b[0;32m    220\u001b[0m         \u001b[1;32melif\u001b[0m \u001b[0moperator\u001b[0m \u001b[1;32min\u001b[0m \u001b[0mrelation_operators\u001b[0m\u001b[1;33m:\u001b[0m\u001b[1;33m\u001b[0m\u001b[0m\n\u001b[0;32m    221\u001b[0m             \u001b[1;32mreturn\u001b[0m \u001b[0mself\u001b[0m\u001b[1;33m.\u001b[0m\u001b[0mrelation\u001b[0m\u001b[1;33m(\u001b[0m\u001b[0mex\u001b[0m\u001b[1;33m,\u001b[0m \u001b[0moperator\u001b[0m\u001b[1;33m)\u001b[0m\u001b[1;33m\u001b[0m\u001b[0m\n",
      "\u001b[1;32m/home/topolo/Public/sage/local/lib/python2.7/site-packages/sage/symbolic/expression_conversions.pyc\u001b[0m in \u001b[0;36marithmetic\u001b[1;34m(self, ex, operator)\u001b[0m\n\u001b[0;32m    833\u001b[0m                 \u001b[1;32melif\u001b[0m \u001b[0moperator\u001b[0m \u001b[1;32mis\u001b[0m \u001b[0mmul_vararg\u001b[0m\u001b[1;33m:\u001b[0m\u001b[1;33m\u001b[0m\u001b[0m\n\u001b[0;32m    834\u001b[0m                     \u001b[0moperator\u001b[0m \u001b[1;33m=\u001b[0m \u001b[0m_operator\u001b[0m\u001b[1;33m.\u001b[0m\u001b[0mmul\u001b[0m\u001b[1;33m\u001b[0m\u001b[0m\n\u001b[1;32m--> 835\u001b[1;33m                 \u001b[1;32mreturn\u001b[0m \u001b[0mreduce\u001b[0m\u001b[1;33m(\u001b[0m\u001b[0moperator\u001b[0m\u001b[1;33m,\u001b[0m \u001b[0mmap\u001b[0m\u001b[1;33m(\u001b[0m\u001b[0mself\u001b[0m\u001b[1;33m,\u001b[0m \u001b[0mex\u001b[0m\u001b[1;33m.\u001b[0m\u001b[0moperands\u001b[0m\u001b[1;33m(\u001b[0m\u001b[1;33m)\u001b[0m\u001b[1;33m)\u001b[0m\u001b[1;33m)\u001b[0m\u001b[1;33m\u001b[0m\u001b[0m\n\u001b[0m\u001b[0;32m    836\u001b[0m         \u001b[1;32mexcept\u001b[0m \u001b[0mTypeError\u001b[0m\u001b[1;33m:\u001b[0m\u001b[1;33m\u001b[0m\u001b[0m\n\u001b[0;32m    837\u001b[0m             \u001b[1;32mpass\u001b[0m\u001b[1;33m\u001b[0m\u001b[0m\n",
      "\u001b[1;32m/home/topolo/Public/sage/local/lib/python2.7/site-packages/sage/symbolic/expression_conversions.pyc\u001b[0m in \u001b[0;36m__call__\u001b[1;34m(self, ex)\u001b[0m\n\u001b[0;32m    217\u001b[0m                 \u001b[0mdiv\u001b[0m \u001b[1;33m=\u001b[0m \u001b[0mself\u001b[0m\u001b[1;33m.\u001b[0m\u001b[0mget_fake_div\u001b[0m\u001b[1;33m(\u001b[0m\u001b[0mex\u001b[0m\u001b[1;33m)\u001b[0m\u001b[1;33m\u001b[0m\u001b[0m\n\u001b[0;32m    218\u001b[0m                 \u001b[1;32mreturn\u001b[0m \u001b[0mself\u001b[0m\u001b[1;33m.\u001b[0m\u001b[0marithmetic\u001b[0m\u001b[1;33m(\u001b[0m\u001b[0mdiv\u001b[0m\u001b[1;33m,\u001b[0m \u001b[0mdiv\u001b[0m\u001b[1;33m.\u001b[0m\u001b[0moperator\u001b[0m\u001b[1;33m(\u001b[0m\u001b[1;33m)\u001b[0m\u001b[1;33m)\u001b[0m\u001b[1;33m\u001b[0m\u001b[0m\n\u001b[1;32m--> 219\u001b[1;33m             \u001b[1;32mreturn\u001b[0m \u001b[0mself\u001b[0m\u001b[1;33m.\u001b[0m\u001b[0marithmetic\u001b[0m\u001b[1;33m(\u001b[0m\u001b[0mex\u001b[0m\u001b[1;33m,\u001b[0m \u001b[0moperator\u001b[0m\u001b[1;33m)\u001b[0m\u001b[1;33m\u001b[0m\u001b[0m\n\u001b[0m\u001b[0;32m    220\u001b[0m         \u001b[1;32melif\u001b[0m \u001b[0moperator\u001b[0m \u001b[1;32min\u001b[0m \u001b[0mrelation_operators\u001b[0m\u001b[1;33m:\u001b[0m\u001b[1;33m\u001b[0m\u001b[0m\n\u001b[0;32m    221\u001b[0m             \u001b[1;32mreturn\u001b[0m \u001b[0mself\u001b[0m\u001b[1;33m.\u001b[0m\u001b[0mrelation\u001b[0m\u001b[1;33m(\u001b[0m\u001b[0mex\u001b[0m\u001b[1;33m,\u001b[0m \u001b[0moperator\u001b[0m\u001b[1;33m)\u001b[0m\u001b[1;33m\u001b[0m\u001b[0m\n",
      "\u001b[1;32m/home/topolo/Public/sage/local/lib/python2.7/site-packages/sage/symbolic/expression_conversions.pyc\u001b[0m in \u001b[0;36marithmetic\u001b[1;34m(self, ex, operator)\u001b[0m\n\u001b[0;32m    827\u001b[0m                 \u001b[0mbase\u001b[0m \u001b[1;33m=\u001b[0m \u001b[0mself\u001b[0m\u001b[1;33m.\u001b[0m\u001b[0mfield\u001b[0m\u001b[1;33m(\u001b[0m\u001b[0mbase\u001b[0m\u001b[1;33m)\u001b[0m\u001b[1;33m\u001b[0m\u001b[0m\n\u001b[0;32m    828\u001b[0m                 \u001b[0mexpt\u001b[0m \u001b[1;33m=\u001b[0m \u001b[0mRational\u001b[0m\u001b[1;33m(\u001b[0m\u001b[0mexpt\u001b[0m\u001b[1;33m)\u001b[0m\u001b[1;33m\u001b[0m\u001b[0m\n\u001b[1;32m--> 829\u001b[1;33m                 \u001b[1;32mreturn\u001b[0m \u001b[0mself\u001b[0m\u001b[1;33m.\u001b[0m\u001b[0mfield\u001b[0m\u001b[1;33m(\u001b[0m\u001b[0mbase\u001b[0m\u001b[1;33m**\u001b[0m\u001b[0mexpt\u001b[0m\u001b[1;33m)\u001b[0m\u001b[1;33m\u001b[0m\u001b[0m\n\u001b[0m\u001b[0;32m    830\u001b[0m             \u001b[1;32melse\u001b[0m\u001b[1;33m:\u001b[0m\u001b[1;33m\u001b[0m\u001b[0m\n\u001b[0;32m    831\u001b[0m                 \u001b[1;32mif\u001b[0m \u001b[0moperator\u001b[0m \u001b[1;32mis\u001b[0m \u001b[0madd_vararg\u001b[0m\u001b[1;33m:\u001b[0m\u001b[1;33m\u001b[0m\u001b[0m\n",
      "\u001b[1;32m/home/topolo/Public/sage/local/lib/python2.7/site-packages/sage/rings/qqbar.pyc\u001b[0m in \u001b[0;36m__pow__\u001b[1;34m(self, e)\u001b[0m\n\u001b[0;32m   3911\u001b[0m                 \u001b[1;31m# crosses the negative real line and self._value\u001b[0m\u001b[1;33m\u001b[0m\u001b[1;33m\u001b[0m\u001b[0m\n\u001b[0;32m   3912\u001b[0m                 \u001b[1;31m# is known to be non-zero.\u001b[0m\u001b[1;33m\u001b[0m\u001b[1;33m\u001b[0m\u001b[0m\n\u001b[1;32m-> 3913\u001b[1;33m                 \u001b[0misgn\u001b[0m \u001b[1;33m=\u001b[0m \u001b[0mself\u001b[0m\u001b[1;33m.\u001b[0m\u001b[0mimag\u001b[0m\u001b[1;33m(\u001b[0m\u001b[1;33m)\u001b[0m\u001b[1;33m.\u001b[0m\u001b[0msign\u001b[0m\u001b[1;33m(\u001b[0m\u001b[1;33m)\u001b[0m\u001b[1;33m\u001b[0m\u001b[0m\n\u001b[0m\u001b[0;32m   3914\u001b[0m                 \u001b[0mval\u001b[0m \u001b[1;33m=\u001b[0m \u001b[0mself\u001b[0m\u001b[1;33m.\u001b[0m\u001b[0m_value\u001b[0m\u001b[1;33m\u001b[0m\u001b[0m\n\u001b[0;32m   3915\u001b[0m                 \u001b[0margument\u001b[0m \u001b[1;33m=\u001b[0m \u001b[0mval\u001b[0m\u001b[1;33m.\u001b[0m\u001b[0margument\u001b[0m\u001b[1;33m(\u001b[0m\u001b[1;33m)\u001b[0m\u001b[1;33m\u001b[0m\u001b[0m\n",
      "\u001b[1;32m/home/topolo/Public/sage/local/lib/python2.7/site-packages/sage/rings/qqbar.pyc\u001b[0m in \u001b[0;36msign\u001b[1;34m(self)\u001b[0m\n\u001b[0;32m   4728\u001b[0m             \u001b[1;31m# print self._value\u001b[0m\u001b[1;33m\u001b[0m\u001b[1;33m\u001b[0m\u001b[0m\n\u001b[0;32m   4729\u001b[0m             \u001b[0mself\u001b[0m\u001b[1;33m.\u001b[0m\u001b[0m_more_precision\u001b[0m\u001b[1;33m(\u001b[0m\u001b[1;33m)\u001b[0m\u001b[1;33m\u001b[0m\u001b[0m\n\u001b[1;32m-> 4730\u001b[1;33m             \u001b[1;32mreturn\u001b[0m \u001b[0mself\u001b[0m\u001b[1;33m.\u001b[0m\u001b[0msign\u001b[0m\u001b[1;33m(\u001b[0m\u001b[1;33m)\u001b[0m\u001b[1;33m\u001b[0m\u001b[0m\n\u001b[0m\u001b[0;32m   4731\u001b[0m         \u001b[1;32melse\u001b[0m\u001b[1;33m:\u001b[0m\u001b[1;33m\u001b[0m\u001b[0m\n\u001b[0;32m   4732\u001b[0m             \u001b[1;31m# Sigh...\u001b[0m\u001b[1;33m\u001b[0m\u001b[1;33m\u001b[0m\u001b[0m\n",
      "\u001b[1;32m/home/topolo/Public/sage/local/lib/python2.7/site-packages/sage/rings/qqbar.pyc\u001b[0m in \u001b[0;36msign\u001b[1;34m(self)\u001b[0m\n\u001b[0;32m   4731\u001b[0m         \u001b[1;32melse\u001b[0m\u001b[1;33m:\u001b[0m\u001b[1;33m\u001b[0m\u001b[0m\n\u001b[0;32m   4732\u001b[0m             \u001b[1;31m# Sigh...\u001b[0m\u001b[1;33m\u001b[0m\u001b[1;33m\u001b[0m\u001b[0m\n\u001b[1;32m-> 4733\u001b[1;33m             \u001b[0mself\u001b[0m\u001b[1;33m.\u001b[0m\u001b[0mexactify\u001b[0m\u001b[1;33m(\u001b[0m\u001b[1;33m)\u001b[0m\u001b[1;33m\u001b[0m\u001b[0m\n\u001b[0m\u001b[0;32m   4734\u001b[0m             \u001b[1;32mreturn\u001b[0m \u001b[0mself\u001b[0m\u001b[1;33m.\u001b[0m\u001b[0msign\u001b[0m\u001b[1;33m(\u001b[0m\u001b[1;33m)\u001b[0m\u001b[1;33m\u001b[0m\u001b[0m\n\u001b[0;32m   4735\u001b[0m \u001b[1;33m\u001b[0m\u001b[0m\n",
      "\u001b[1;32m/home/topolo/Public/sage/local/lib/python2.7/site-packages/sage/rings/qqbar.pyc\u001b[0m in \u001b[0;36mexactify\u001b[1;34m(self)\u001b[0m\n\u001b[0;32m   3275\u001b[0m         \u001b[0mod\u001b[0m \u001b[1;33m=\u001b[0m \u001b[0mself\u001b[0m\u001b[1;33m.\u001b[0m\u001b[0m_descr\u001b[0m\u001b[1;33m\u001b[0m\u001b[0m\n\u001b[0;32m   3276\u001b[0m         \u001b[1;32mif\u001b[0m \u001b[0misinstance\u001b[0m\u001b[1;33m(\u001b[0m\u001b[0mod\u001b[0m\u001b[1;33m,\u001b[0m \u001b[1;33m(\u001b[0m\u001b[0mANRational\u001b[0m\u001b[1;33m,\u001b[0m \u001b[0mANExtensionElement\u001b[0m\u001b[1;33m)\u001b[0m\u001b[1;33m)\u001b[0m\u001b[1;33m:\u001b[0m \u001b[1;32mreturn\u001b[0m\u001b[1;33m\u001b[0m\u001b[0m\n\u001b[1;32m-> 3277\u001b[1;33m         \u001b[0mself\u001b[0m\u001b[1;33m.\u001b[0m\u001b[0m_set_descr\u001b[0m\u001b[1;33m(\u001b[0m\u001b[0mself\u001b[0m\u001b[1;33m.\u001b[0m\u001b[0m_descr\u001b[0m\u001b[1;33m.\u001b[0m\u001b[0mexactify\u001b[0m\u001b[1;33m(\u001b[0m\u001b[1;33m)\u001b[0m\u001b[1;33m)\u001b[0m\u001b[1;33m\u001b[0m\u001b[0m\n\u001b[0m\u001b[0;32m   3278\u001b[0m \u001b[1;33m\u001b[0m\u001b[0m\n\u001b[0;32m   3279\u001b[0m     \u001b[1;32mdef\u001b[0m \u001b[0m_set_descr\u001b[0m\u001b[1;33m(\u001b[0m\u001b[0mself\u001b[0m\u001b[1;33m,\u001b[0m \u001b[0mnew_descr\u001b[0m\u001b[1;33m)\u001b[0m\u001b[1;33m:\u001b[0m\u001b[1;33m\u001b[0m\u001b[0m\n",
      "\u001b[1;32m/home/topolo/Public/sage/local/lib/python2.7/site-packages/sage/rings/qqbar.pyc\u001b[0m in \u001b[0;36mexactify\u001b[1;34m(self)\u001b[0m\n\u001b[0;32m   6845\u001b[0m \u001b[1;33m\u001b[0m\u001b[0m\n\u001b[0;32m   6846\u001b[0m         \u001b[1;32mif\u001b[0m \u001b[0mop\u001b[0m \u001b[1;33m==\u001b[0m \u001b[1;34m'imag'\u001b[0m\u001b[1;33m:\u001b[0m\u001b[1;33m\u001b[0m\u001b[0m\n\u001b[1;32m-> 6847\u001b[1;33m             \u001b[0marg\u001b[0m\u001b[1;33m.\u001b[0m\u001b[0mexactify\u001b[0m\u001b[1;33m(\u001b[0m\u001b[1;33m)\u001b[0m\u001b[1;33m\u001b[0m\u001b[0m\n\u001b[0m\u001b[0;32m   6848\u001b[0m             \u001b[0miv\u001b[0m \u001b[1;33m=\u001b[0m \u001b[0mQQbar_I\u001b[0m \u001b[1;33m*\u001b[0m \u001b[1;33m(\u001b[0m\u001b[0marg\u001b[0m\u001b[1;33m.\u001b[0m\u001b[0mconjugate\u001b[0m\u001b[1;33m(\u001b[0m\u001b[1;33m)\u001b[0m \u001b[1;33m-\u001b[0m \u001b[0marg\u001b[0m\u001b[1;33m)\u001b[0m \u001b[1;33m/\u001b[0m \u001b[1;36m2\u001b[0m\u001b[1;33m\u001b[0m\u001b[0m\n\u001b[0;32m   6849\u001b[0m             \u001b[0miv\u001b[0m\u001b[1;33m.\u001b[0m\u001b[0mexactify\u001b[0m\u001b[1;33m(\u001b[0m\u001b[1;33m)\u001b[0m\u001b[1;33m\u001b[0m\u001b[0m\n",
      "\u001b[1;32m/home/topolo/Public/sage/local/lib/python2.7/site-packages/sage/rings/qqbar.pyc\u001b[0m in \u001b[0;36mexactify\u001b[1;34m(self)\u001b[0m\n\u001b[0;32m   3275\u001b[0m         \u001b[0mod\u001b[0m \u001b[1;33m=\u001b[0m \u001b[0mself\u001b[0m\u001b[1;33m.\u001b[0m\u001b[0m_descr\u001b[0m\u001b[1;33m\u001b[0m\u001b[0m\n\u001b[0;32m   3276\u001b[0m         \u001b[1;32mif\u001b[0m \u001b[0misinstance\u001b[0m\u001b[1;33m(\u001b[0m\u001b[0mod\u001b[0m\u001b[1;33m,\u001b[0m \u001b[1;33m(\u001b[0m\u001b[0mANRational\u001b[0m\u001b[1;33m,\u001b[0m \u001b[0mANExtensionElement\u001b[0m\u001b[1;33m)\u001b[0m\u001b[1;33m)\u001b[0m\u001b[1;33m:\u001b[0m \u001b[1;32mreturn\u001b[0m\u001b[1;33m\u001b[0m\u001b[0m\n\u001b[1;32m-> 3277\u001b[1;33m         \u001b[0mself\u001b[0m\u001b[1;33m.\u001b[0m\u001b[0m_set_descr\u001b[0m\u001b[1;33m(\u001b[0m\u001b[0mself\u001b[0m\u001b[1;33m.\u001b[0m\u001b[0m_descr\u001b[0m\u001b[1;33m.\u001b[0m\u001b[0mexactify\u001b[0m\u001b[1;33m(\u001b[0m\u001b[1;33m)\u001b[0m\u001b[1;33m)\u001b[0m\u001b[1;33m\u001b[0m\u001b[0m\n\u001b[0m\u001b[0;32m   3278\u001b[0m \u001b[1;33m\u001b[0m\u001b[0m\n\u001b[0;32m   3279\u001b[0m     \u001b[1;32mdef\u001b[0m \u001b[0m_set_descr\u001b[0m\u001b[1;33m(\u001b[0m\u001b[0mself\u001b[0m\u001b[1;33m,\u001b[0m \u001b[0mnew_descr\u001b[0m\u001b[1;33m)\u001b[0m\u001b[1;33m:\u001b[0m\u001b[1;33m\u001b[0m\u001b[0m\n",
      "\u001b[1;32m/home/topolo/Public/sage/local/lib/python2.7/site-packages/sage/rings/qqbar.pyc\u001b[0m in \u001b[0;36mexactify\u001b[1;34m(self)\u001b[0m\n\u001b[0;32m   7078\u001b[0m             \u001b[0mleft\u001b[0m \u001b[1;33m=\u001b[0m \u001b[0mself\u001b[0m\u001b[1;33m.\u001b[0m\u001b[0m_left\u001b[0m\u001b[1;33m\u001b[0m\u001b[0m\n\u001b[0;32m   7079\u001b[0m             \u001b[0mright\u001b[0m \u001b[1;33m=\u001b[0m \u001b[0mself\u001b[0m\u001b[1;33m.\u001b[0m\u001b[0m_right\u001b[0m\u001b[1;33m\u001b[0m\u001b[0m\n\u001b[1;32m-> 7080\u001b[1;33m             \u001b[0mleft\u001b[0m\u001b[1;33m.\u001b[0m\u001b[0mexactify\u001b[0m\u001b[1;33m(\u001b[0m\u001b[1;33m)\u001b[0m\u001b[1;33m\u001b[0m\u001b[0m\n\u001b[0m\u001b[0;32m   7081\u001b[0m             \u001b[0mright\u001b[0m\u001b[1;33m.\u001b[0m\u001b[0mexactify\u001b[0m\u001b[1;33m(\u001b[0m\u001b[1;33m)\u001b[0m\u001b[1;33m\u001b[0m\u001b[0m\n\u001b[0;32m   7082\u001b[0m             \u001b[0mgen\u001b[0m \u001b[1;33m=\u001b[0m \u001b[0mleft\u001b[0m\u001b[1;33m.\u001b[0m\u001b[0m_exact_field\u001b[0m\u001b[1;33m(\u001b[0m\u001b[1;33m)\u001b[0m\u001b[1;33m.\u001b[0m\u001b[0munion\u001b[0m\u001b[1;33m(\u001b[0m\u001b[0mright\u001b[0m\u001b[1;33m.\u001b[0m\u001b[0m_exact_field\u001b[0m\u001b[1;33m(\u001b[0m\u001b[1;33m)\u001b[0m\u001b[1;33m)\u001b[0m\u001b[1;33m\u001b[0m\u001b[0m\n",
      "\u001b[1;32m/home/topolo/Public/sage/local/lib/python2.7/site-packages/sage/rings/qqbar.pyc\u001b[0m in \u001b[0;36mexactify\u001b[1;34m(self)\u001b[0m\n\u001b[0;32m   3275\u001b[0m         \u001b[0mod\u001b[0m \u001b[1;33m=\u001b[0m \u001b[0mself\u001b[0m\u001b[1;33m.\u001b[0m\u001b[0m_descr\u001b[0m\u001b[1;33m\u001b[0m\u001b[0m\n\u001b[0;32m   3276\u001b[0m         \u001b[1;32mif\u001b[0m \u001b[0misinstance\u001b[0m\u001b[1;33m(\u001b[0m\u001b[0mod\u001b[0m\u001b[1;33m,\u001b[0m \u001b[1;33m(\u001b[0m\u001b[0mANRational\u001b[0m\u001b[1;33m,\u001b[0m \u001b[0mANExtensionElement\u001b[0m\u001b[1;33m)\u001b[0m\u001b[1;33m)\u001b[0m\u001b[1;33m:\u001b[0m \u001b[1;32mreturn\u001b[0m\u001b[1;33m\u001b[0m\u001b[0m\n\u001b[1;32m-> 3277\u001b[1;33m         \u001b[0mself\u001b[0m\u001b[1;33m.\u001b[0m\u001b[0m_set_descr\u001b[0m\u001b[1;33m(\u001b[0m\u001b[0mself\u001b[0m\u001b[1;33m.\u001b[0m\u001b[0m_descr\u001b[0m\u001b[1;33m.\u001b[0m\u001b[0mexactify\u001b[0m\u001b[1;33m(\u001b[0m\u001b[1;33m)\u001b[0m\u001b[1;33m)\u001b[0m\u001b[1;33m\u001b[0m\u001b[0m\n\u001b[0m\u001b[0;32m   3278\u001b[0m \u001b[1;33m\u001b[0m\u001b[0m\n\u001b[0;32m   3279\u001b[0m     \u001b[1;32mdef\u001b[0m \u001b[0m_set_descr\u001b[0m\u001b[1;33m(\u001b[0m\u001b[0mself\u001b[0m\u001b[1;33m,\u001b[0m \u001b[0mnew_descr\u001b[0m\u001b[1;33m)\u001b[0m\u001b[1;33m:\u001b[0m\u001b[1;33m\u001b[0m\u001b[0m\n",
      "\u001b[1;32m/home/topolo/Public/sage/local/lib/python2.7/site-packages/sage/rings/qqbar.pyc\u001b[0m in \u001b[0;36mexactify\u001b[1;34m(self)\u001b[0m\n\u001b[0;32m   7078\u001b[0m             \u001b[0mleft\u001b[0m \u001b[1;33m=\u001b[0m \u001b[0mself\u001b[0m\u001b[1;33m.\u001b[0m\u001b[0m_left\u001b[0m\u001b[1;33m\u001b[0m\u001b[0m\n\u001b[0;32m   7079\u001b[0m             \u001b[0mright\u001b[0m \u001b[1;33m=\u001b[0m \u001b[0mself\u001b[0m\u001b[1;33m.\u001b[0m\u001b[0m_right\u001b[0m\u001b[1;33m\u001b[0m\u001b[0m\n\u001b[1;32m-> 7080\u001b[1;33m             \u001b[0mleft\u001b[0m\u001b[1;33m.\u001b[0m\u001b[0mexactify\u001b[0m\u001b[1;33m(\u001b[0m\u001b[1;33m)\u001b[0m\u001b[1;33m\u001b[0m\u001b[0m\n\u001b[0m\u001b[0;32m   7081\u001b[0m             \u001b[0mright\u001b[0m\u001b[1;33m.\u001b[0m\u001b[0mexactify\u001b[0m\u001b[1;33m(\u001b[0m\u001b[1;33m)\u001b[0m\u001b[1;33m\u001b[0m\u001b[0m\n\u001b[0;32m   7082\u001b[0m             \u001b[0mgen\u001b[0m \u001b[1;33m=\u001b[0m \u001b[0mleft\u001b[0m\u001b[1;33m.\u001b[0m\u001b[0m_exact_field\u001b[0m\u001b[1;33m(\u001b[0m\u001b[1;33m)\u001b[0m\u001b[1;33m.\u001b[0m\u001b[0munion\u001b[0m\u001b[1;33m(\u001b[0m\u001b[0mright\u001b[0m\u001b[1;33m.\u001b[0m\u001b[0m_exact_field\u001b[0m\u001b[1;33m(\u001b[0m\u001b[1;33m)\u001b[0m\u001b[1;33m)\u001b[0m\u001b[1;33m\u001b[0m\u001b[0m\n",
      "\u001b[1;32m/home/topolo/Public/sage/local/lib/python2.7/site-packages/sage/rings/qqbar.pyc\u001b[0m in \u001b[0;36mexactify\u001b[1;34m(self)\u001b[0m\n\u001b[0;32m   3275\u001b[0m         \u001b[0mod\u001b[0m \u001b[1;33m=\u001b[0m \u001b[0mself\u001b[0m\u001b[1;33m.\u001b[0m\u001b[0m_descr\u001b[0m\u001b[1;33m\u001b[0m\u001b[0m\n\u001b[0;32m   3276\u001b[0m         \u001b[1;32mif\u001b[0m \u001b[0misinstance\u001b[0m\u001b[1;33m(\u001b[0m\u001b[0mod\u001b[0m\u001b[1;33m,\u001b[0m \u001b[1;33m(\u001b[0m\u001b[0mANRational\u001b[0m\u001b[1;33m,\u001b[0m \u001b[0mANExtensionElement\u001b[0m\u001b[1;33m)\u001b[0m\u001b[1;33m)\u001b[0m\u001b[1;33m:\u001b[0m \u001b[1;32mreturn\u001b[0m\u001b[1;33m\u001b[0m\u001b[0m\n\u001b[1;32m-> 3277\u001b[1;33m         \u001b[0mself\u001b[0m\u001b[1;33m.\u001b[0m\u001b[0m_set_descr\u001b[0m\u001b[1;33m(\u001b[0m\u001b[0mself\u001b[0m\u001b[1;33m.\u001b[0m\u001b[0m_descr\u001b[0m\u001b[1;33m.\u001b[0m\u001b[0mexactify\u001b[0m\u001b[1;33m(\u001b[0m\u001b[1;33m)\u001b[0m\u001b[1;33m)\u001b[0m\u001b[1;33m\u001b[0m\u001b[0m\n\u001b[0m\u001b[0;32m   3278\u001b[0m \u001b[1;33m\u001b[0m\u001b[0m\n\u001b[0;32m   3279\u001b[0m     \u001b[1;32mdef\u001b[0m \u001b[0m_set_descr\u001b[0m\u001b[1;33m(\u001b[0m\u001b[0mself\u001b[0m\u001b[1;33m,\u001b[0m \u001b[0mnew_descr\u001b[0m\u001b[1;33m)\u001b[0m\u001b[1;33m:\u001b[0m\u001b[1;33m\u001b[0m\u001b[0m\n",
      "\u001b[1;32m/home/topolo/Public/sage/local/lib/python2.7/site-packages/sage/rings/qqbar.pyc\u001b[0m in \u001b[0;36mexactify\u001b[1;34m(self)\u001b[0m\n\u001b[0;32m   7079\u001b[0m             \u001b[0mright\u001b[0m \u001b[1;33m=\u001b[0m \u001b[0mself\u001b[0m\u001b[1;33m.\u001b[0m\u001b[0m_right\u001b[0m\u001b[1;33m\u001b[0m\u001b[0m\n\u001b[0;32m   7080\u001b[0m             \u001b[0mleft\u001b[0m\u001b[1;33m.\u001b[0m\u001b[0mexactify\u001b[0m\u001b[1;33m(\u001b[0m\u001b[1;33m)\u001b[0m\u001b[1;33m\u001b[0m\u001b[0m\n\u001b[1;32m-> 7081\u001b[1;33m             \u001b[0mright\u001b[0m\u001b[1;33m.\u001b[0m\u001b[0mexactify\u001b[0m\u001b[1;33m(\u001b[0m\u001b[1;33m)\u001b[0m\u001b[1;33m\u001b[0m\u001b[0m\n\u001b[0m\u001b[0;32m   7082\u001b[0m             \u001b[0mgen\u001b[0m \u001b[1;33m=\u001b[0m \u001b[0mleft\u001b[0m\u001b[1;33m.\u001b[0m\u001b[0m_exact_field\u001b[0m\u001b[1;33m(\u001b[0m\u001b[1;33m)\u001b[0m\u001b[1;33m.\u001b[0m\u001b[0munion\u001b[0m\u001b[1;33m(\u001b[0m\u001b[0mright\u001b[0m\u001b[1;33m.\u001b[0m\u001b[0m_exact_field\u001b[0m\u001b[1;33m(\u001b[0m\u001b[1;33m)\u001b[0m\u001b[1;33m)\u001b[0m\u001b[1;33m\u001b[0m\u001b[0m\n\u001b[0;32m   7083\u001b[0m             \u001b[0mleft_value\u001b[0m \u001b[1;33m=\u001b[0m \u001b[0mgen\u001b[0m\u001b[1;33m(\u001b[0m\u001b[0mleft\u001b[0m\u001b[1;33m.\u001b[0m\u001b[0m_exact_value\u001b[0m\u001b[1;33m(\u001b[0m\u001b[1;33m)\u001b[0m\u001b[1;33m)\u001b[0m\u001b[1;33m\u001b[0m\u001b[0m\n",
      "\u001b[1;32m/home/topolo/Public/sage/local/lib/python2.7/site-packages/sage/rings/qqbar.pyc\u001b[0m in \u001b[0;36mexactify\u001b[1;34m(self)\u001b[0m\n\u001b[0;32m   3275\u001b[0m         \u001b[0mod\u001b[0m \u001b[1;33m=\u001b[0m \u001b[0mself\u001b[0m\u001b[1;33m.\u001b[0m\u001b[0m_descr\u001b[0m\u001b[1;33m\u001b[0m\u001b[0m\n\u001b[0;32m   3276\u001b[0m         \u001b[1;32mif\u001b[0m \u001b[0misinstance\u001b[0m\u001b[1;33m(\u001b[0m\u001b[0mod\u001b[0m\u001b[1;33m,\u001b[0m \u001b[1;33m(\u001b[0m\u001b[0mANRational\u001b[0m\u001b[1;33m,\u001b[0m \u001b[0mANExtensionElement\u001b[0m\u001b[1;33m)\u001b[0m\u001b[1;33m)\u001b[0m\u001b[1;33m:\u001b[0m \u001b[1;32mreturn\u001b[0m\u001b[1;33m\u001b[0m\u001b[0m\n\u001b[1;32m-> 3277\u001b[1;33m         \u001b[0mself\u001b[0m\u001b[1;33m.\u001b[0m\u001b[0m_set_descr\u001b[0m\u001b[1;33m(\u001b[0m\u001b[0mself\u001b[0m\u001b[1;33m.\u001b[0m\u001b[0m_descr\u001b[0m\u001b[1;33m.\u001b[0m\u001b[0mexactify\u001b[0m\u001b[1;33m(\u001b[0m\u001b[1;33m)\u001b[0m\u001b[1;33m)\u001b[0m\u001b[1;33m\u001b[0m\u001b[0m\n\u001b[0m\u001b[0;32m   3278\u001b[0m \u001b[1;33m\u001b[0m\u001b[0m\n\u001b[0;32m   3279\u001b[0m     \u001b[1;32mdef\u001b[0m \u001b[0m_set_descr\u001b[0m\u001b[1;33m(\u001b[0m\u001b[0mself\u001b[0m\u001b[1;33m,\u001b[0m \u001b[0mnew_descr\u001b[0m\u001b[1;33m)\u001b[0m\u001b[1;33m:\u001b[0m\u001b[1;33m\u001b[0m\u001b[0m\n",
      "\u001b[1;32m/home/topolo/Public/sage/local/lib/python2.7/site-packages/sage/rings/qqbar.pyc\u001b[0m in \u001b[0;36mexactify\u001b[1;34m(self)\u001b[0m\n\u001b[0;32m   7078\u001b[0m             \u001b[0mleft\u001b[0m \u001b[1;33m=\u001b[0m \u001b[0mself\u001b[0m\u001b[1;33m.\u001b[0m\u001b[0m_left\u001b[0m\u001b[1;33m\u001b[0m\u001b[0m\n\u001b[0;32m   7079\u001b[0m             \u001b[0mright\u001b[0m \u001b[1;33m=\u001b[0m \u001b[0mself\u001b[0m\u001b[1;33m.\u001b[0m\u001b[0m_right\u001b[0m\u001b[1;33m\u001b[0m\u001b[0m\n\u001b[1;32m-> 7080\u001b[1;33m             \u001b[0mleft\u001b[0m\u001b[1;33m.\u001b[0m\u001b[0mexactify\u001b[0m\u001b[1;33m(\u001b[0m\u001b[1;33m)\u001b[0m\u001b[1;33m\u001b[0m\u001b[0m\n\u001b[0m\u001b[0;32m   7081\u001b[0m             \u001b[0mright\u001b[0m\u001b[1;33m.\u001b[0m\u001b[0mexactify\u001b[0m\u001b[1;33m(\u001b[0m\u001b[1;33m)\u001b[0m\u001b[1;33m\u001b[0m\u001b[0m\n\u001b[0;32m   7082\u001b[0m             \u001b[0mgen\u001b[0m \u001b[1;33m=\u001b[0m \u001b[0mleft\u001b[0m\u001b[1;33m.\u001b[0m\u001b[0m_exact_field\u001b[0m\u001b[1;33m(\u001b[0m\u001b[1;33m)\u001b[0m\u001b[1;33m.\u001b[0m\u001b[0munion\u001b[0m\u001b[1;33m(\u001b[0m\u001b[0mright\u001b[0m\u001b[1;33m.\u001b[0m\u001b[0m_exact_field\u001b[0m\u001b[1;33m(\u001b[0m\u001b[1;33m)\u001b[0m\u001b[1;33m)\u001b[0m\u001b[1;33m\u001b[0m\u001b[0m\n",
      "\u001b[1;32m/home/topolo/Public/sage/local/lib/python2.7/site-packages/sage/rings/qqbar.pyc\u001b[0m in \u001b[0;36mexactify\u001b[1;34m(self)\u001b[0m\n\u001b[0;32m   3275\u001b[0m         \u001b[0mod\u001b[0m \u001b[1;33m=\u001b[0m \u001b[0mself\u001b[0m\u001b[1;33m.\u001b[0m\u001b[0m_descr\u001b[0m\u001b[1;33m\u001b[0m\u001b[0m\n\u001b[0;32m   3276\u001b[0m         \u001b[1;32mif\u001b[0m \u001b[0misinstance\u001b[0m\u001b[1;33m(\u001b[0m\u001b[0mod\u001b[0m\u001b[1;33m,\u001b[0m \u001b[1;33m(\u001b[0m\u001b[0mANRational\u001b[0m\u001b[1;33m,\u001b[0m \u001b[0mANExtensionElement\u001b[0m\u001b[1;33m)\u001b[0m\u001b[1;33m)\u001b[0m\u001b[1;33m:\u001b[0m \u001b[1;32mreturn\u001b[0m\u001b[1;33m\u001b[0m\u001b[0m\n\u001b[1;32m-> 3277\u001b[1;33m         \u001b[0mself\u001b[0m\u001b[1;33m.\u001b[0m\u001b[0m_set_descr\u001b[0m\u001b[1;33m(\u001b[0m\u001b[0mself\u001b[0m\u001b[1;33m.\u001b[0m\u001b[0m_descr\u001b[0m\u001b[1;33m.\u001b[0m\u001b[0mexactify\u001b[0m\u001b[1;33m(\u001b[0m\u001b[1;33m)\u001b[0m\u001b[1;33m)\u001b[0m\u001b[1;33m\u001b[0m\u001b[0m\n\u001b[0m\u001b[0;32m   3278\u001b[0m \u001b[1;33m\u001b[0m\u001b[0m\n\u001b[0;32m   3279\u001b[0m     \u001b[1;32mdef\u001b[0m \u001b[0m_set_descr\u001b[0m\u001b[1;33m(\u001b[0m\u001b[0mself\u001b[0m\u001b[1;33m,\u001b[0m \u001b[0mnew_descr\u001b[0m\u001b[1;33m)\u001b[0m\u001b[1;33m:\u001b[0m\u001b[1;33m\u001b[0m\u001b[0m\n",
      "\u001b[1;32m/home/topolo/Public/sage/local/lib/python2.7/site-packages/sage/rings/qqbar.pyc\u001b[0m in \u001b[0;36mexactify\u001b[1;34m(self)\u001b[0m\n\u001b[0;32m   7079\u001b[0m             \u001b[0mright\u001b[0m \u001b[1;33m=\u001b[0m \u001b[0mself\u001b[0m\u001b[1;33m.\u001b[0m\u001b[0m_right\u001b[0m\u001b[1;33m\u001b[0m\u001b[0m\n\u001b[0;32m   7080\u001b[0m             \u001b[0mleft\u001b[0m\u001b[1;33m.\u001b[0m\u001b[0mexactify\u001b[0m\u001b[1;33m(\u001b[0m\u001b[1;33m)\u001b[0m\u001b[1;33m\u001b[0m\u001b[0m\n\u001b[1;32m-> 7081\u001b[1;33m             \u001b[0mright\u001b[0m\u001b[1;33m.\u001b[0m\u001b[0mexactify\u001b[0m\u001b[1;33m(\u001b[0m\u001b[1;33m)\u001b[0m\u001b[1;33m\u001b[0m\u001b[0m\n\u001b[0m\u001b[0;32m   7082\u001b[0m             \u001b[0mgen\u001b[0m \u001b[1;33m=\u001b[0m \u001b[0mleft\u001b[0m\u001b[1;33m.\u001b[0m\u001b[0m_exact_field\u001b[0m\u001b[1;33m(\u001b[0m\u001b[1;33m)\u001b[0m\u001b[1;33m.\u001b[0m\u001b[0munion\u001b[0m\u001b[1;33m(\u001b[0m\u001b[0mright\u001b[0m\u001b[1;33m.\u001b[0m\u001b[0m_exact_field\u001b[0m\u001b[1;33m(\u001b[0m\u001b[1;33m)\u001b[0m\u001b[1;33m)\u001b[0m\u001b[1;33m\u001b[0m\u001b[0m\n\u001b[0;32m   7083\u001b[0m             \u001b[0mleft_value\u001b[0m \u001b[1;33m=\u001b[0m \u001b[0mgen\u001b[0m\u001b[1;33m(\u001b[0m\u001b[0mleft\u001b[0m\u001b[1;33m.\u001b[0m\u001b[0m_exact_value\u001b[0m\u001b[1;33m(\u001b[0m\u001b[1;33m)\u001b[0m\u001b[1;33m)\u001b[0m\u001b[1;33m\u001b[0m\u001b[0m\n",
      "\u001b[1;32m/home/topolo/Public/sage/local/lib/python2.7/site-packages/sage/rings/qqbar.pyc\u001b[0m in \u001b[0;36mexactify\u001b[1;34m(self)\u001b[0m\n\u001b[0;32m   3275\u001b[0m         \u001b[0mod\u001b[0m \u001b[1;33m=\u001b[0m \u001b[0mself\u001b[0m\u001b[1;33m.\u001b[0m\u001b[0m_descr\u001b[0m\u001b[1;33m\u001b[0m\u001b[0m\n\u001b[0;32m   3276\u001b[0m         \u001b[1;32mif\u001b[0m \u001b[0misinstance\u001b[0m\u001b[1;33m(\u001b[0m\u001b[0mod\u001b[0m\u001b[1;33m,\u001b[0m \u001b[1;33m(\u001b[0m\u001b[0mANRational\u001b[0m\u001b[1;33m,\u001b[0m \u001b[0mANExtensionElement\u001b[0m\u001b[1;33m)\u001b[0m\u001b[1;33m)\u001b[0m\u001b[1;33m:\u001b[0m \u001b[1;32mreturn\u001b[0m\u001b[1;33m\u001b[0m\u001b[0m\n\u001b[1;32m-> 3277\u001b[1;33m         \u001b[0mself\u001b[0m\u001b[1;33m.\u001b[0m\u001b[0m_set_descr\u001b[0m\u001b[1;33m(\u001b[0m\u001b[0mself\u001b[0m\u001b[1;33m.\u001b[0m\u001b[0m_descr\u001b[0m\u001b[1;33m.\u001b[0m\u001b[0mexactify\u001b[0m\u001b[1;33m(\u001b[0m\u001b[1;33m)\u001b[0m\u001b[1;33m)\u001b[0m\u001b[1;33m\u001b[0m\u001b[0m\n\u001b[0m\u001b[0;32m   3278\u001b[0m \u001b[1;33m\u001b[0m\u001b[0m\n\u001b[0;32m   3279\u001b[0m     \u001b[1;32mdef\u001b[0m \u001b[0m_set_descr\u001b[0m\u001b[1;33m(\u001b[0m\u001b[0mself\u001b[0m\u001b[1;33m,\u001b[0m \u001b[0mnew_descr\u001b[0m\u001b[1;33m)\u001b[0m\u001b[1;33m:\u001b[0m\u001b[1;33m\u001b[0m\u001b[0m\n",
      "\u001b[1;32m/home/topolo/Public/sage/local/lib/python2.7/site-packages/sage/rings/qqbar.pyc\u001b[0m in \u001b[0;36mexactify\u001b[1;34m(self)\u001b[0m\n\u001b[0;32m   6143\u001b[0m             \u001b[0mnewpol_sage_y\u001b[0m \u001b[1;33m=\u001b[0m \u001b[0mQQy\u001b[0m\u001b[1;33m(\u001b[0m\u001b[0mnewpol_sage\u001b[0m\u001b[1;33m)\u001b[0m\u001b[1;33m\u001b[0m\u001b[0m\n\u001b[0;32m   6144\u001b[0m \u001b[1;33m\u001b[0m\u001b[0m\n\u001b[1;32m-> 6145\u001b[1;33m             \u001b[0mred_elt\u001b[0m\u001b[1;33m,\u001b[0m \u001b[0mred_back\u001b[0m\u001b[1;33m,\u001b[0m \u001b[0mred_pol\u001b[0m \u001b[1;33m=\u001b[0m \u001b[0mdo_polred\u001b[0m\u001b[1;33m(\u001b[0m\u001b[0mnewpol_sage_y\u001b[0m\u001b[1;33m)\u001b[0m\u001b[1;33m\u001b[0m\u001b[0m\n\u001b[0m\u001b[0;32m   6146\u001b[0m \u001b[1;33m\u001b[0m\u001b[0m\n\u001b[0;32m   6147\u001b[0m             \u001b[0mnew_nf\u001b[0m \u001b[1;33m=\u001b[0m \u001b[0mNumberField\u001b[0m\u001b[1;33m(\u001b[0m\u001b[0mred_pol\u001b[0m\u001b[1;33m,\u001b[0m \u001b[0mname\u001b[0m\u001b[1;33m=\u001b[0m\u001b[1;34m'a'\u001b[0m\u001b[1;33m,\u001b[0m \u001b[0mcheck\u001b[0m\u001b[1;33m=\u001b[0m\u001b[0mFalse\u001b[0m\u001b[1;33m)\u001b[0m\u001b[1;33m\u001b[0m\u001b[0m\n",
      "\u001b[1;32m/home/topolo/Public/sage/local/lib/python2.7/site-packages/sage/rings/qqbar.pyc\u001b[0m in \u001b[0;36mdo_polred\u001b[1;34m(poly)\u001b[0m\n\u001b[0;32m   1707\u001b[0m         \u001b[1;33m(\u001b[0m\u001b[1;36m1\u001b[0m\u001b[1;33m/\u001b[0m\u001b[1;36m4\u001b[0m\u001b[1;33m*\u001b[0m\u001b[0mx\u001b[0m\u001b[1;33m,\u001b[0m \u001b[1;36m4\u001b[0m\u001b[1;33m*\u001b[0m\u001b[0mx\u001b[0m\u001b[1;33m,\u001b[0m \u001b[0mx\u001b[0m\u001b[1;33m^\u001b[0m\u001b[1;36m4\u001b[0m \u001b[1;33m-\u001b[0m \u001b[1;36m268435456\u001b[0m\u001b[1;33m*\u001b[0m\u001b[0mx\u001b[0m\u001b[1;33m^\u001b[0m\u001b[1;36m2\u001b[0m \u001b[1;33m+\u001b[0m \u001b[1;36m211973662764908353025\u001b[0m\u001b[1;33m)\u001b[0m\u001b[1;33m\u001b[0m\u001b[0m\n\u001b[0;32m   1708\u001b[0m     \"\"\"\n\u001b[1;32m-> 1709\u001b[1;33m     \u001b[0mnew_poly\u001b[0m\u001b[1;33m,\u001b[0m \u001b[0melt_back\u001b[0m \u001b[1;33m=\u001b[0m \u001b[0mpoly\u001b[0m\u001b[1;33m.\u001b[0m\u001b[0m_pari_\u001b[0m\u001b[1;33m(\u001b[0m\u001b[1;33m)\u001b[0m\u001b[1;33m.\u001b[0m\u001b[0mpolredbest\u001b[0m\u001b[1;33m(\u001b[0m\u001b[0mflag\u001b[0m\u001b[1;33m=\u001b[0m\u001b[1;36m1\u001b[0m\u001b[1;33m)\u001b[0m\u001b[1;33m\u001b[0m\u001b[0m\n\u001b[0m\u001b[0;32m   1710\u001b[0m \u001b[1;33m\u001b[0m\u001b[0m\n\u001b[0;32m   1711\u001b[0m     \u001b[0mparent\u001b[0m \u001b[1;33m=\u001b[0m \u001b[0mpoly\u001b[0m\u001b[1;33m.\u001b[0m\u001b[0mparent\u001b[0m\u001b[1;33m(\u001b[0m\u001b[1;33m)\u001b[0m\u001b[1;33m\u001b[0m\u001b[0m\n",
      "\u001b[1;32m/home/topolo/Public/sage/local/lib/python2.7/site-packages/sage/libs/pari/auto_gen.pxi\u001b[0m in \u001b[0;36msage.libs.pari.gen.gen_auto.polredbest (/home/topolo/Public/sage/src/build/cythonized/sage/libs/pari/gen.c:80318)\u001b[1;34m()\u001b[0m\n\u001b[0;32m  15049\u001b[0m         \"\"\"\n\u001b[0;32m  15050\u001b[0m         \u001b[0mcdef\u001b[0m \u001b[0mGEN\u001b[0m \u001b[0m_T\u001b[0m \u001b[1;33m=\u001b[0m \u001b[0mT\u001b[0m\u001b[1;33m.\u001b[0m\u001b[0mg\u001b[0m\u001b[1;33m\u001b[0m\u001b[0m\n\u001b[1;32m> 15051\u001b[1;33m         \u001b[0msig_on\u001b[0m\u001b[1;33m(\u001b[0m\u001b[1;33m)\u001b[0m\u001b[1;33m\u001b[0m\u001b[0m\n\u001b[0m\u001b[0;32m  15052\u001b[0m         \u001b[0mcdef\u001b[0m \u001b[0mGEN\u001b[0m \u001b[0m_ret\u001b[0m \u001b[1;33m=\u001b[0m \u001b[0mpolredbest\u001b[0m\u001b[1;33m(\u001b[0m\u001b[0m_T\u001b[0m\u001b[1;33m,\u001b[0m \u001b[0mflag\u001b[0m\u001b[1;33m)\u001b[0m\u001b[1;33m\u001b[0m\u001b[0m\n\u001b[0;32m  15053\u001b[0m         \u001b[1;32mreturn\u001b[0m \u001b[0mpari_instance\u001b[0m\u001b[1;33m.\u001b[0m\u001b[0mnew_gen\u001b[0m\u001b[1;33m(\u001b[0m\u001b[0m_ret\u001b[0m\u001b[1;33m)\u001b[0m\u001b[1;33m\u001b[0m\u001b[0m\n",
      "\u001b[1;32msrc/cysignals/signals.pyx\u001b[0m in \u001b[0;36mcysignals.signals.sig_raise_exception (build/src/cysignals/signals.c:1116)\u001b[1;34m()\u001b[0m\n",
      "\u001b[1;31mKeyboardInterrupt\u001b[0m: "
     ]
    }
   ],
   "source": [
    "make_closure_rel(9)"
   ]
  },
  {
   "cell_type": "code",
   "execution_count": 239,
   "metadata": {
    "collapsed": false
   },
   "outputs": [
    {
     "data": {
      "text/plain": [
       "(39*v_i^7 - 399*v_i^5 + 1261*v_i^3 - 900*v_i == v_i^9,\n",
       " [1/36*sqrt(1/35)*sqrt((11340*(2/893025*sqrt(54997406) + 9052/893025)^(2/3) + 5355*(2/893025*sqrt(54997406) + 9052/893025)^(1/3) - 632)/(2/893025*sqrt(54997406) + 9052/893025)^(1/3)) - 1/2*sqrt(-(2/893025*sqrt(54997406) + 9052/893025)^(1/3) + 3419/6*sqrt(1/35)/sqrt((11340*(2/893025*sqrt(54997406) + 9052/893025)^(2/3) + 5355*(2/893025*sqrt(54997406) + 9052/893025)^(1/3) - 632)/(2/893025*sqrt(54997406) + 9052/893025)^(1/3)) + 158/2835/(2/893025*sqrt(54997406) + 9052/893025)^(1/3) + 17/18) + 13/12,\n",
       "  1/36*sqrt(1/35)*sqrt((11340*(2/893025*sqrt(54997406) + 9052/893025)^(2/3) + 5355*(2/893025*sqrt(54997406) + 9052/893025)^(1/3) - 632)/(2/893025*sqrt(54997406) + 9052/893025)^(1/3)) + 1/2*sqrt(-(2/893025*sqrt(54997406) + 9052/893025)^(1/3) + 3419/6*sqrt(1/35)/sqrt((11340*(2/893025*sqrt(54997406) + 9052/893025)^(2/3) + 5355*(2/893025*sqrt(54997406) + 9052/893025)^(1/3) - 632)/(2/893025*sqrt(54997406) + 9052/893025)^(1/3)) + 158/2835/(2/893025*sqrt(54997406) + 9052/893025)^(1/3) + 17/18) + 13/12])"
      ]
     },
     "execution_count": 239,
     "metadata": {},
     "output_type": "execute_result"
    }
   ],
   "source": [
    "make_closure_rel(9,[1,2,3,5])"
   ]
  },
  {
   "cell_type": "code",
   "execution_count": 246,
   "metadata": {
    "collapsed": false
   },
   "outputs": [
    {
     "name": "stdout",
     "output_type": "stream",
     "text": [
      "2\n",
      "0.756080852594268\n"
     ]
    },
    {
     "data": {
      "text/plain": [
       "2.17538238657304"
      ]
     },
     "execution_count": 246,
     "metadata": {},
     "output_type": "execute_result"
    }
   ],
   "source": [
    "print( len(make_closure_rel(9,[1,2,3,5])[1]) )\n",
    "print(make_closure_rel(9,[1,2,3,5])[1][0].N() )\n",
    "make_closure_rel(9,[1,2,3,5])[1][1].N()"
   ]
  },
  {
   "cell_type": "code",
   "execution_count": 253,
   "metadata": {
    "collapsed": false
   },
   "outputs": [
    {
     "name": "stdout",
     "output_type": "stream",
     "text": [
      "55*v_i^9 - 1023*v_i^7 + 7645*v_i^5 - 21076*v_i^3 + 14400*v_i == v_i^11\n",
      "[3465*T_0^5 - 17325*T_0^4 + 35805*T_0^3 - 38225*T_0^2 + 21076*T_0 - 4800]\n"
     ]
    },
    {
     "data": {
      "text/plain": [
       "1.062793577485728"
      ]
     },
     "execution_count": 253,
     "metadata": {},
     "output_type": "execute_result"
    }
   ],
   "source": [
    "print( make_closure_rel(11)[0] )\n",
    "print( make_closure_rel(11)[1] )\n",
    "find_root( make_closure_rel(11)[1][0], 0,2)"
   ]
  },
  {
   "cell_type": "code",
   "execution_count": 254,
   "metadata": {
    "collapsed": false
   },
   "outputs": [
    {
     "data": {
      "text/plain": [
       "(91*v_i^11 - 3003*v_i^9 + 44473*v_i^7 - 296296*v_i^5 + 773136*v_i^3 - 518400*v_i == v_i^13,\n",
       " [45045*T_0^6 - 315315*T_0^5 + 945945*T_0^4 - 1556555*T_0^3 + 1481480*T_0^2 - 773136*T_0 + 172800])"
      ]
     },
     "execution_count": 254,
     "metadata": {},
     "output_type": "execute_result"
    }
   ],
   "source": [
    "make_closure_rel(13)"
   ]
  },
  {
   "cell_type": "code",
   "execution_count": 259,
   "metadata": {
    "collapsed": false
   },
   "outputs": [
    {
     "ename": "RuntimeError",
     "evalue": "f appears to have no zero on the interval",
     "output_type": "error",
     "traceback": [
      "\u001b[1;31m---------------------------------------------------------------------------\u001b[0m",
      "\u001b[1;31mRuntimeError\u001b[0m                              Traceback (most recent call last)",
      "\u001b[1;32m<ipython-input-259-e96f4f57aae6>\u001b[0m in \u001b[0;36m<module>\u001b[1;34m()\u001b[0m\n\u001b[1;32m----> 1\u001b[1;33m \u001b[0mfind_root\u001b[0m\u001b[1;33m(\u001b[0m \u001b[0mmake_closure_rel\u001b[0m\u001b[1;33m(\u001b[0m\u001b[0mInteger\u001b[0m\u001b[1;33m(\u001b[0m\u001b[1;36m13\u001b[0m\u001b[1;33m)\u001b[0m\u001b[1;33m)\u001b[0m\u001b[1;33m[\u001b[0m\u001b[0mInteger\u001b[0m\u001b[1;33m(\u001b[0m\u001b[1;36m1\u001b[0m\u001b[1;33m)\u001b[0m\u001b[1;33m]\u001b[0m\u001b[1;33m[\u001b[0m\u001b[0mInteger\u001b[0m\u001b[1;33m(\u001b[0m\u001b[1;36m0\u001b[0m\u001b[1;33m)\u001b[0m\u001b[1;33m]\u001b[0m\u001b[1;33m,\u001b[0m \u001b[0mInteger\u001b[0m\u001b[1;33m(\u001b[0m\u001b[1;36m0\u001b[0m\u001b[1;33m)\u001b[0m\u001b[1;33m,\u001b[0m\u001b[0mInteger\u001b[0m\u001b[1;33m(\u001b[0m\u001b[1;36m10\u001b[0m\u001b[1;33m)\u001b[0m\u001b[1;33m)\u001b[0m\u001b[1;33m\u001b[0m\u001b[0m\n\u001b[0m",
      "\u001b[1;32m/home/topolo/Public/sage/src/sage/misc/lazy_import.pyx\u001b[0m in \u001b[0;36msage.misc.lazy_import.LazyImport.__call__ (/home/topolo/Public/sage/src/build/cythonized/sage/misc/lazy_import.c:3627)\u001b[1;34m()\u001b[0m\n\u001b[0;32m    384\u001b[0m             \u001b[0mTrue\u001b[0m\u001b[1;33m\u001b[0m\u001b[0m\n\u001b[0;32m    385\u001b[0m         \"\"\"\n\u001b[1;32m--> 386\u001b[1;33m         \u001b[1;32mreturn\u001b[0m \u001b[0mself\u001b[0m\u001b[1;33m.\u001b[0m\u001b[0m_get_object\u001b[0m\u001b[1;33m(\u001b[0m\u001b[1;33m)\u001b[0m\u001b[1;33m(\u001b[0m\u001b[1;33m*\u001b[0m\u001b[0margs\u001b[0m\u001b[1;33m,\u001b[0m \u001b[1;33m**\u001b[0m\u001b[0mkwds\u001b[0m\u001b[1;33m)\u001b[0m\u001b[1;33m\u001b[0m\u001b[0m\n\u001b[0m\u001b[0;32m    387\u001b[0m \u001b[1;33m\u001b[0m\u001b[0m\n\u001b[0;32m    388\u001b[0m     \u001b[1;32mdef\u001b[0m \u001b[0m__repr__\u001b[0m\u001b[1;33m(\u001b[0m\u001b[0mself\u001b[0m\u001b[1;33m)\u001b[0m\u001b[1;33m:\u001b[0m\u001b[1;33m\u001b[0m\u001b[0m\n",
      "\u001b[1;32m/home/topolo/Public/sage/local/lib/python2.7/site-packages/sage/numerical/optimize.pyc\u001b[0m in \u001b[0;36mfind_root\u001b[1;34m(f, a, b, xtol, rtol, maxiter, full_output)\u001b[0m\n\u001b[0;32m     74\u001b[0m     \"\"\"\n\u001b[0;32m     75\u001b[0m     \u001b[1;32mtry\u001b[0m\u001b[1;33m:\u001b[0m\u001b[1;33m\u001b[0m\u001b[0m\n\u001b[1;32m---> 76\u001b[1;33m         \u001b[1;32mreturn\u001b[0m \u001b[0mf\u001b[0m\u001b[1;33m.\u001b[0m\u001b[0mfind_root\u001b[0m\u001b[1;33m(\u001b[0m\u001b[0ma\u001b[0m\u001b[1;33m=\u001b[0m\u001b[0ma\u001b[0m\u001b[1;33m,\u001b[0m\u001b[0mb\u001b[0m\u001b[1;33m=\u001b[0m\u001b[0mb\u001b[0m\u001b[1;33m,\u001b[0m\u001b[0mxtol\u001b[0m\u001b[1;33m=\u001b[0m\u001b[0mxtol\u001b[0m\u001b[1;33m,\u001b[0m\u001b[0mrtol\u001b[0m\u001b[1;33m=\u001b[0m\u001b[0mrtol\u001b[0m\u001b[1;33m,\u001b[0m\u001b[0mmaxiter\u001b[0m\u001b[1;33m=\u001b[0m\u001b[0mmaxiter\u001b[0m\u001b[1;33m,\u001b[0m\u001b[0mfull_output\u001b[0m\u001b[1;33m=\u001b[0m\u001b[0mfull_output\u001b[0m\u001b[1;33m)\u001b[0m\u001b[1;33m\u001b[0m\u001b[0m\n\u001b[0m\u001b[0;32m     77\u001b[0m     \u001b[1;32mexcept\u001b[0m \u001b[0mAttributeError\u001b[0m\u001b[1;33m:\u001b[0m\u001b[1;33m\u001b[0m\u001b[0m\n\u001b[0;32m     78\u001b[0m         \u001b[1;32mpass\u001b[0m\u001b[1;33m\u001b[0m\u001b[0m\n",
      "\u001b[1;32m/home/topolo/Public/sage/src/sage/symbolic/expression.pyx\u001b[0m in \u001b[0;36msage.symbolic.expression.Expression.find_root (/home/topolo/Public/sage/src/build/cythonized/sage/symbolic/expression.cpp:57525)\u001b[1;34m()\u001b[0m\n\u001b[0;32m  10914\u001b[0m         \u001b[1;32melif\u001b[0m \u001b[0mself\u001b[0m\u001b[1;33m.\u001b[0m\u001b[0mnumber_of_arguments\u001b[0m\u001b[1;33m(\u001b[0m\u001b[1;33m)\u001b[0m \u001b[1;33m==\u001b[0m \u001b[1;36m1\u001b[0m\u001b[1;33m:\u001b[0m\u001b[1;33m\u001b[0m\u001b[0m\n\u001b[0;32m  10915\u001b[0m             \u001b[0mf\u001b[0m \u001b[1;33m=\u001b[0m \u001b[0mself\u001b[0m\u001b[1;33m.\u001b[0m\u001b[0m_fast_float_\u001b[0m\u001b[1;33m(\u001b[0m\u001b[0mself\u001b[0m\u001b[1;33m.\u001b[0m\u001b[0mdefault_variable\u001b[0m\u001b[1;33m(\u001b[0m\u001b[1;33m)\u001b[0m\u001b[1;33m)\u001b[0m\u001b[1;33m\u001b[0m\u001b[0m\n\u001b[1;32m> 10916\u001b[1;33m             return find_root(f, a=a, b=b, xtol=xtol,\n\u001b[0m\u001b[0;32m  10917\u001b[0m                              \u001b[0mrtol\u001b[0m\u001b[1;33m=\u001b[0m\u001b[0mrtol\u001b[0m\u001b[1;33m,\u001b[0m\u001b[0mmaxiter\u001b[0m\u001b[1;33m=\u001b[0m\u001b[0mmaxiter\u001b[0m\u001b[1;33m,\u001b[0m\u001b[1;33m\u001b[0m\u001b[0m\n\u001b[0;32m  10918\u001b[0m                              full_output=full_output)\n",
      "\u001b[1;32m/home/topolo/Public/sage/local/lib/python2.7/site-packages/sage/numerical/optimize.pyc\u001b[0m in \u001b[0;36mfind_root\u001b[1;34m(f, a, b, xtol, rtol, maxiter, full_output)\u001b[0m\n\u001b[0;32m     92\u001b[0m                 \u001b[1;32melse\u001b[0m\u001b[1;33m:\u001b[0m\u001b[1;33m\u001b[0m\u001b[0m\n\u001b[0;32m     93\u001b[0m                     \u001b[1;32mreturn\u001b[0m \u001b[0ms\u001b[0m\u001b[1;33m\u001b[0m\u001b[0m\n\u001b[1;32m---> 94\u001b[1;33m             \u001b[1;32mraise\u001b[0m \u001b[0mRuntimeError\u001b[0m\u001b[1;33m(\u001b[0m\u001b[1;34m\"f appears to have no zero on the interval\"\u001b[0m\u001b[1;33m)\u001b[0m\u001b[1;33m\u001b[0m\u001b[0m\n\u001b[0m\u001b[0;32m     95\u001b[0m         \u001b[1;31m# If we found such an s, then we just instead find\u001b[0m\u001b[1;33m\u001b[0m\u001b[1;33m\u001b[0m\u001b[0m\n\u001b[0;32m     96\u001b[0m         \u001b[1;31m# a root between left and s or s and right.\u001b[0m\u001b[1;33m\u001b[0m\u001b[1;33m\u001b[0m\u001b[0m\n",
      "\u001b[1;31mRuntimeError\u001b[0m: f appears to have no zero on the interval"
     ]
    }
   ],
   "source": [
    "find_root( make_closure_rel(13)[1][0], 0,10)"
   ]
  },
  {
   "cell_type": "code",
   "execution_count": 260,
   "metadata": {
    "collapsed": false
   },
   "outputs": [
    {
     "data": {
      "text/plain": [
       "(104*v_i^11 - 3718*v_i^9 + 57772*v_i^7 - 395681*v_i^5 + 1047124*v_i^3 - 705600*v_i == v_i^13,\n",
       " [45045*T_0^6 - 360360*T_0^5 + 1171170*T_0^4 - 2022020*T_0^3 + 1978405*T_0^2 - 1047124*T_0 + 235200])"
      ]
     },
     "execution_count": 260,
     "metadata": {},
     "output_type": "execute_result"
    }
   ],
   "source": [
    "make_closure_rel(13,[1,2,3,4,5,7])"
   ]
  },
  {
   "cell_type": "code",
   "execution_count": 261,
   "metadata": {
    "collapsed": false
   },
   "outputs": [
    {
     "data": {
      "text/plain": [
       "1.1359579057687192"
      ]
     },
     "execution_count": 261,
     "metadata": {},
     "output_type": "execute_result"
    }
   ],
   "source": [
    "find_root( make_closure_rel(13,[1,2,3,4,5,7])[1][0],0,2 )  # find a root between 0 and 2 for T_0"
   ]
  },
  {
   "cell_type": "code",
   "execution_count": 262,
   "metadata": {
    "collapsed": false
   },
   "outputs": [
    {
     "data": {
      "text/plain": [
       "(140*v_i^13 - 7462*v_i^11 + 191620*v_i^9 - 2475473*v_i^7 + 15291640*v_i^5 - 38402064*v_i^3 + 25401600*v_i == v_i^15,\n",
       " [675675*T_0^7 - 6306300*T_0^6 + 25855830*T_0^5 - 60360300*T_0^4 + 86641555*T_0^3 - 76458200*T_0^2 + 38402064*T_0 - 8467200])"
      ]
     },
     "execution_count": 262,
     "metadata": {},
     "output_type": "execute_result"
    }
   ],
   "source": [
    "make_closure_rel(15)"
   ]
  },
  {
   "cell_type": "code",
   "execution_count": 264,
   "metadata": {
    "collapsed": false
   },
   "outputs": [
    {
     "data": {
      "text/plain": [
       "1.4276826654691732"
      ]
     },
     "execution_count": 264,
     "metadata": {},
     "output_type": "execute_result"
    }
   ],
   "source": [
    "find_root( make_closure_rel(15)[1][0],0,2 )  # find a root between 0 and 2 for T_0"
   ]
  },
  {
   "cell_type": "markdown",
   "metadata": {},
   "source": [
    "|$Q$ | $V$ | Closure | $T_0$ |\n",
    "| :--- | :---  | :---- | :-- |\n",
    "| 3 | $\\lbrace 0, \\pm 1 \\rbrace$ | $v_{(i)}^3=v_{(i)}$ | $1/3$ | \n",
    "| 5 | $\\lbrace 0, \\pm 1, \\pm 3 \\rbrace$ | $v_{(i)}^5=10v_{(i)}^3 - 9v_{(i)}$ | $1 \\pm \\sqrt{2/5}$ | \n",
    "\n",
    "\n",
    "Table 1: 1-dim. Maxwell lattices with odd number of integer-valued velocities, $Q=3,5,7,9,11,13,15$\n"
   ]
  },
  {
   "cell_type": "code",
   "execution_count": 274,
   "metadata": {
    "collapsed": true
   },
   "outputs": [],
   "source": [
    "phi_v = sqrt( 1/(2*T_0*pi))*exp( - (v-u)**2/(2*T_0))"
   ]
  },
  {
   "cell_type": "markdown",
   "metadata": {},
   "source": [
    "For $Q=3$"
   ]
  },
  {
   "cell_type": "code",
   "execution_count": 275,
   "metadata": {
    "collapsed": false
   },
   "outputs": [
    {
     "data": {
      "text/plain": [
       "sqrt(3)*sqrt(1/2)*e^(-3/2*(u - v_i)^2)/sqrt(pi)"
      ]
     },
     "execution_count": 275,
     "metadata": {},
     "output_type": "execute_result"
    }
   ],
   "source": [
    "phi_v.subs(T_0==1/3).subs(v==v_i)"
   ]
  },
  {
   "cell_type": "code",
   "execution_count": 276,
   "metadata": {
    "collapsed": false
   },
   "outputs": [
    {
     "data": {
      "text/plain": [
       "sqrt(3)*sqrt(1/2)*e^(-3/2*u^2)/sqrt(pi)"
      ]
     },
     "execution_count": 276,
     "metadata": {},
     "output_type": "execute_result"
    }
   ],
   "source": [
    "phi_v.subs(T_0==1/3).subs(v==0)"
   ]
  },
  {
   "cell_type": "code",
   "execution_count": 277,
   "metadata": {
    "collapsed": false
   },
   "outputs": [
    {
     "data": {
      "text/plain": [
       "sqrt(3)*sqrt(1/2)*e^(-3/2*(u - 1)^2)/sqrt(pi)"
      ]
     },
     "execution_count": 277,
     "metadata": {},
     "output_type": "execute_result"
    }
   ],
   "source": [
    "phi_v.subs(T_0==1/3).subs(v==1)"
   ]
  },
  {
   "cell_type": "code",
   "execution_count": 278,
   "metadata": {
    "collapsed": false
   },
   "outputs": [
    {
     "data": {
      "text/plain": [
       "sqrt(3)*sqrt(1/2)*e^(-3/2*(u + 1)^2)/sqrt(pi)"
      ]
     },
     "execution_count": 278,
     "metadata": {},
     "output_type": "execute_result"
    }
   ],
   "source": [
    "phi_v.subs(T_0==1/3).subs(v==-1)"
   ]
  },
  {
   "cell_type": "code",
   "execution_count": 282,
   "metadata": {
    "collapsed": false
   },
   "outputs": [
    {
     "data": {
      "text/plain": [
       "1/2*sqrt(3)*sqrt(2)*e^(-3/2*u^2 + 3*u - 3/2)/sqrt(pi) - 1/2*sqrt(3)*sqrt(2)*e^(-3/2*u^2 - 3*u - 3/2)/sqrt(pi)"
      ]
     },
     "execution_count": 282,
     "metadata": {},
     "output_type": "execute_result"
    }
   ],
   "source": [
    "( 0 + phi_v.subs(T_0==1/3).subs(v==1) + phi_v.subs(T_0==1/3).subs(v==-1)*(-1) ).expand().simplify()"
   ]
  },
  {
   "cell_type": "code",
   "execution_count": 283,
   "metadata": {
    "collapsed": false
   },
   "outputs": [
    {
     "data": {
      "text/plain": [
       "(10*v_i^3 - 9*v_i == v_i^5, [-1/5*sqrt(10) + 1, 1/5*sqrt(10) + 1])"
      ]
     },
     "execution_count": 283,
     "metadata": {},
     "output_type": "execute_result"
    }
   ],
   "source": [
    "v_i   = var(\"v_i\",domain=\"integer\")\n",
    "make_closure_rel(5,[1,3])"
   ]
  },
  {
   "cell_type": "code",
   "execution_count": null,
   "metadata": {
    "collapsed": true
   },
   "outputs": [],
   "source": []
  },
  {
   "cell_type": "code",
   "execution_count": null,
   "metadata": {
    "collapsed": true
   },
   "outputs": [],
   "source": []
  },
  {
   "cell_type": "markdown",
   "metadata": {},
   "source": [
    "## from *Lattices for the lattice Boltzmann method*, Chikatamarla and Karlin (2009), **PHYSICAL REVIEW E 79**, 046701 (2009)"
   ]
  },
  {
   "cell_type": "code",
   "execution_count": 284,
   "metadata": {
    "collapsed": true
   },
   "outputs": [],
   "source": [
    "u = var(\"u\",domain=\"real\")\n",
    "T_0 =var(\"T_0\",domain=\"positive\")\n",
    "v = var(\"v\",domain=\"real\")"
   ]
  },
  {
   "cell_type": "code",
   "execution_count": 285,
   "metadata": {
    "collapsed": true
   },
   "outputs": [],
   "source": [
    "phi_v = sqrt( 1/(2*pi*T_0))*exp( - (v-u)**2/(2*T_0))"
   ]
  },
  {
   "cell_type": "code",
   "execution_count": 286,
   "metadata": {
    "collapsed": false
   },
   "outputs": [
    {
     "name": "stdout",
     "output_type": "stream",
     "text": [
      "1\n",
      "u\n",
      "u^2 + T_0\n",
      "u^3 + 3*T_0*u\n",
      "u^4 + 6*T_0*u^2 + 3*T_0^2\n",
      "u^5 + 10*T_0*u^3 + 15*T_0^2*u\n",
      "u^6 + 15*T_0*u^4 + 45*T_0^2*u^2 + 15*T_0^3\n"
     ]
    }
   ],
   "source": [
    "print( integrate( phi_v * v**0, (v,-oo,oo)).expand().simplify() )\n",
    "print( integrate( phi_v * v**1, (v,-oo,oo)).expand().simplify() )\n",
    "print( integrate( phi_v * v**2, (v,-oo,oo)).expand().simplify() )\n",
    "print( integrate( phi_v * v**3, (v,-oo,oo)).expand().simplify() )\n",
    "print( integrate( phi_v * v**4, (v,-oo,oo)).expand().simplify() )\n",
    "print( integrate( phi_v * v**5, (v,-oo,oo)).expand().simplify() )\n",
    "print( integrate( phi_v * v**6, (v,-oo,oo)).expand().simplify() )"
   ]
  },
  {
   "cell_type": "markdown",
   "metadata": {},
   "source": [
    "$d\\equiv D=2$, 2-dim. case"
   ]
  },
  {
   "cell_type": "code",
   "execution_count": 288,
   "metadata": {
    "collapsed": true
   },
   "outputs": [],
   "source": [
    "u1,u2=var(\"u1,u2\",domain=\"real\")\n",
    "v1,v2=var(\"v1,v2\",domain=\"positive\")\n",
    "phi_v = 1/(2*pi*T_0)*exp( - ((v1-u1)**2+(v2-u2)**2)/(2*T_0))"
   ]
  },
  {
   "cell_type": "code",
   "execution_count": 298,
   "metadata": {
    "collapsed": false
   },
   "outputs": [
    {
     "name": "stdout",
     "output_type": "stream",
     "text": [
      "1\n",
      "u1\n",
      "u2\n",
      "u1^2 + T_0\n",
      "u2^2 + T_0\n",
      "u1*u2\n",
      "u1^3 + 3*T_0*u1\n",
      "u1^2*u2 + T_0*u2\n",
      "u1*u2^2 + T_0*u1\n",
      "u2^3 + 3*T_0*u2\n",
      "u1^4 + 6*T_0*u1^2 + 3*T_0^2\n",
      "u1^3*u2 + 3*T_0*u1*u2\n",
      "u1^2*u2^2 + T_0*u1^2 + T_0*u2^2 + T_0^2\n",
      "u1*u2^3 + 3*T_0*u1*u2\n",
      "u2^4 + 6*T_0*u2^2 + 3*T_0^2\n",
      "u1^5 + 10*T_0*u1^3 + 15*T_0^2*u1\n",
      "u1^4*u2 + 6*T_0*u1^2*u2 + 3*T_0^2*u2\n",
      "u1^3*u2^2 + T_0*u1^3 + 3*T_0*u1*u2^2 + 3*T_0^2*u1\n",
      "u1^2*u2^3 + 3*T_0*u1^2*u2 + T_0*u2^3 + 3*T_0^2*u2\n",
      "u1*u2^4 + 6*T_0*u1*u2^2 + 3*T_0^2*u1\n",
      "u2^5 + 10*T_0*u2^3 + 15*T_0^2*u2\n"
     ]
    }
   ],
   "source": [
    "print( integrate( integrate( phi_v * v1**0*v2**0, (v1,-oo,oo)),(v2,-oo,oo)).expand().simplify() )\n",
    "print( integrate( integrate( phi_v * v1**1*v2**0, (v1,-oo,oo)),(v2,-oo,oo)).expand().simplify() )\n",
    "print( integrate( integrate( phi_v * v1**0*v2**1, (v1,-oo,oo)),(v2,-oo,oo)).expand().simplify() )\n",
    "print( integrate( integrate( phi_v * v1**2*v2**0, (v1,-oo,oo)),(v2,-oo,oo)).expand().simplify() )\n",
    "print( integrate( integrate( phi_v * v1**0*v2**2, (v1,-oo,oo)),(v2,-oo,oo)).expand().simplify() )\n",
    "print( integrate( integrate( phi_v * v1**1*v2**1, (v1,-oo,oo)),(v2,-oo,oo)).expand().simplify() )\n",
    "print( integrate( integrate( phi_v * v1**3*v2**0, (v1,-oo,oo)),(v2,-oo,oo)).expand().simplify() )\n",
    "print( integrate( integrate( phi_v * v1**2*v2**1, (v1,-oo,oo)),(v2,-oo,oo)).expand().simplify() )\n",
    "print( integrate( integrate( phi_v * v1**1*v2**2, (v1,-oo,oo)),(v2,-oo,oo)).expand().simplify() )\n",
    "print( integrate( integrate( phi_v * v1**0*v2**3, (v1,-oo,oo)),(v2,-oo,oo)).expand().simplify() )\n",
    "print( integrate( integrate( phi_v * v1**4*v2**0, (v1,-oo,oo)),(v2,-oo,oo)).expand().simplify() )\n",
    "print( integrate( integrate( phi_v * v1**3*v2**1, (v1,-oo,oo)),(v2,-oo,oo)).expand().simplify() )\n",
    "print( integrate( integrate( phi_v * v1**2*v2**2, (v1,-oo,oo)),(v2,-oo,oo)).expand().simplify() )\n",
    "print( integrate( integrate( phi_v * v1**1*v2**3, (v1,-oo,oo)),(v2,-oo,oo)).expand().simplify() )\n",
    "print( integrate( integrate( phi_v * v1**0*v2**4, (v1,-oo,oo)),(v2,-oo,oo)).expand().simplify() )\n",
    "print( integrate( integrate( phi_v * v1**5*v2**0, (v1,-oo,oo)),(v2,-oo,oo)).expand().simplify() )\n",
    "print( integrate( integrate( phi_v * v1**4*v2**1, (v1,-oo,oo)),(v2,-oo,oo)).expand().simplify() )\n",
    "print( integrate( integrate( phi_v * v1**3*v2**2, (v1,-oo,oo)),(v2,-oo,oo)).expand().simplify() )\n",
    "print( integrate( integrate( phi_v * v1**2*v2**3, (v1,-oo,oo)),(v2,-oo,oo)).expand().simplify() )\n",
    "print( integrate( integrate( phi_v * v1**1*v2**4, (v1,-oo,oo)),(v2,-oo,oo)).expand().simplify() )\n",
    "print( integrate( integrate( phi_v * v1**0*v2**5, (v1,-oo,oo)),(v2,-oo,oo)).expand().simplify() )\n"
   ]
  },
  {
   "cell_type": "code",
   "execution_count": 299,
   "metadata": {
    "collapsed": true
   },
   "outputs": [],
   "source": [
    "Q=9\n",
    "W_lst = var(\",\".join(map(str,[\"W\"+str(k) for k in range(Q)])) ) # Python list of weights W_i, i=0,1,...Q-1"
   ]
  },
  {
   "cell_type": "code",
   "execution_count": 300,
   "metadata": {
    "collapsed": true
   },
   "outputs": [],
   "source": [
    "c_0 = (0,0)\n",
    "c_1,c_3 = (1,0),(-1,0); c_2,c_4=(0,1),(0,-1)\n",
    "c_5,c_6,c_7,c_8 =(1,1),(-1,1),(1,-1),(-1,-1)\n",
    "cs = [c_0,c_1,c_2,c_3,c_4,c_5,c_6,c_7,c_8]"
   ]
  },
  {
   "cell_type": "code",
   "execution_count": 302,
   "metadata": {
    "collapsed": false
   },
   "outputs": [
    {
     "data": {
      "text/plain": [
       "W0 + W1 + W2 + W3 + W4 + W5 + W6 + W7 + W8"
      ]
     },
     "execution_count": 302,
     "metadata": {},
     "output_type": "execute_result"
    }
   ],
   "source": [
    "sum(W_lst)"
   ]
  },
  {
   "cell_type": "code",
   "execution_count": 303,
   "metadata": {
    "collapsed": false
   },
   "outputs": [
    {
     "data": {
      "text/plain": [
       "W1 - W3 + W5 - W6 + W7 - W8"
      ]
     },
     "execution_count": 303,
     "metadata": {},
     "output_type": "execute_result"
    }
   ],
   "source": [
    "sum( [W_lst[k]*cs[k][0] for k in range(Q)] )"
   ]
  },
  {
   "cell_type": "code",
   "execution_count": 304,
   "metadata": {
    "collapsed": false
   },
   "outputs": [
    {
     "data": {
      "text/plain": [
       "W2 - W4 + W5 + W6 - W7 - W8"
      ]
     },
     "execution_count": 304,
     "metadata": {},
     "output_type": "execute_result"
    }
   ],
   "source": [
    "sum( [W_lst[k]*cs[k][1] for k in range(Q)] )"
   ]
  },
  {
   "cell_type": "code",
   "execution_count": 306,
   "metadata": {
    "collapsed": false
   },
   "outputs": [
    {
     "name": "stdout",
     "output_type": "stream",
     "text": [
      "W1 + W3 + W5 + W6 + W7 + W8\n",
      "W5 - W6 - W7 + W8\n",
      "W2 + W4 + W5 + W6 + W7 + W8\n"
     ]
    }
   ],
   "source": [
    "print( sum( [W_lst[k]*cs[k][0]*cs[k][0] for k in range(Q)] ) )\n",
    "print( sum( [W_lst[k]*cs[k][0]*cs[k][1] for k in range(Q)] ) )\n",
    "print( sum( [W_lst[k]*cs[k][1]*cs[k][1] for k in range(Q)] ) )"
   ]
  },
  {
   "cell_type": "code",
   "execution_count": 307,
   "metadata": {
    "collapsed": false
   },
   "outputs": [
    {
     "name": "stdout",
     "output_type": "stream",
     "text": [
      "W1 - W3 + W5 - W6 + W7 - W8\n",
      "W5 + W6 - W7 - W8\n",
      "W5 - W6 + W7 - W8\n",
      "W2 - W4 + W5 + W6 - W7 - W8\n"
     ]
    }
   ],
   "source": [
    "print( sum( [W_lst[k]*cs[k][0]*cs[k][0]*cs[k][0] for k in range(Q)] ) )\n",
    "print( sum( [W_lst[k]*cs[k][1]*cs[k][0]*cs[k][0] for k in range(Q)] ) )\n",
    "print( sum( [W_lst[k]*cs[k][1]*cs[k][1]*cs[k][0] for k in range(Q)] ) )\n",
    "# print( sum( [W_lst[k]*cs[k][1]*cs[k][1]*cs[k][1] for k in range(Q)] ) ) # the same"
   ]
  },
  {
   "cell_type": "code",
   "execution_count": 312,
   "metadata": {
    "collapsed": false
   },
   "outputs": [
    {
     "name": "stdout",
     "output_type": "stream",
     "text": [
      "W5 + W6 + W7 + W8\n",
      "W2 + W4 + W5 + W6 + W7 + W8\n"
     ]
    }
   ],
   "source": [
    "# print( sum( [W_lst[k]*cs[k][0]*cs[k][0]*cs[k][0]*cs[k][0] for k in range(Q)] ) ) # the same\n",
    "# print( sum( [W_lst[k]*cs[k][1]*cs[k][0]*cs[k][0]*cs[k][0] for k in range(Q)] ) ) # the same\n",
    "print( sum( [W_lst[k]*cs[k][0]*cs[k][0]*cs[k][1]*cs[k][1] for k in range(Q)] ) )\n",
    "#print( sum( [W_lst[k]*cs[k][0]*cs[k][1]*cs[k][1]*cs[k][1] for k in range(Q)] ) )  # the same\n",
    "#print( sum( [W_lst[k]*cs[k][1]*cs[k][1]*cs[k][1]*cs[k][1] for k in range(Q)] ) )\n"
   ]
  },
  {
   "cell_type": "markdown",
   "metadata": {},
   "source": [
    "Is there a way to generate all the discrete velocities, $\\mathbf{c}_i \\equiv \\mathbf{v}_i$?  \n",
    "\n",
    "I will use the *mirror symmetry* so we only need to consider the \"positive values\""
   ]
  },
  {
   "cell_type": "code",
   "execution_count": 315,
   "metadata": {
    "collapsed": true
   },
   "outputs": [],
   "source": [
    "d=2 # D=2\n",
    "v_ipos = [1,] # v_i positive values\n",
    "dimidx = range(d) # indices for the components"
   ]
  },
  {
   "cell_type": "code",
   "execution_count": 317,
   "metadata": {
    "collapsed": false
   },
   "outputs": [
    {
     "data": {
      "text/plain": [
       "[(0,), (1,)]"
      ]
     },
     "execution_count": 317,
     "metadata": {},
     "output_type": "execute_result"
    }
   ],
   "source": [
    "[zeroidx for zeroidx in combinations(dimidx,1)] "
   ]
  },
  {
   "cell_type": "code",
   "execution_count": 318,
   "metadata": {
    "collapsed": false
   },
   "outputs": [
    {
     "data": {
      "text/plain": [
       "[(1,)]"
      ]
     },
     "execution_count": 318,
     "metadata": {},
     "output_type": "execute_result"
    }
   ],
   "source": [
    "[_ for _ in combinations(v_ipos,1)]"
   ]
  },
  {
   "cell_type": "markdown",
   "metadata": {},
   "source": [
    "If $Q= $ total number of discrete vectors is given and known beforehand:"
   ]
  },
  {
   "cell_type": "code",
   "execution_count": 320,
   "metadata": {
    "collapsed": false
   },
   "outputs": [],
   "source": [
    "v_is =[[0 for _ in range(d)] for _ in range(Q)]"
   ]
  },
  {
   "cell_type": "code",
   "execution_count": 322,
   "metadata": {
    "collapsed": false
   },
   "outputs": [
    {
     "data": {
      "text/plain": [
       "[(0, 1)]"
      ]
     },
     "execution_count": 322,
     "metadata": {},
     "output_type": "execute_result"
    }
   ],
   "source": [
    "[_ for _ in combinations(dimidx,d)]"
   ]
  },
  {
   "cell_type": "code",
   "execution_count": 328,
   "metadata": {
    "collapsed": false
   },
   "outputs": [
    {
     "data": {
      "text/plain": [
       "[(0, 1), (0, 2), (1, 2)]"
      ]
     },
     "execution_count": 328,
     "metadata": {},
     "output_type": "execute_result"
    }
   ],
   "source": [
    "[_ for _ in combinations(range(3),2)]"
   ]
  },
  {
   "cell_type": "code",
   "execution_count": 324,
   "metadata": {
    "collapsed": false
   },
   "outputs": [
    {
     "data": {
      "text/plain": [
       "[(1,)]"
      ]
     },
     "execution_count": 324,
     "metadata": {},
     "output_type": "execute_result"
    }
   ],
   "source": [
    "[_ for _ in combinations_with_replacement(v_ipos,1) ]"
   ]
  },
  {
   "cell_type": "code",
   "execution_count": 325,
   "metadata": {
    "collapsed": false
   },
   "outputs": [
    {
     "data": {
      "text/plain": [
       "[(1, 1)]"
      ]
     },
     "execution_count": 325,
     "metadata": {},
     "output_type": "execute_result"
    }
   ],
   "source": [
    "[_ for _ in combinations_with_replacement(v_ipos,2) ]"
   ]
  },
  {
   "cell_type": "code",
   "execution_count": 335,
   "metadata": {
    "collapsed": true
   },
   "outputs": [],
   "source": [
    "d=3 # D=3\n",
    "v_ipos = [1,2] # v_i positive values\n",
    "dimidx = range(d) # indices for the components"
   ]
  },
  {
   "cell_type": "code",
   "execution_count": 336,
   "metadata": {
    "collapsed": false
   },
   "outputs": [
    {
     "name": "stdout",
     "output_type": "stream",
     "text": [
      "[(1, 1), (1, 2), (2, 2)]\n",
      "[(1, 1), (1, 2), (2, 2)]\n",
      "[(1, 1), (1, 2), (2, 2)]\n"
     ]
    }
   ],
   "source": [
    "c_d_nonzeros = [np.zeros(d) for _ in range( len([_ for _ in combinations(dimidx,2)]) )]\n",
    "for nonzeros in combinations(dimidx,2): # d_nonzero = 0,1,..d-1\n",
    "    print( [_ for _ in combinations_with_replacement(v_ipos,2)]  )"
   ]
  },
  {
   "cell_type": "code",
   "execution_count": 339,
   "metadata": {
    "collapsed": false
   },
   "outputs": [
    {
     "data": {
      "text/plain": [
       "[(0,), (1,)]"
      ]
     },
     "execution_count": 339,
     "metadata": {},
     "output_type": "execute_result"
    }
   ],
   "source": [
    "[_ for _ in combinations_with_replacement([0,1],1)]"
   ]
  },
  {
   "cell_type": "code",
   "execution_count": 340,
   "metadata": {
    "collapsed": false
   },
   "outputs": [
    {
     "data": {
      "text/plain": [
       "[(0, 0), (0, 1), (1, 1)]"
      ]
     },
     "execution_count": 340,
     "metadata": {},
     "output_type": "execute_result"
    }
   ],
   "source": [
    "[_ for _ in combinations_with_replacement([0,1],2)]"
   ]
  },
  {
   "cell_type": "code",
   "execution_count": 341,
   "metadata": {
    "collapsed": false
   },
   "outputs": [
    {
     "data": {
      "text/plain": [
       "[(0, 0, 0), (0, 0, 1), (0, 1, 1), (1, 1, 1)]"
      ]
     },
     "execution_count": 341,
     "metadata": {},
     "output_type": "execute_result"
    }
   ],
   "source": [
    "[_ for _ in combinations_with_replacement([0,1],3)]"
   ]
  },
  {
   "cell_type": "code",
   "execution_count": 342,
   "metadata": {
    "collapsed": false
   },
   "outputs": [
    {
     "data": {
      "text/plain": [
       "[(0, 0, 0, 0), (0, 0, 0, 1), (0, 0, 1, 1), (0, 1, 1, 1), (1, 1, 1, 1)]"
      ]
     },
     "execution_count": 342,
     "metadata": {},
     "output_type": "execute_result"
    }
   ],
   "source": [
    "[_ for _ in combinations_with_replacement([0,1],4)]"
   ]
  },
  {
   "cell_type": "code",
   "execution_count": 347,
   "metadata": {
    "collapsed": true
   },
   "outputs": [],
   "source": [
    "d=2 # D=2\n",
    "v_ipos = [1,] # v_i positive values\n",
    "dimidx = range(d) # indices for the components"
   ]
  },
  {
   "cell_type": "code",
   "execution_count": 343,
   "metadata": {
    "collapsed": true
   },
   "outputs": [],
   "source": [
    "unique_W_lst = []"
   ]
  },
  {
   "cell_type": "code",
   "execution_count": 345,
   "metadata": {
    "collapsed": false
   },
   "outputs": [],
   "source": [
    "if sum(W_lst) not in unique_W_lst:\n",
    "    unique_W_lst.append( sum(W_lst))"
   ]
  },
  {
   "cell_type": "code",
   "execution_count": 348,
   "metadata": {
    "collapsed": false
   },
   "outputs": [
    {
     "name": "stdout",
     "output_type": "stream",
     "text": [
      "[W0 + W1 + W2 + W3 + W4 + W5 + W6 + W7 + W8, W1 - W3 + W5 - W6 + W7 - W8, W2 - W4 + W5 + W6 - W7 - W8]\n"
     ]
    }
   ],
   "source": [
    "for alpha in combinations_with_replacement(dimidx,1):\n",
    "    W_to_lst = sum( [W_lst[k]*cs[k][alpha[0]] for k in range(Q)] )\n",
    "    if W_to_lst not in unique_W_lst:\n",
    "        unique_W_lst.append( W_to_lst )\n",
    "\n",
    "print(unique_W_lst)"
   ]
  },
  {
   "cell_type": "code",
   "execution_count": 349,
   "metadata": {
    "collapsed": false
   },
   "outputs": [
    {
     "name": "stdout",
     "output_type": "stream",
     "text": [
      "[W0 + W1 + W2 + W3 + W4 + W5 + W6 + W7 + W8, W1 - W3 + W5 - W6 + W7 - W8, W2 - W4 + W5 + W6 - W7 - W8, W1 + W3 + W5 + W6 + W7 + W8, W5 - W6 - W7 + W8, W2 + W4 + W5 + W6 + W7 + W8]\n"
     ]
    }
   ],
   "source": [
    "for alpha in combinations_with_replacement(dimidx,2):\n",
    "    W_to_lst = sum( [W_lst[k]*cs[k][alpha[0]]*cs[k][alpha[1]] for k in range(Q)] )\n",
    "    if W_to_lst not in unique_W_lst:\n",
    "        unique_W_lst.append( W_to_lst )\n",
    "\n",
    "print(unique_W_lst)"
   ]
  },
  {
   "cell_type": "code",
   "execution_count": 350,
   "metadata": {
    "collapsed": false
   },
   "outputs": [
    {
     "name": "stdout",
     "output_type": "stream",
     "text": [
      "[W0 + W1 + W2 + W3 + W4 + W5 + W6 + W7 + W8, W1 - W3 + W5 - W6 + W7 - W8, W2 - W4 + W5 + W6 - W7 - W8, W1 + W3 + W5 + W6 + W7 + W8, W5 - W6 - W7 + W8, W2 + W4 + W5 + W6 + W7 + W8, W5 + W6 - W7 - W8, W5 - W6 + W7 - W8]\n"
     ]
    }
   ],
   "source": [
    "for alpha in combinations_with_replacement(dimidx,3):\n",
    "    W_to_lst = sum( [W_lst[k]*cs[k][alpha[0]]*cs[k][alpha[1]]*cs[k][alpha[2]] for k in range(Q)] )\n",
    "    if W_to_lst not in unique_W_lst:\n",
    "        unique_W_lst.append( W_to_lst )\n",
    "\n",
    "print(unique_W_lst)"
   ]
  },
  {
   "cell_type": "code",
   "execution_count": 351,
   "metadata": {
    "collapsed": false
   },
   "outputs": [
    {
     "name": "stdout",
     "output_type": "stream",
     "text": [
      "[W0 + W1 + W2 + W3 + W4 + W5 + W6 + W7 + W8, W1 - W3 + W5 - W6 + W7 - W8, W2 - W4 + W5 + W6 - W7 - W8, W1 + W3 + W5 + W6 + W7 + W8, W5 - W6 - W7 + W8, W2 + W4 + W5 + W6 + W7 + W8, W5 + W6 - W7 - W8, W5 - W6 + W7 - W8, W5 + W6 + W7 + W8]\n"
     ]
    }
   ],
   "source": [
    "for alpha in combinations_with_replacement(dimidx,4):\n",
    "    W_to_lst = sum( [W_lst[k]*cs[k][alpha[0]]*cs[k][alpha[1]]*cs[k][alpha[2]]*cs[k][alpha[3]] for k in range(Q)] )\n",
    "    if W_to_lst not in unique_W_lst:\n",
    "        unique_W_lst.append( W_to_lst )\n",
    "\n",
    "print(unique_W_lst)"
   ]
  },
  {
   "cell_type": "code",
   "execution_count": 352,
   "metadata": {
    "collapsed": false
   },
   "outputs": [
    {
     "data": {
      "text/plain": [
       "9"
      ]
     },
     "execution_count": 352,
     "metadata": {},
     "output_type": "execute_result"
    }
   ],
   "source": [
    "len(unique_W_lst)"
   ]
  },
  {
   "cell_type": "code",
   "execution_count": 354,
   "metadata": {
    "collapsed": false
   },
   "outputs": [
    {
     "name": "stdout",
     "output_type": "stream",
     "text": [
      "W1 - W3 + W5 - W6 + W7 - W8\n",
      "W5 + W6 - W7 - W8\n",
      "W5 - W6 + W7 - W8\n",
      "W2 - W4 + W5 + W6 - W7 - W8\n"
     ]
    }
   ],
   "source": [
    "for alpha in combinations_with_replacement(dimidx,3):\n",
    "    todolst = [ W_lst[k]*prod( [cs[k][alpha[order]] for order in range(3)]) for k in range(Q)]\n",
    "    print sum(todolst)\n"
   ]
  },
  {
   "cell_type": "code",
   "execution_count": 376,
   "metadata": {
    "collapsed": true
   },
   "outputs": [],
   "source": [
    "def make_W_lin_sys(d,Q,cs, ORDER=4):\n",
    "    \"\"\" make_W_lin_sys - make the linear system of W_i's\n",
    "    \n",
    "    NOTES\n",
    "    =====\n",
    "    Remember that W_lst corresponds directly with cs, i.e. W_i's with c_i \\equiv v_i's (discrete velocity i)\n",
    "    \"\"\"\n",
    "    W_lst = var(\",\".join(map(str,[\"W\"+str(k) for k in range(Q)])) ) # Python list of weights W_i, i=0,1,...Q-1\n",
    "    dimidx = range(d)\n",
    "    unique_W_lst = []\n",
    "    if sum(W_lst) not in unique_W_lst:\n",
    "        unique_W_lst.append( sum(W_lst))\n",
    "    \n",
    "    for order in range(1,ORDER+1): # order = 1,2,..ORDER=4\n",
    "        for alpha in combinations_with_replacement(dimidx,order):\n",
    "            W_to_lst = [W_lst[k]*prod( [cs[k][alpha[orderidx]] for orderidx in range(order)]) for k in range(Q)]\n",
    "            W_to_lst = sum( W_to_lst )\n",
    "            if W_to_lst not in unique_W_lst:\n",
    "                unique_W_lst.append(W_to_lst)\n",
    "    return unique_W_lst"
   ]
  },
  {
   "cell_type": "code",
   "execution_count": 378,
   "metadata": {
    "collapsed": false
   },
   "outputs": [
    {
     "name": "stdout",
     "output_type": "stream",
     "text": [
      "9\n"
     ]
    }
   ],
   "source": [
    "test_d2Q9_W_is = make_W_lin_sys(2,9,cs)\n",
    "print(len(test_d2Q9_W_is))"
   ]
  },
  {
   "cell_type": "code",
   "execution_count": 380,
   "metadata": {
    "collapsed": false
   },
   "outputs": [
    {
     "name": "stdout",
     "output_type": "stream",
     "text": [
      "9\n"
     ]
    },
    {
     "data": {
      "text/plain": [
       "[W0 + W1 + W2 + W3 + W4 + W5 + W6 + W7 + W8,\n",
       " W1 - W3 + W5 - W6 + W7 - W8,\n",
       " W2 - W4 + W5 + W6 - W7 - W8,\n",
       " W1 + W3 + W5 + W6 + W7 + W8,\n",
       " W5 - W6 - W7 + W8,\n",
       " W2 + W4 + W5 + W6 + W7 + W8,\n",
       " W5 + W6 - W7 - W8,\n",
       " W5 - W6 + W7 - W8,\n",
       " W5 + W6 + W7 + W8]"
      ]
     },
     "execution_count": 380,
     "metadata": {},
     "output_type": "execute_result"
    }
   ],
   "source": [
    "print(len(test_d2Q9_W_is))\n",
    "test_d2Q9_W_is\n"
   ]
  },
  {
   "cell_type": "code",
   "execution_count": 359,
   "metadata": {
    "collapsed": false
   },
   "outputs": [
    {
     "data": {
      "text/plain": [
       "[0]"
      ]
     },
     "execution_count": 359,
     "metadata": {},
     "output_type": "execute_result"
    }
   ],
   "source": [
    "range(1)"
   ]
  },
  {
   "cell_type": "markdown",
   "metadata": {},
   "source": [
    "Now consider the \"right-hand side (RHS)\", the \"moments\" or the velocity moments-over Maxwell distribution (what Wolf calls it)"
   ]
  },
  {
   "cell_type": "code",
   "execution_count": 364,
   "metadata": {
    "collapsed": true
   },
   "outputs": [],
   "source": [
    "u1,u2=var(\"u1,u2\",domain=\"real\")\n",
    "v1,v2=var(\"v1,v2\",domain=\"positive\")\n",
    "phi_v = 1/(2*pi*T_0)*exp( - ((v1-u1)**2+(v2-u2)**2)/(2*T_0))"
   ]
  },
  {
   "cell_type": "code",
   "execution_count": 365,
   "metadata": {
    "collapsed": false
   },
   "outputs": [
    {
     "name": "stdout",
     "output_type": "stream",
     "text": [
      "1\n",
      "u1\n",
      "u2\n",
      "u1^2 + T_0\n",
      "u2^2 + T_0\n",
      "u1*u2\n",
      "u1^3 + 3*T_0*u1\n",
      "u1^2*u2 + T_0*u2\n",
      "u1*u2^2 + T_0*u1\n",
      "u2^3 + 3*T_0*u2\n",
      "u1^4 + 6*T_0*u1^2 + 3*T_0^2\n",
      "u1^3*u2 + 3*T_0*u1*u2\n",
      "u1^2*u2^2 + T_0*u1^2 + T_0*u2^2 + T_0^2\n",
      "u1*u2^3 + 3*T_0*u1*u2\n",
      "u2^4 + 6*T_0*u2^2 + 3*T_0^2\n"
     ]
    }
   ],
   "source": [
    "print( integrate( integrate( phi_v * v1**0*v2**0, (v1,-oo,oo)),(v2,-oo,oo)).expand().simplify() )\n",
    "print( integrate( integrate( phi_v * v1**1*v2**0, (v1,-oo,oo)),(v2,-oo,oo)).expand().simplify() )\n",
    "print( integrate( integrate( phi_v * v1**0*v2**1, (v1,-oo,oo)),(v2,-oo,oo)).expand().simplify() )\n",
    "print( integrate( integrate( phi_v * v1**2*v2**0, (v1,-oo,oo)),(v2,-oo,oo)).expand().simplify() )\n",
    "print( integrate( integrate( phi_v * v1**0*v2**2, (v1,-oo,oo)),(v2,-oo,oo)).expand().simplify() )\n",
    "print( integrate( integrate( phi_v * v1**1*v2**1, (v1,-oo,oo)),(v2,-oo,oo)).expand().simplify() )\n",
    "print( integrate( integrate( phi_v * v1**3*v2**0, (v1,-oo,oo)),(v2,-oo,oo)).expand().simplify() )\n",
    "print( integrate( integrate( phi_v * v1**2*v2**1, (v1,-oo,oo)),(v2,-oo,oo)).expand().simplify() )\n",
    "print( integrate( integrate( phi_v * v1**1*v2**2, (v1,-oo,oo)),(v2,-oo,oo)).expand().simplify() )\n",
    "print( integrate( integrate( phi_v * v1**0*v2**3, (v1,-oo,oo)),(v2,-oo,oo)).expand().simplify() )\n",
    "print( integrate( integrate( phi_v * v1**4*v2**0, (v1,-oo,oo)),(v2,-oo,oo)).expand().simplify() )\n",
    "print( integrate( integrate( phi_v * v1**3*v2**1, (v1,-oo,oo)),(v2,-oo,oo)).expand().simplify() )\n",
    "print( integrate( integrate( phi_v * v1**2*v2**2, (v1,-oo,oo)),(v2,-oo,oo)).expand().simplify() )\n",
    "print( integrate( integrate( phi_v * v1**1*v2**3, (v1,-oo,oo)),(v2,-oo,oo)).expand().simplify() )\n",
    "print( integrate( integrate( phi_v * v1**0*v2**4, (v1,-oo,oo)),(v2,-oo,oo)).expand().simplify() )"
   ]
  },
  {
   "cell_type": "code",
   "execution_count": 366,
   "metadata": {
    "collapsed": false
   },
   "outputs": [
    {
     "name": "stdout",
     "output_type": "stream",
     "text": [
      "(0,)\n",
      "(1,)\n"
     ]
    }
   ],
   "source": [
    "for alpha in combinations_with_replacement(dimidx,1):\n",
    "    print alpha"
   ]
  },
  {
   "cell_type": "code",
   "execution_count": 367,
   "metadata": {
    "collapsed": false
   },
   "outputs": [
    {
     "name": "stdout",
     "output_type": "stream",
     "text": [
      "(0, 0)\n",
      "(0, 1)\n",
      "(1, 1)\n"
     ]
    }
   ],
   "source": [
    "for alpha in combinations_with_replacement(dimidx,2):\n",
    "    print alpha"
   ]
  },
  {
   "cell_type": "code",
   "execution_count": 368,
   "metadata": {
    "collapsed": false
   },
   "outputs": [
    {
     "name": "stdout",
     "output_type": "stream",
     "text": [
      "(0, 0, 0)\n",
      "(0, 0, 1)\n",
      "(0, 1, 1)\n",
      "(1, 1, 1)\n"
     ]
    }
   ],
   "source": [
    "for alpha in combinations_with_replacement(dimidx,3):\n",
    "    print alpha"
   ]
  },
  {
   "cell_type": "code",
   "execution_count": 496,
   "metadata": {
    "collapsed": true
   },
   "outputs": [],
   "source": [
    "def make_moment(d,alphas, u_vec=None,T_0=None):\n",
    "    \"\"\" make_moment - compute moment of Maxwell distribution\n",
    "    \n",
    "    INPUTS/ARGUMENTS\n",
    "    ================\n",
    "    @type alphas : Python iterable, most likely a Python tuple or Python list of length order, order of moment we want to calculate\n",
    "    @param alphas : alpha exponents\n",
    "    \"\"\"\n",
    "    v_i_vec = var(\",\".join(map(str,[\"v\"+str(k+1) for k in range(d)])) )\n",
    "    if u_vec is None:\n",
    "        u_vec = var(\",\".join(map(str,[\"u\"+str(k+1) for k in range(d)])) )\n",
    "    if T_0 is None:\n",
    "        T_0 =var(\"T_0\",domain=\"positive\")\n",
    "    \n",
    "    if (d>=2):\n",
    "        norm_uminusv = sum( [ (v_i_vec[k]-u_vec[k])**2 for k in range(d)])\n",
    "    elif (d==1):\n",
    "        norm_uminusv = (v_i_vec - u_vec)**2\n",
    "    \n",
    "    phi_v = 1/(2*pi*T_0)**(d/2)*exp( - norm_uminusv/(2*T_0))\n",
    "\n",
    "    if (d>=2):\n",
    "        tointegrate = phi_v*prod([v_i_vec[i] for i in alphas])\n",
    "    elif (d==1):\n",
    "        tointegrate = phi_v*prod([v_i_vec for i in alphas])\n",
    "        \n",
    "    if (d>=2):\n",
    "        for v_i in v_i_vec:\n",
    "            tointegrate = integrate( tointegrate, (v_i,-oo,oo))\n",
    "    elif (d==1):\n",
    "        tointegrate = integrate( tointegrate, (v_i_vec,-oo,oo))\n",
    "        \n",
    "    return tointegrate.expand().simplify()\n"
   ]
  },
  {
   "cell_type": "code",
   "execution_count": 484,
   "metadata": {
    "collapsed": true
   },
   "outputs": [],
   "source": [
    "test_M3 = make_moment(2,(0,1,1))"
   ]
  },
  {
   "cell_type": "code",
   "execution_count": 485,
   "metadata": {
    "collapsed": false
   },
   "outputs": [
    {
     "data": {
      "text/plain": [
       "u1*u2^2 + T_0*u1"
      ]
     },
     "execution_count": 485,
     "metadata": {},
     "output_type": "execute_result"
    }
   ],
   "source": [
    "test_M3"
   ]
  },
  {
   "cell_type": "code",
   "execution_count": 497,
   "metadata": {
    "collapsed": true
   },
   "outputs": [],
   "source": [
    "def make_W_lin_sys(d,Q,cs, ORDER=4,u_vec=None,T_0=None):\n",
    "    \"\"\" make_W_lin_sys - make the linear system of W_i's\n",
    "    \n",
    "    NOTES\n",
    "    =====\n",
    "    Remember that W_lst corresponds directly with cs, i.e. W_i's with c_i \\equiv v_i's (discrete velocity i)\n",
    "    \"\"\"\n",
    "    v_i_vec = var(\",\".join(map(str,[\"v\"+str(k+1) for k in range(d)])) )\n",
    "    if u_vec is None:\n",
    "        u_vec = var(\",\".join(map(str,[\"u\"+str(k+1) for k in range(d)])) )\n",
    "    if T_0 is None:\n",
    "        T_0 =var(\"T_0\",domain=\"positive\")\n",
    "    \n",
    "    W_lst = var(\",\".join(map(str,[\"W\"+str(k) for k in range(Q)])) ) # Python list of weights W_i, i=0,1,...Q-1\n",
    "    dimidx = range(d)\n",
    "    unique_W_lst = [] # Use this Python list to keep out redundancies, check for redundancies\n",
    "    unique_W_dict_lst = []\n",
    "    if sum(W_lst) not in unique_W_lst:\n",
    "        unique_W_lst.append( sum(W_lst))\n",
    "        rhs_out = make_moment(d,[],u_vec,T_0)\n",
    "        Weqn_out = {\"lhs\": sum(W_lst),\"rhs\":rhs_out}\n",
    "        unique_W_dict_lst.append(Weqn_out)\n",
    "    for order in range(1,ORDER+1): # order = 1,2,..ORDER=4\n",
    "        for alpha in combinations_with_replacement(dimidx,order):\n",
    "            W_to_lst = [W_lst[k]*prod( [cs[k][alpha[orderidx]] for orderidx in range(order)]) for k in range(Q)]\n",
    "            W_to_lst = sum( W_to_lst )\n",
    "            if W_to_lst not in unique_W_lst:\n",
    "                unique_W_lst.append(W_to_lst)\n",
    "                rhs_out = make_moment(d,alpha,u_vec,T_0)\n",
    "                Weqn_out = { \"lhs\":W_to_lst,\"rhs\":rhs_out}\n",
    "                unique_W_dict_lst.append( Weqn_out)\n",
    "                \n",
    "    return unique_W_dict_lst, W_lst"
   ]
  },
  {
   "cell_type": "code",
   "execution_count": 498,
   "metadata": {
    "collapsed": false
   },
   "outputs": [
    {
     "name": "stdout",
     "output_type": "stream",
     "text": [
      "9\n"
     ]
    }
   ],
   "source": [
    "test_W_sys, test_W_is = make_W_lin_sys(2,9,cs,4)\n",
    "print(len(test_W_sys))"
   ]
  },
  {
   "cell_type": "code",
   "execution_count": 499,
   "metadata": {
    "collapsed": false
   },
   "outputs": [
    {
     "data": {
      "text/plain": [
       "[{'lhs': W0 + W1 + W2 + W3 + W4 + W5 + W6 + W7 + W8, 'rhs': 1},\n",
       " {'lhs': W1 - W3 + W5 - W6 + W7 - W8, 'rhs': u1},\n",
       " {'lhs': W2 - W4 + W5 + W6 - W7 - W8, 'rhs': u2},\n",
       " {'lhs': W1 + W3 + W5 + W6 + W7 + W8, 'rhs': u1^2 + T_0},\n",
       " {'lhs': W5 - W6 - W7 + W8, 'rhs': u1*u2},\n",
       " {'lhs': W2 + W4 + W5 + W6 + W7 + W8, 'rhs': u2^2 + T_0},\n",
       " {'lhs': W5 + W6 - W7 - W8, 'rhs': u1^2*u2 + T_0*u2},\n",
       " {'lhs': W5 - W6 + W7 - W8, 'rhs': u1*u2^2 + T_0*u1},\n",
       " {'lhs': W5 + W6 + W7 + W8, 'rhs': u1^2*u2^2 + T_0*u1^2 + T_0*u2^2 + T_0^2}]"
      ]
     },
     "execution_count": 499,
     "metadata": {},
     "output_type": "execute_result"
    }
   ],
   "source": [
    "test_W_sys"
   ]
  },
  {
   "cell_type": "code",
   "execution_count": 462,
   "metadata": {
    "collapsed": false
   },
   "outputs": [
    {
     "data": {
      "text/plain": [
       "1"
      ]
     },
     "execution_count": 462,
     "metadata": {},
     "output_type": "execute_result"
    }
   ],
   "source": [
    "prod( [range(3)[i] for i in []] )"
   ]
  },
  {
   "cell_type": "markdown",
   "metadata": {},
   "source": [
    "The $W_i$ for directions with identical speeds are equal for reasons of symmetry."
   ]
  },
  {
   "cell_type": "code",
   "execution_count": 500,
   "metadata": {
    "collapsed": false
   },
   "outputs": [
    {
     "name": "stdout",
     "output_type": "stream",
     "text": [
      "W0 + 4*W1 + 4*W2\n",
      "0\n",
      "0\n",
      "2*W1 + 4*W2\n",
      "0\n",
      "2*W1 + 4*W2\n",
      "0\n",
      "0\n",
      "4*W2\n",
      "1\n",
      "0\n",
      "0\n",
      "T_0\n",
      "0\n",
      "T_0\n",
      "0\n",
      "0\n",
      "T_0^2\n"
     ]
    }
   ],
   "source": [
    "#test_W_sys[0][\"lhs\"].subs(W2==W1).subs(W3==W1).subs(W4==W1).subs(W5==W2).subs(W6==W2).subs(W7==W2).subs(W8==W2)\n",
    "for i in range(Q):\n",
    "    print( test_W_sys[i][\"lhs\"].subs(W2==W1).subs(W3==W1).subs(W4==W1).subs(W5==W2).subs(W6==W2).subs(W7==W2).subs(W8==W2) )\n",
    "for i in range(Q):\n",
    "    print( test_W_sys[i][\"rhs\"].subs(u1==0).subs(u2==0))"
   ]
  },
  {
   "cell_type": "code",
   "execution_count": 501,
   "metadata": {
    "collapsed": false
   },
   "outputs": [],
   "source": [
    "test_W_sys_temp = []\n",
    "for eqn in test_W_sys:\n",
    "    lhs =eqn[\"lhs\"].subs(W2==W1).subs(W3==W1).subs(W4==W1).subs(W5==W2).subs(W6==W2).subs(W7==W2).subs(W8==W2)\n",
    "    rhs =eqn[\"rhs\"].subs(u1==0).subs(u2==0)\n",
    "    test_W_sys_temp.append( lhs==rhs)"
   ]
  },
  {
   "cell_type": "code",
   "execution_count": 502,
   "metadata": {
    "collapsed": false
   },
   "outputs": [
    {
     "data": {
      "text/plain": [
       "[W0 + 4*W1 + 4*W2 == 1,\n",
       " 0 == 0,\n",
       " 0 == 0,\n",
       " 2*W1 + 4*W2 == T_0,\n",
       " 0 == 0,\n",
       " 2*W1 + 4*W2 == T_0,\n",
       " 0 == 0,\n",
       " 0 == 0,\n",
       " 4*W2 == T_0^2]"
      ]
     },
     "execution_count": 502,
     "metadata": {},
     "output_type": "execute_result"
    }
   ],
   "source": [
    "test_W_sys_temp"
   ]
  },
  {
   "cell_type": "code",
   "execution_count": 503,
   "metadata": {
    "collapsed": false
   },
   "outputs": [
    {
     "data": {
      "text/plain": [
       "[[W0 == T_0^2 - 2*T_0 + 1, W1 == -1/2*T_0^2 + 1/2*T_0, W2 == 1/4*T_0^2]]"
      ]
     },
     "execution_count": 503,
     "metadata": {},
     "output_type": "execute_result"
    }
   ],
   "source": [
    "solve( test_W_sys_temp, [W0,W1,W2])"
   ]
  },
  {
   "cell_type": "code",
   "execution_count": 504,
   "metadata": {
    "collapsed": false
   },
   "outputs": [
    {
     "name": "stdout",
     "output_type": "stream",
     "text": [
      "W0 == (4/9)\n",
      "W1 == (1/9)\n",
      "W2 == (1/36)\n"
     ]
    }
   ],
   "source": [
    "print( solve( test_W_sys_temp, [W0,W1,W2])[0][0].subs(T_0==1/3) )\n",
    "print( solve( test_W_sys_temp, [W0,W1,W2])[0][1].subs(T_0==1/3) )\n",
    "print( solve( test_W_sys_temp, [W0,W1,W2])[0][2].subs(T_0==1/3) )"
   ]
  },
  {
   "cell_type": "markdown",
   "metadata": {},
   "source": [
    "So pp. 169 solution in Section 5.2.1of Wolf, and (same thing) on pp. 166, for the D2Q9 lattice (5.2.1), the $W_i$ are obtained."
   ]
  },
  {
   "cell_type": "markdown",
   "metadata": {},
   "source": [
    "## going back to $d\\equiv D=1$, 1-dim. case"
   ]
  },
  {
   "cell_type": "code",
   "execution_count": 505,
   "metadata": {
    "collapsed": false
   },
   "outputs": [
    {
     "data": {
      "text/plain": [
       "(10*v_i^3 - 9*v_i == v_i^5, [-1/5*sqrt(10) + 1, 1/5*sqrt(10) + 1])"
      ]
     },
     "execution_count": 505,
     "metadata": {},
     "output_type": "execute_result"
    }
   ],
   "source": [
    "make_closure_rel(5,[1,3])"
   ]
  },
  {
   "cell_type": "code",
   "execution_count": 506,
   "metadata": {
    "collapsed": false
   },
   "outputs": [
    {
     "data": {
      "text/plain": [
       "(14*v_i^5 - 49*v_i^3 + 36*v_i == v_i^7,\n",
       " [(1/1575*sqrt(15)*sqrt(2) + 1/945)^(1/3) - 1/45/(1/1575*sqrt(15)*sqrt(2) + 1/945)^(1/3) + 2/3])"
      ]
     },
     "execution_count": 506,
     "metadata": {},
     "output_type": "execute_result"
    }
   ],
   "source": [
    "make_closure_rel(7)"
   ]
  },
  {
   "cell_type": "code",
   "execution_count": 537,
   "metadata": {
    "collapsed": false
   },
   "outputs": [
    {
     "data": {
      "text/plain": [
       "0.697953322019683"
      ]
     },
     "execution_count": 537,
     "metadata": {},
     "output_type": "execute_result"
    }
   ],
   "source": [
    "make_closure_rel(7)[1][0].N()"
   ]
  },
  {
   "cell_type": "code",
   "execution_count": 415,
   "metadata": {
    "collapsed": false
   },
   "outputs": [
    {
     "data": {
      "text/plain": [
       "(39*v_i^7 - 399*v_i^5 + 1261*v_i^3 - 900*v_i == v_i^9,\n",
       " [1/36*sqrt(1/35)*sqrt((11340*(2/893025*sqrt(54997406) + 9052/893025)^(2/3) + 5355*(2/893025*sqrt(54997406) + 9052/893025)^(1/3) - 632)/(2/893025*sqrt(54997406) + 9052/893025)^(1/3)) - 1/2*sqrt(-(2/893025*sqrt(54997406) + 9052/893025)^(1/3) + 3419/6*sqrt(1/35)/sqrt((11340*(2/893025*sqrt(54997406) + 9052/893025)^(2/3) + 5355*(2/893025*sqrt(54997406) + 9052/893025)^(1/3) - 632)/(2/893025*sqrt(54997406) + 9052/893025)^(1/3)) + 158/2835/(2/893025*sqrt(54997406) + 9052/893025)^(1/3) + 17/18) + 13/12,\n",
       "  1/36*sqrt(1/35)*sqrt((11340*(2/893025*sqrt(54997406) + 9052/893025)^(2/3) + 5355*(2/893025*sqrt(54997406) + 9052/893025)^(1/3) - 632)/(2/893025*sqrt(54997406) + 9052/893025)^(1/3)) + 1/2*sqrt(-(2/893025*sqrt(54997406) + 9052/893025)^(1/3) + 3419/6*sqrt(1/35)/sqrt((11340*(2/893025*sqrt(54997406) + 9052/893025)^(2/3) + 5355*(2/893025*sqrt(54997406) + 9052/893025)^(1/3) - 632)/(2/893025*sqrt(54997406) + 9052/893025)^(1/3)) + 158/2835/(2/893025*sqrt(54997406) + 9052/893025)^(1/3) + 17/18) + 13/12])"
      ]
     },
     "execution_count": 415,
     "metadata": {},
     "output_type": "execute_result"
    }
   ],
   "source": [
    "make_closure_rel(9,[1,2,3,5])"
   ]
  },
  {
   "cell_type": "code",
   "execution_count": 422,
   "metadata": {
    "collapsed": false
   },
   "outputs": [
    {
     "name": "stdout",
     "output_type": "stream",
     "text": [
      "0.756080852594268\n",
      "2.17538238657304\n"
     ]
    }
   ],
   "source": [
    "print( make_closure_rel(9,[1,2,3,5])[1][0].N() )\n",
    "print( make_closure_rel(9,[1,2,3,5])[1][1].N() )"
   ]
  },
  {
   "cell_type": "code",
   "execution_count": 416,
   "metadata": {
    "collapsed": false
   },
   "outputs": [
    {
     "data": {
      "text/plain": [
       "(55*v_i^9 - 1023*v_i^7 + 7645*v_i^5 - 21076*v_i^3 + 14400*v_i == v_i^11,\n",
       " [3465*T_0^5 - 17325*T_0^4 + 35805*T_0^3 - 38225*T_0^2 + 21076*T_0 - 4800])"
      ]
     },
     "execution_count": 416,
     "metadata": {},
     "output_type": "execute_result"
    }
   ],
   "source": [
    "make_closure_rel(11)"
   ]
  },
  {
   "cell_type": "code",
   "execution_count": 425,
   "metadata": {
    "collapsed": false
   },
   "outputs": [
    {
     "name": "stdout",
     "output_type": "stream",
     "text": [
      "1.06279357749\n"
     ]
    }
   ],
   "source": [
    "print( find_root( make_closure_rel(11)[1][0], 0,3) )\n",
    "#print( find_root( make_closure_rel(11)[1][0], 3,6) )\n"
   ]
  },
  {
   "cell_type": "code",
   "execution_count": 442,
   "metadata": {
    "collapsed": false
   },
   "outputs": [
    {
     "data": {
      "text/plain": [
       "(104*v_i^11 - 3718*v_i^9 + 57772*v_i^7 - 395681*v_i^5 + 1047124*v_i^3 - 705600*v_i == v_i^13,\n",
       " [45045*T_0^6 - 360360*T_0^5 + 1171170*T_0^4 - 2022020*T_0^3 + 1978405*T_0^2 - 1047124*T_0 + 235200])"
      ]
     },
     "execution_count": 442,
     "metadata": {},
     "output_type": "execute_result"
    }
   ],
   "source": [
    "make_closure_rel(13,[1,2,3,4,5,7])"
   ]
  },
  {
   "cell_type": "code",
   "execution_count": 446,
   "metadata": {
    "collapsed": false
   },
   "outputs": [
    {
     "name": "stdout",
     "output_type": "stream",
     "text": [
      "2.67428803233\n"
     ]
    }
   ],
   "source": [
    "print( find_root( make_closure_rel(13,[1,2,3,4,5,7])[1][0], 0,3) )\n",
    "#print( find_root( make_closure_rel(13,[1,2,3,4,5,7])[1][0], 3,6) )\n"
   ]
  },
  {
   "cell_type": "code",
   "execution_count": 418,
   "metadata": {
    "collapsed": false
   },
   "outputs": [
    {
     "data": {
      "text/plain": [
       "(140*v_i^13 - 7462*v_i^11 + 191620*v_i^9 - 2475473*v_i^7 + 15291640*v_i^5 - 38402064*v_i^3 + 25401600*v_i == v_i^15,\n",
       " [675675*T_0^7 - 6306300*T_0^6 + 25855830*T_0^5 - 60360300*T_0^4 + 86641555*T_0^3 - 76458200*T_0^2 + 38402064*T_0 - 8467200])"
      ]
     },
     "execution_count": 418,
     "metadata": {},
     "output_type": "execute_result"
    }
   ],
   "source": [
    "make_closure_rel(15)"
   ]
  },
  {
   "cell_type": "code",
   "execution_count": 436,
   "metadata": {
    "collapsed": false
   },
   "outputs": [
    {
     "name": "stdout",
     "output_type": "stream",
     "text": [
      "1.42768266547\n"
     ]
    }
   ],
   "source": [
    "print( find_root( make_closure_rel(15)[1][0], 0,2) )\n"
   ]
  },
  {
   "cell_type": "markdown",
   "metadata": {},
   "source": [
    "#### $Q=3, V= \\lbrace 0, \\pm 1\\rbrace$ "
   ]
  },
  {
   "cell_type": "code",
   "execution_count": 447,
   "metadata": {
    "collapsed": true
   },
   "outputs": [],
   "source": [
    "v_0 = (0,)\n",
    "v_1 = (1,)\n",
    "v_m1=(-1,)\n",
    "V = [v_0,v_1,v_m1]"
   ]
  },
  {
   "cell_type": "code",
   "execution_count": 508,
   "metadata": {
    "collapsed": false
   },
   "outputs": [],
   "source": [
    "#make_W_lin_sys(1,3,V, ORDER=2,u_vec=None,T_0=None)\n",
    "D1Q3_W_sys, D1Q3_W_is = make_W_lin_sys(1,3,V,ORDER=2)"
   ]
  },
  {
   "cell_type": "code",
   "execution_count": 510,
   "metadata": {
    "collapsed": true
   },
   "outputs": [],
   "source": [
    "def W_sys_solver( sys_from_make_W_lin_sys, W_is):\n",
    "    eqns_to_solve = []\n",
    "    for eqn in sys_from_make_W_lin_sys:\n",
    "        eqns_to_solve.append( eqn['lhs'] == eqn['rhs'] )\n",
    "    return solve( eqns_to_solve,W_is)"
   ]
  },
  {
   "cell_type": "code",
   "execution_count": 511,
   "metadata": {
    "collapsed": false
   },
   "outputs": [
    {
     "data": {
      "text/plain": [
       "[[W0 == -u1^2 - T_0 + 1, W1 == 1/2*u1^2 + 1/2*T_0 + 1/2*u1, W2 == 1/2*u1^2 + 1/2*T_0 - 1/2*u1]]"
      ]
     },
     "execution_count": 511,
     "metadata": {},
     "output_type": "execute_result"
    }
   ],
   "source": [
    "W_sys_solver( D1Q3_W_sys, D1Q3_W_is)"
   ]
  },
  {
   "cell_type": "code",
   "execution_count": 520,
   "metadata": {
    "collapsed": false
   },
   "outputs": [
    {
     "name": "stdout",
     "output_type": "stream",
     "text": [
      "W0 == (2/3)\n",
      "W1 == (1/6)\n",
      "W2 == (1/6)\n"
     ]
    }
   ],
   "source": [
    "print( W_sys_solver( D1Q3_W_sys, D1Q3_W_is)[0][0].subs(u1==0).subs(T_0==1/3) )\n",
    "print( W_sys_solver( D1Q3_W_sys, D1Q3_W_is)[0][1].subs(u1==0).subs(T_0==1/3) )\n",
    "print( W_sys_solver( D1Q3_W_sys, D1Q3_W_is)[0][2].subs(u1==0).subs(T_0==1/3) )"
   ]
  },
  {
   "cell_type": "code",
   "execution_count": 457,
   "metadata": {
    "collapsed": false
   },
   "outputs": [
    {
     "data": {
      "text/plain": [
       "2"
      ]
     },
     "execution_count": 457,
     "metadata": {},
     "output_type": "execute_result"
    }
   ],
   "source": [
    "len(v_i_vec)"
   ]
  },
  {
   "cell_type": "markdown",
   "metadata": {},
   "source": [
    "#### $Q=5,...$, "
   ]
  },
  {
   "cell_type": "code",
   "execution_count": 512,
   "metadata": {
    "collapsed": true
   },
   "outputs": [],
   "source": [
    "V = [(0,),(1,),(-1,),(3,),(-3,)]\n",
    "D1Q5_W_sys, D1Q5_W_is = make_W_lin_sys(1,5,V,ORDER=4)"
   ]
  },
  {
   "cell_type": "code",
   "execution_count": 521,
   "metadata": {
    "collapsed": false
   },
   "outputs": [
    {
     "data": {
      "text/plain": [
       "[[W0 == 1/9*u1^4 + 2/9*(3*T_0 - 5)*u1^2 + 1/3*T_0^2 - 10/9*T_0 + 1, W1 == -1/16*u1^4 - 3/16*(2*T_0 - 3)*u1^2 - 1/16*u1^3 - 3/16*T_0^2 - 3/16*(T_0 - 3)*u1 + 9/16*T_0, W2 == -1/16*u1^4 - 3/16*(2*T_0 - 3)*u1^2 + 1/16*u1^3 - 3/16*T_0^2 + 3/16*(T_0 - 3)*u1 + 9/16*T_0, W3 == 1/144*u1^4 + 1/144*(6*T_0 - 1)*u1^2 + 1/48*u1^3 + 1/48*T_0^2 + 1/48*(3*T_0 - 1)*u1 - 1/144*T_0, W4 == 1/144*u1^4 + 1/144*(6*T_0 - 1)*u1^2 - 1/48*u1^3 + 1/48*T_0^2 - 1/48*(3*T_0 - 1)*u1 - 1/144*T_0]]"
      ]
     },
     "execution_count": 521,
     "metadata": {},
     "output_type": "execute_result"
    }
   ],
   "source": [
    "W_sys_solver( D1Q5_W_sys, D1Q5_W_is)"
   ]
  },
  {
   "cell_type": "code",
   "execution_count": 531,
   "metadata": {
    "collapsed": false
   },
   "outputs": [
    {
     "name": "stdout",
     "output_type": "stream",
     "text": [
      "4/45*sqrt(10) + 16/45\n",
      "-3/80*sqrt(10) + 3/10\n",
      "-3/80*sqrt(10) + 3/10\n",
      "-1/144*sqrt(10) + 1/45\n",
      "-1/144*sqrt(10) + 1/45\n"
     ]
    }
   ],
   "source": [
    "print( W_sys_solver( D1Q5_W_sys, D1Q5_W_is)[0][0].subs(u1==0).subs(T_0==-1/5*sqrt(10) + 1).rhs().expand().simplify() )\n",
    "print( W_sys_solver( D1Q5_W_sys, D1Q5_W_is)[0][1].subs(u1==0).subs(T_0==-1/5*sqrt(10) + 1).rhs().expand().simplify() )\n",
    "print( W_sys_solver( D1Q5_W_sys, D1Q5_W_is)[0][2].subs(u1==0).subs(T_0==-1/5*sqrt(10) + 1).rhs().expand().simplify() )\n",
    "print( W_sys_solver( D1Q5_W_sys, D1Q5_W_is)[0][3].subs(u1==0).subs(T_0==-1/5*sqrt(10) + 1).rhs().expand().simplify() )\n",
    "print( W_sys_solver( D1Q5_W_sys, D1Q5_W_is)[0][4].subs(u1==0).subs(T_0==-1/5*sqrt(10) + 1).rhs().expand().simplify() )"
   ]
  },
  {
   "cell_type": "code",
   "execution_count": 532,
   "metadata": {
    "collapsed": false
   },
   "outputs": [
    {
     "name": "stdout",
     "output_type": "stream",
     "text": [
      "-4/45*sqrt(10) + 16/45\n",
      "3/80*sqrt(10) + 3/10\n",
      "3/80*sqrt(10) + 3/10\n",
      "1/144*sqrt(10) + 1/45\n",
      "1/144*sqrt(10) + 1/45\n"
     ]
    }
   ],
   "source": [
    "print( W_sys_solver( D1Q5_W_sys, D1Q5_W_is)[0][0].subs(u1==0).subs(T_0==1/5*sqrt(10) + 1).rhs().expand().simplify() )\n",
    "print( W_sys_solver( D1Q5_W_sys, D1Q5_W_is)[0][1].subs(u1==0).subs(T_0==1/5*sqrt(10) + 1).rhs().expand().simplify() )\n",
    "print( W_sys_solver( D1Q5_W_sys, D1Q5_W_is)[0][2].subs(u1==0).subs(T_0==1/5*sqrt(10) + 1).rhs().expand().simplify() )\n",
    "print( W_sys_solver( D1Q5_W_sys, D1Q5_W_is)[0][3].subs(u1==0).subs(T_0==1/5*sqrt(10) + 1).rhs().expand().simplify() )\n",
    "print( W_sys_solver( D1Q5_W_sys, D1Q5_W_is)[0][4].subs(u1==0).subs(T_0==1/5*sqrt(10) + 1).rhs().expand().simplify() )"
   ]
  },
  {
   "cell_type": "code",
   "execution_count": 533,
   "metadata": {
    "collapsed": true
   },
   "outputs": [],
   "source": [
    "V = [(0,),(1,),(-1,),(2,),(-2,),(3,),(-3,)]\n",
    "D1Q7_W_sys, D1Q7_W_is = make_W_lin_sys(1,7,V,ORDER=6)"
   ]
  },
  {
   "cell_type": "code",
   "execution_count": 535,
   "metadata": {
    "collapsed": false
   },
   "outputs": [],
   "source": [
    "D1Q7_W_solved= W_sys_solver( D1Q7_W_sys, D1Q7_W_is)"
   ]
  },
  {
   "cell_type": "code",
   "execution_count": 542,
   "metadata": {
    "collapsed": false
   },
   "outputs": [
    {
     "name": "stdout",
     "output_type": "stream",
     "text": [
      "0.476669886589207\n",
      "0.233914737826825\n",
      "0.233914737826825\n",
      "0.0269381893448255\n",
      "0.0269381893448255\n",
      "0.000812129533746113\n",
      "0.000812129533746113\n"
     ]
    }
   ],
   "source": [
    "print( D1Q7_W_solved[0][0].subs(u1==0).subs(T_0==make_closure_rel(7)[1][0]).rhs().N() )\n",
    "print( D1Q7_W_solved[0][1].subs(u1==0).subs(T_0==make_closure_rel(7)[1][0]).rhs().N() )\n",
    "print( D1Q7_W_solved[0][2].subs(u1==0).subs(T_0==make_closure_rel(7)[1][0]).rhs().N() )\n",
    "print( D1Q7_W_solved[0][3].subs(u1==0).subs(T_0==make_closure_rel(7)[1][0]).rhs().N() )\n",
    "print( D1Q7_W_solved[0][4].subs(u1==0).subs(T_0==make_closure_rel(7)[1][0]).rhs().N() )\n",
    "print( D1Q7_W_solved[0][5].subs(u1==0).subs(T_0==make_closure_rel(7)[1][0]).rhs().N() )\n",
    "print( D1Q7_W_solved[0][6].subs(u1==0).subs(T_0==make_closure_rel(7)[1][0]).rhs().N() )"
   ]
  },
  {
   "cell_type": "code",
   "execution_count": 555,
   "metadata": {
    "collapsed": false
   },
   "outputs": [
    {
     "name": "stdout",
     "output_type": "stream",
     "text": [
      "W0 == -5/12*T_0^3 + 7/6*T_0^2 - 49/36*T_0 + 1\n",
      "W1 == 5/16*T_0^3 - 13/16*T_0^2 + 3/4*T_0\n",
      "W2 == 5/16*T_0^3 - 13/16*T_0^2 + 3/4*T_0\n",
      "W3 == -1/8*T_0^3 + 1/4*T_0^2 - 3/40*T_0\n",
      "W4 == -1/8*T_0^3 + 1/4*T_0^2 - 3/40*T_0\n",
      "W5 == 1/48*T_0^3 - 1/48*T_0^2 + 1/180*T_0\n",
      "W6 == 1/48*T_0^3 - 1/48*T_0^2 + 1/180*T_0\n"
     ]
    }
   ],
   "source": [
    "for i in range(7):\n",
    "    print( D1Q7_W_solved[0][i].subs(u1==0) )"
   ]
  },
  {
   "cell_type": "markdown",
   "metadata": {},
   "source": [
    "Note that Eqns.(7-10) of **Physical Review E 93**, 063302 (2016), \"Entropic Lattice Boltzmann Model for Gas...\" is computed!"
   ]
  },
  {
   "cell_type": "code",
   "execution_count": 543,
   "metadata": {
    "collapsed": true
   },
   "outputs": [],
   "source": [
    "V = [(0,),(1,),(-1,),(2,),(-2,),(3,),(-3,),(5,),(-5,)]\n",
    "D1Q9_W_sys, D1Q9_W_is = make_W_lin_sys(1,9,V,ORDER=8)"
   ]
  },
  {
   "cell_type": "code",
   "execution_count": 544,
   "metadata": {
    "collapsed": true
   },
   "outputs": [],
   "source": [
    "D1Q9_W_solved= W_sys_solver( D1Q9_W_sys, D1Q9_W_is)"
   ]
  },
  {
   "cell_type": "code",
   "execution_count": 547,
   "metadata": {
    "collapsed": false,
    "scrolled": true
   },
   "outputs": [
    {
     "name": "stdout",
     "output_type": "stream",
     "text": [
      "W0 == 0.458135155507677\n",
      "W1 == 0.237342808577940\n",
      "W2 == 0.237342808577940\n",
      "W3 == 0.0323246537886549\n",
      "W4 == 0.0323246537886549\n",
      "W5 == 0.00126406215153651\n",
      "W6 == 0.00126406215153651\n",
      "W7 == (8.97728029819293e-7)\n",
      "W8 == (8.97728029819293e-7)\n"
     ]
    }
   ],
   "source": [
    "print( D1Q9_W_solved[0][0].subs(u1==0).subs(T_0==0.756080852594268 ) )\n",
    "print( D1Q9_W_solved[0][1].subs(u1==0).subs(T_0==0.756080852594268 ) )\n",
    "print( D1Q9_W_solved[0][2].subs(u1==0).subs(T_0==0.756080852594268 ) )\n",
    "print( D1Q9_W_solved[0][3].subs(u1==0).subs(T_0==0.756080852594268 ) )\n",
    "print( D1Q9_W_solved[0][4].subs(u1==0).subs(T_0==0.756080852594268 ) )\n",
    "print( D1Q9_W_solved[0][5].subs(u1==0).subs(T_0==0.756080852594268 ) )\n",
    "print( D1Q9_W_solved[0][6].subs(u1==0).subs(T_0==0.756080852594268 ) )\n",
    "print( D1Q9_W_solved[0][7].subs(u1==0).subs(T_0==0.756080852594268 ) )\n",
    "print( D1Q9_W_solved[0][8].subs(u1==0).subs(T_0==0.756080852594268 ) )"
   ]
  },
  {
   "cell_type": "code",
   "execution_count": 548,
   "metadata": {
    "collapsed": true
   },
   "outputs": [],
   "source": [
    "V = [(0,),(1,),(-1,),(2,),(-2,),(3,),(-3,),(4,),(-4,),(5,),(-5,)]\n",
    "D1Q11_W_sys, D1Q11_W_is = make_W_lin_sys(1,11,V,ORDER=10)"
   ]
  },
  {
   "cell_type": "code",
   "execution_count": 549,
   "metadata": {
    "collapsed": true
   },
   "outputs": [],
   "source": [
    "D1Q11_W_solved= W_sys_solver( D1Q11_W_sys, D1Q11_W_is)"
   ]
  },
  {
   "cell_type": "code",
   "execution_count": 550,
   "metadata": {
    "collapsed": false
   },
   "outputs": [
    {
     "name": "stdout",
     "output_type": "stream",
     "text": [
      "W0 == 0.386938173756423\n",
      "W1 == 0.241783399935941\n",
      "W2 == 0.241783399935941\n",
      "W3 == 0.0589224589534500\n",
      "W4 == 0.0589224589534500\n",
      "W5 == 0.00561525499547714\n",
      "W6 == 0.00561525499547714\n",
      "W7 == 0.000206524765228670\n",
      "W8 == 0.000206524765228670\n",
      "W9 == (3.27447169225388e-6)\n",
      "W10 == (3.27447169225388e-6)\n"
     ]
    }
   ],
   "source": [
    "for i in range(11):\n",
    "    print( D1Q11_W_solved[0][i].subs(u1==0).subs(T_0==1.06279357749 ) )"
   ]
  },
  {
   "cell_type": "code",
   "execution_count": 551,
   "metadata": {
    "collapsed": true
   },
   "outputs": [],
   "source": [
    "V = [(0,),(1,),(-1,),(2,),(-2,),(3,),(-3,),(4,),(-4,),(5,),(-5,),(7,),(-7,)]\n",
    "D1Q13_W_sys, D1Q13_W_is = make_W_lin_sys(1,13,V,ORDER=12)"
   ]
  },
  {
   "cell_type": "code",
   "execution_count": 552,
   "metadata": {
    "collapsed": true
   },
   "outputs": [],
   "source": [
    "D1Q13_W_solved= W_sys_solver( D1Q13_W_sys, D1Q13_W_is)"
   ]
  },
  {
   "cell_type": "code",
   "execution_count": 554,
   "metadata": {
    "collapsed": false
   },
   "outputs": [
    {
     "name": "stdout",
     "output_type": "stream",
     "text": [
      "W0 == 0.209277700019864\n",
      "W1 == 0.233124580765899\n",
      "W2 == 0.233124580765899\n",
      "W3 == 0.0940510743102689\n",
      "W4 == 0.0940510743102689\n",
      "W5 == 0.0569233844131427\n",
      "W6 == 0.0569233844131427\n",
      "W7 == 0.00750076758077400\n",
      "W8 == 0.00750076758077400\n",
      "W9 == 0.00370055858049668\n",
      "W10 == 0.00370055858049668\n",
      "W11 == 0.0000607843394884751\n",
      "W12 == 0.0000607843394884751\n"
     ]
    }
   ],
   "source": [
    "for i in range(13):\n",
    "    print( D1Q13_W_solved[0][i].subs(u1==0).subs(T_0==2.67428803233 ) )"
   ]
  },
  {
   "cell_type": "markdown",
   "metadata": {},
   "source": [
    "#### Analytical solution to quadratic system of equations, in terms of Lagrange multipliers, for minimizing the entropy $H$, while constraining for conservation laws (mass, momentum, energy), found in Ansumali, Karlin, Ottinger, Europhys. Lett., 63 (6), 2003, *Minimal entropic kinetic models for hydrodynamics*"
   ]
  },
  {
   "cell_type": "code",
   "execution_count": null,
   "metadata": {
    "collapsed": true
   },
   "outputs": [],
   "source": []
  }
 ],
 "metadata": {
  "kernelspec": {
   "display_name": "SageMath 7.2.rc0",
   "language": "",
   "name": "sagemath"
  },
  "language_info": {
   "codemirror_mode": {
    "name": "ipython",
    "version": 2
   },
   "file_extension": ".py",
   "mimetype": "text/x-python",
   "name": "python",
   "nbconvert_exporter": "python",
   "pygments_lexer": "ipython2",
   "version": "2.7.10"
  }
 },
 "nbformat": 4,
 "nbformat_minor": 0
}
