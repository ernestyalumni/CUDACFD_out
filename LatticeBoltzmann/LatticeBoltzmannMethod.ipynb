{
 "cells": [
  {
   "cell_type": "markdown",
   "metadata": {
    "collapsed": true
   },
   "source": [
    "# Lattice Boltzmann Method"
   ]
  },
  {
   "cell_type": "code",
   "execution_count": 1,
   "metadata": {
    "collapsed": true
   },
   "outputs": [],
   "source": [
    "import sympy"
   ]
  },
  {
   "cell_type": "code",
   "execution_count": 2,
   "metadata": {
    "collapsed": true
   },
   "outputs": [],
   "source": [
    "from sympy import exp, integrate, pi, sqrt, Symbol, symbols, oo"
   ]
  },
  {
   "cell_type": "code",
   "execution_count": 3,
   "metadata": {
    "collapsed": true
   },
   "outputs": [],
   "source": [
    "from sympy import Abs, Q, periodic_argument, polar_lift, refine"
   ]
  },
  {
   "cell_type": "code",
   "execution_count": 4,
   "metadata": {
    "collapsed": true
   },
   "outputs": [],
   "source": [
    "from sympy import cos"
   ]
  },
  {
   "cell_type": "code",
   "execution_count": 5,
   "metadata": {
    "collapsed": true
   },
   "outputs": [],
   "source": [
    "from sympy import Rational as Rat"
   ]
  },
  {
   "cell_type": "markdown",
   "metadata": {},
   "source": [
    "# $d2q9$  "
   ]
  },
  {
   "cell_type": "markdown",
   "metadata": {},
   "source": [
    "cf.Jonas Tölke.  *Implementation of a Lattice Boltzmann kernel using the Compute\n",
    "Unified Device Architecture developed by nVIDIA.* **Comput. Visual Sci.** DOI 10.1007/s00791-008-0120-2"
   ]
  },
  {
   "cell_type": "markdown",
   "metadata": {},
   "source": [
    "### Affine Spaces"
   ]
  },
  {
   "cell_type": "markdown",
   "metadata": {
    "collapsed": true
   },
   "source": [
    "# Lattices, that are \"sufficiently\" Galilean invariant, through non-perturbative algebraic theory  \n",
    "cf. [http://staff.polito.it/pietro.asinari/publications/preprint_Asinari_PA_2010a.pdf](http://staff.polito.it/pietro.asinari/publications/preprint_Asinari_PA_2010a.pdf), I. Karlin and P. Asinari, *Factorization symmetry in the lattice Boltzmann method*.  **Physica A 389**, 1530 (2010).  The prepaper that this seemd to be based upon and had some more calculation details is [](https://arxiv.org/abs/0911.5529)"
   ]
  },
  {
   "cell_type": "markdown",
   "metadata": {},
   "source": [
    "## Maxwell Lattices in 1-dim.\n",
    "### Maxwell's (M) moment relations"
   ]
  },
  {
   "cell_type": "code",
   "execution_count": 19,
   "metadata": {
    "collapsed": true
   },
   "outputs": [],
   "source": [
    "#u = Symbol(\"u\",assume=\"real\")\n",
    "u = Symbol(\"u\",real=True)\n",
    "#T_0 =Symbol(\"T_0\",assume=\"positive\")\n",
    "T_0 =Symbol(\"T_0\",real=True,positive=True)"
   ]
  },
  {
   "cell_type": "code",
   "execution_count": 30,
   "metadata": {
    "collapsed": true
   },
   "outputs": [],
   "source": [
    "#v = Symbol(\"v\",assume=\"real\")\n",
    "v = Symbol(\"v\",real=True)"
   ]
  },
  {
   "cell_type": "code",
   "execution_count": 37,
   "metadata": {
    "collapsed": false
   },
   "outputs": [],
   "source": [
    "#phi_v = sqrt( pi/(Rat(2)*T_0))*exp( - (v-u)**2/(Rat(2)*T_0))\n",
    "phi_v = sqrt( pi/(2*T_0))*exp( - (v-u)**2/(2*T_0))"
   ]
  },
  {
   "cell_type": "code",
   "execution_count": 38,
   "metadata": {
    "collapsed": false
   },
   "outputs": [
    {
     "data": {
      "text/plain": [
       "pi*sqrt(T_0)*sqrt(1/T_0)*erf(sqrt(2)*(-u + v)/(2*sqrt(T_0)))/2"
      ]
     },
     "execution_count": 38,
     "metadata": {},
     "output_type": "execute_result"
    }
   ],
   "source": [
    "integrate(phi_v,v)"
   ]
  },
  {
   "cell_type": "code",
   "execution_count": 39,
   "metadata": {
    "collapsed": false
   },
   "outputs": [
    {
     "data": {
      "text/plain": [
       "Piecewise((pi*(-erfc(sqrt(2)*u/(2*sqrt(T_0))) + 2)/2 + pi*erfc(sqrt(2)*u/(2*sqrt(T_0)))/2, And(Or(Abs(periodic_argument(1/polar_lift(T_0), oo)) < pi/2, And(Abs(periodic_argument(1/polar_lift(T_0), oo)) < pi/2, Abs(periodic_argument(exp_polar(2*I*pi)*polar_lift(u)**2/polar_lift(T_0)**2, oo)) < pi), And(Abs(periodic_argument(1/polar_lift(T_0), oo)) < pi/2, Abs(periodic_argument(exp_polar(2*I*pi)*polar_lift(u)**2/polar_lift(T_0)**2, oo)) <= pi), And(Abs(periodic_argument(1/polar_lift(T_0), oo)) <= pi/2, Abs(periodic_argument(exp_polar(2*I*pi)*polar_lift(u)**2/polar_lift(T_0)**2, oo)) < pi)), Or(Abs(periodic_argument(1/polar_lift(T_0), oo)) < pi/2, And(Abs(periodic_argument(1/polar_lift(T_0), oo)) < pi/2, Abs(periodic_argument(polar_lift(u)**2/polar_lift(T_0)**2, oo)) < pi), And(Abs(periodic_argument(1/polar_lift(T_0), oo)) < pi/2, Abs(periodic_argument(polar_lift(u)**2/polar_lift(T_0)**2, oo)) <= pi), And(Abs(periodic_argument(1/polar_lift(T_0), oo)) <= pi/2, Abs(periodic_argument(polar_lift(u)**2/polar_lift(T_0)**2, oo)) < pi)))), (Integral(sqrt(2)*sqrt(pi)*sqrt(1/T_0)*exp(-(-u + v)**2/(2*T_0))/2, (v, -oo, oo)), True))"
      ]
     },
     "execution_count": 39,
     "metadata": {},
     "output_type": "execute_result"
    }
   ],
   "source": [
    "integrate(phi_v,(v,-oo,oo))"
   ]
  },
  {
   "cell_type": "code",
   "execution_count": 40,
   "metadata": {
    "collapsed": false
   },
   "outputs": [
    {
     "data": {
      "text/plain": [
       "pi*sqrt(T_0)*sqrt(1/T_0)*erf(sqrt(2)*v/(2*sqrt(T_0)) - oo/sqrt(T_0))/2 - pi*sqrt(T_0)*sqrt(1/T_0)*erf(sqrt(2)*v/(2*sqrt(T_0)) + oo/sqrt(T_0))/2"
      ]
     },
     "execution_count": 40,
     "metadata": {},
     "output_type": "execute_result"
    }
   ],
   "source": [
    "(integrate(phi_v,v).subs(u,oo)- integrate(phi_v,v).subs(u,-oo)).expand()"
   ]
  },
  {
   "cell_type": "code",
   "execution_count": 41,
   "metadata": {
    "collapsed": false
   },
   "outputs": [
    {
     "data": {
      "text/plain": [
       "pi*(-erfc(sqrt(2)*u/(2*sqrt(T_0))) + 2)/2 + pi*erfc(sqrt(2)*u/(2*sqrt(T_0)))/2"
      ]
     },
     "execution_count": 41,
     "metadata": {},
     "output_type": "execute_result"
    }
   ],
   "source": [
    "integrate(phi_v,(v,-oo,oo),conds='none')"
   ]
  },
  {
   "cell_type": "code",
   "execution_count": 42,
   "metadata": {
    "collapsed": false
   },
   "outputs": [
    {
     "data": {
      "text/plain": [
       "(pi*(-erfc(sqrt(2)*u/(2*sqrt(T_0))) + 2)/2 + pi*erfc(sqrt(2)*u/(2*sqrt(T_0)))/2,\n",
       " And(Or(Abs(periodic_argument(1/polar_lift(T_0), oo)) < pi/2, And(Abs(periodic_argument(1/polar_lift(T_0), oo)) < pi/2, Abs(periodic_argument(exp_polar(2*I*pi)*polar_lift(u)**2/polar_lift(T_0)**2, oo)) < pi), And(Abs(periodic_argument(1/polar_lift(T_0), oo)) < pi/2, Abs(periodic_argument(exp_polar(2*I*pi)*polar_lift(u)**2/polar_lift(T_0)**2, oo)) <= pi), And(Abs(periodic_argument(1/polar_lift(T_0), oo)) <= pi/2, Abs(periodic_argument(exp_polar(2*I*pi)*polar_lift(u)**2/polar_lift(T_0)**2, oo)) < pi)), Or(Abs(periodic_argument(1/polar_lift(T_0), oo)) < pi/2, And(Abs(periodic_argument(1/polar_lift(T_0), oo)) < pi/2, Abs(periodic_argument(polar_lift(u)**2/polar_lift(T_0)**2, oo)) < pi), And(Abs(periodic_argument(1/polar_lift(T_0), oo)) < pi/2, Abs(periodic_argument(polar_lift(u)**2/polar_lift(T_0)**2, oo)) <= pi), And(Abs(periodic_argument(1/polar_lift(T_0), oo)) <= pi/2, Abs(periodic_argument(polar_lift(u)**2/polar_lift(T_0)**2, oo)) < pi))))"
      ]
     },
     "execution_count": 42,
     "metadata": {},
     "output_type": "execute_result"
    }
   ],
   "source": [
    "integrate(phi_v,(v,-oo,oo),conds='separate')"
   ]
  },
  {
   "cell_type": "markdown",
   "metadata": {},
   "source": [
    "cf. http://stackoverflow.com/questions/16599325/simplify-conditional-integrals-in-sympy"
   ]
  },
  {
   "cell_type": "code",
   "execution_count": 51,
   "metadata": {
    "collapsed": false
   },
   "outputs": [
    {
     "data": {
      "text/plain": [
       "Piecewise((pi*(-erfc(sqrt(2)*u/(2*sqrt(T_0))) + 2)/2 + pi*erfc(sqrt(2)*u/(2*sqrt(T_0)))/2, And(Or(Abs(periodic_argument(1/polar_lift(T_0), oo)) < pi/2, And(Abs(periodic_argument(1/polar_lift(T_0), oo)) < pi/2, Abs(periodic_argument(exp_polar(2*I*pi)*polar_lift(u)**2/polar_lift(T_0)**2, oo)) < pi), And(Abs(periodic_argument(1/polar_lift(T_0), oo)) < pi/2, Abs(periodic_argument(exp_polar(2*I*pi)*polar_lift(u)**2/polar_lift(T_0)**2, oo)) <= pi), And(Abs(periodic_argument(1/polar_lift(T_0), oo)) <= pi/2, Abs(periodic_argument(exp_polar(2*I*pi)*polar_lift(u)**2/polar_lift(T_0)**2, oo)) < pi)), Or(Abs(periodic_argument(1/polar_lift(T_0), oo)) < pi/2, And(Abs(periodic_argument(1/polar_lift(T_0), oo)) < pi/2, Abs(periodic_argument(polar_lift(u)**2/polar_lift(T_0)**2, oo)) < pi), And(Abs(periodic_argument(1/polar_lift(T_0), oo)) < pi/2, Abs(periodic_argument(polar_lift(u)**2/polar_lift(T_0)**2, oo)) <= pi), And(Abs(periodic_argument(1/polar_lift(T_0), oo)) <= pi/2, Abs(periodic_argument(polar_lift(u)**2/polar_lift(T_0)**2, oo)) < pi)))), (Integral(sqrt(2)*sqrt(pi)*sqrt(1/T_0)*exp(-(-u + v)**2/(2*T_0))/2, (v, -oo, oo)), True))"
      ]
     },
     "execution_count": 51,
     "metadata": {},
     "output_type": "execute_result"
    }
   ],
   "source": [
    "refine(integrate(phi_v,(v,-oo,oo)), Q.is_true(Abs(periodic_argument(1/polar_lift(sqrt(T_0))**2, oo)) <= pi/2))"
   ]
  },
  {
   "cell_type": "code",
   "execution_count": null,
   "metadata": {
    "collapsed": true
   },
   "outputs": [],
   "source": []
  }
 ],
 "metadata": {
  "kernelspec": {
   "display_name": "Python 2",
   "language": "python",
   "name": "python2"
  },
  "language_info": {
   "codemirror_mode": {
    "name": "ipython",
    "version": 2
   },
   "file_extension": ".py",
   "mimetype": "text/x-python",
   "name": "python",
   "nbconvert_exporter": "python",
   "pygments_lexer": "ipython2",
   "version": "2.7.11"
  }
 },
 "nbformat": 4,
 "nbformat_minor": 0
}
